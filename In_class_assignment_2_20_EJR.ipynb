{
  "nbformat": 4,
  "nbformat_minor": 0,
  "metadata": {
    "colab": {
      "provenance": [],
      "include_colab_link": true
    },
    "kernelspec": {
      "name": "python3",
      "display_name": "Python 3"
    },
    "language_info": {
      "name": "python"
    }
  },
  "cells": [
    {
      "cell_type": "markdown",
      "metadata": {
        "id": "view-in-github",
        "colab_type": "text"
      },
      "source": [
        "<a href=\"https://colab.research.google.com/github/ejrbdx/Advance-Research-Methods-2024/blob/main/In_class_assignment_2_20_EJR.ipynb\" target=\"_parent\"><img src=\"https://colab.research.google.com/assets/colab-badge.svg\" alt=\"Open In Colab\"/></a>"
      ]
    },
    {
      "cell_type": "code",
      "source": [
        "from google.colab import drive\n",
        "drive.mount('/content/drive')"
      ],
      "metadata": {
        "colab": {
          "base_uri": "https://localhost:8080/"
        },
        "id": "YultwxmVxlqM",
        "outputId": "ef9c656d-f91a-4dc7-ac2f-9a5cd2de6fe4"
      },
      "execution_count": 2,
      "outputs": [
        {
          "output_type": "stream",
          "name": "stdout",
          "text": [
            "Mounted at /content/drive\n"
          ]
        }
      ]
    },
    {
      "cell_type": "code",
      "execution_count": 3,
      "metadata": {
        "colab": {
          "base_uri": "https://localhost:8080/"
        },
        "id": "cW7kIlWhN_xk",
        "outputId": "4a474325-6d92-4bab-9044-d5a6e83cf4cc"
      },
      "outputs": [
        {
          "output_type": "stream",
          "name": "stdout",
          "text": [
            "/content/drive/MyDrive/Advanced Research Methods/In class assignments/Class 1 30\n"
          ]
        }
      ],
      "source": [
        "%cd '/content/drive/MyDrive/Advanced Research Methods/In class assignments/Class 1 30'"
      ]
    },
    {
      "cell_type": "code",
      "source": [
        "import torch\n",
        "import torch.nn as nn\n",
        "import matplotlib.pyplot as plt\n",
        "from skimage import io, transform\n",
        "from tqdm import tqdm"
      ],
      "metadata": {
        "id": "DSqPkGMHPzdd"
      },
      "execution_count": 4,
      "outputs": []
    },
    {
      "cell_type": "code",
      "source": [
        "import os\n",
        "import pandas as pd\n",
        "import numpy as np\n",
        "from torch.utils.data import Dataset, DataLoader\n",
        "from torchvision import transforms, utils\n",
        "from pathlib import Path\n",
        "import warnings\n",
        "warnings.filterwarnings(\"ignore\")"
      ],
      "metadata": {
        "id": "NUkpuDB6kfYV"
      },
      "execution_count": 5,
      "outputs": []
    },
    {
      "cell_type": "code",
      "source": [
        "class traffic_sign(Dataset):\n",
        "    def __init__(self, root_dir ):\n",
        "\n",
        "        # initialize dataset variables here\n",
        "        # self.root = root_dir\n",
        "        self.root = Path(root_dir)\n",
        "\n",
        "        self.df = pd.DataFrame(columns = ['image_names','class_label'])\n",
        "\n",
        "        for fldr in self.root.iterdir():\n",
        "          img_names = []\n",
        "          if fldr.is_dir():\n",
        "            img_names = img_names + list(fldr.glob('*.ppm'))\n",
        "\n",
        "          img_names = [i for i in img_names]\n",
        "          df_cur = pd.DataFrame(img_names,columns = ['image_names'])\n",
        "          df_cur['class_label'] = fldr.name\n",
        "          self.df = pd.concat([self.df, df_cur],axis=0)\n",
        "\n",
        "        self.df = self.df.sample(frac=1)\n",
        "\n",
        "        dummies = pd.get_dummies(data = self.df,columns = ['class_label'])\n",
        "        self.df = self.df.merge(dummies, on = 'image_names')\n",
        "\n",
        "        self.image_names = list(self.df['image_names'].values)\n",
        "        self.class_label = self.df.iloc[:,2:].values.tolist()\n",
        "\n",
        "\n",
        "    def __len__(self):\n",
        "        # returns the length of the dataset\n",
        "        return len(self.image_names)\n",
        "\n",
        "    def __getitem__(self, idx):\n",
        "\n",
        "        # preprocess and transformations\n",
        "        # indexes the dataset such that dataset[i] can retrieve the ith sample.\n",
        "        image = self.image_names[idx]\n",
        "        # scale = Rescale(256)\n",
        "        image_data = io.imread(image)\n",
        "        # image_np = Image.fromarray(image_data)\n",
        "\n",
        "        label = torch.tensor(self.class_label[idx])\n",
        "\n",
        "        sample = {'image': image_data, 'label': label}\n",
        "        scale = Rescale((64,64))\n",
        "        sample = scale(sample)\n",
        "\n",
        "        return sample"
      ],
      "metadata": {
        "id": "YJCO-k8xkioF"
      },
      "execution_count": 6,
      "outputs": []
    },
    {
      "cell_type": "code",
      "source": [
        "## transform data\n",
        "class Rescale(object):\n",
        "    \"\"\"Rescale the image in a sample to a given size.\n",
        "\n",
        "    Args:\n",
        "        output_size (tuple or int): Desired output size. If tuple, output is\n",
        "            matched to output_size. If int, smaller of image edges is matched\n",
        "            to output_size keeping aspect ratio the same.\n",
        "    \"\"\"\n",
        "\n",
        "    def __init__(self, output_size):\n",
        "        assert isinstance(output_size, (int, tuple))\n",
        "        self.output_size = output_size\n",
        "\n",
        "    def __call__(self, sample):\n",
        "        image, labels = sample['image'], sample['label']\n",
        "\n",
        "        h, w = image.shape[:2]\n",
        "\n",
        "        if isinstance(self.output_size, int):\n",
        "            if h > w:\n",
        "                new_h, new_w = self.output_size * h / w, self.output_size\n",
        "            else:\n",
        "                new_h, new_w = self.output_size, self.output_size * w / h\n",
        "        else:\n",
        "            new_h, new_w = self.output_size\n",
        "\n",
        "        new_h, new_w = int(new_h), int(new_w)\n",
        "\n",
        "        img = transform.resize(image, (new_h, new_w))\n",
        "\n",
        "        return {'image': img, 'label': labels}"
      ],
      "metadata": {
        "id": "zcYKE-g8mTwK"
      },
      "execution_count": 7,
      "outputs": []
    },
    {
      "cell_type": "code",
      "source": [
        "traffic_sign_dataset = traffic_sign('data/traffic_signs_class')"
      ],
      "metadata": {
        "id": "RkSpM4hXlILQ"
      },
      "execution_count": 8,
      "outputs": []
    },
    {
      "cell_type": "code",
      "source": [
        "df_ = traffic_sign_dataset.df\n",
        "print(df_)"
      ],
      "metadata": {
        "colab": {
          "base_uri": "https://localhost:8080/"
        },
        "id": "tm-xqHrb5X87",
        "outputId": "c939dea7-625e-41d7-f844-0b8f5ce7775a"
      },
      "execution_count": 9,
      "outputs": [
        {
          "output_type": "stream",
          "name": "stdout",
          "text": [
            "                                         image_names class_label  \\\n",
            "0     data/traffic_signs_class/00034/00012_00024.ppm       00034   \n",
            "1     data/traffic_signs_class/00033/00021_00024.ppm       00033   \n",
            "2     data/traffic_signs_class/00034/00002_00007.ppm       00034   \n",
            "3     data/traffic_signs_class/00040/00006_00019.ppm       00040   \n",
            "4     data/traffic_signs_class/00033/00021_00007.ppm       00033   \n",
            "...                                              ...         ...   \n",
            "1804  data/traffic_signs_class/00034/00008_00003.ppm       00034   \n",
            "1805  data/traffic_signs_class/00033/00002_00010.ppm       00033   \n",
            "1806  data/traffic_signs_class/00033/00002_00004.ppm       00033   \n",
            "1807  data/traffic_signs_class/00029/00008_00018.ppm       00029   \n",
            "1808  data/traffic_signs_class/00034/00013_00016.ppm       00034   \n",
            "\n",
            "      class_label_00029  class_label_00033  class_label_00034  \\\n",
            "0                     0                  0                  1   \n",
            "1                     0                  1                  0   \n",
            "2                     0                  0                  1   \n",
            "3                     0                  0                  0   \n",
            "4                     0                  1                  0   \n",
            "...                 ...                ...                ...   \n",
            "1804                  0                  0                  1   \n",
            "1805                  0                  1                  0   \n",
            "1806                  0                  1                  0   \n",
            "1807                  1                  0                  0   \n",
            "1808                  0                  0                  1   \n",
            "\n",
            "      class_label_00040  \n",
            "0                     0  \n",
            "1                     0  \n",
            "2                     0  \n",
            "3                     1  \n",
            "4                     0  \n",
            "...                 ...  \n",
            "1804                  0  \n",
            "1805                  0  \n",
            "1806                  0  \n",
            "1807                  0  \n",
            "1808                  0  \n",
            "\n",
            "[1809 rows x 6 columns]\n"
          ]
        }
      ]
    },
    {
      "cell_type": "code",
      "source": [
        "# dummies = pd.get_dummies(data = df_,columns = ['class_label'])\n",
        "# df_ = df_.merge(dummies, on = 'image_names')\n",
        "# print(dummies)"
      ],
      "metadata": {
        "id": "hn3NltMD2-pU"
      },
      "execution_count": 10,
      "outputs": []
    },
    {
      "cell_type": "code",
      "source": [
        "traffic_sign_dataset[10]['image'].reshape(-1,1).shape"
      ],
      "metadata": {
        "colab": {
          "base_uri": "https://localhost:8080/"
        },
        "id": "2EY6IrooKbCC",
        "outputId": "7d5b4f8d-a274-4f5c-e721-c8973d87ab60"
      },
      "execution_count": 11,
      "outputs": [
        {
          "output_type": "execute_result",
          "data": {
            "text/plain": [
              "(12288, 1)"
            ]
          },
          "metadata": {},
          "execution_count": 11
        }
      ]
    },
    {
      "cell_type": "code",
      "source": [
        "traffic_sign_dataset[20]['label']"
      ],
      "metadata": {
        "colab": {
          "base_uri": "https://localhost:8080/"
        },
        "id": "zfDc-aFiPp53",
        "outputId": "af21348e-20ab-472d-d6bd-5bc8f60dda99"
      },
      "execution_count": 12,
      "outputs": [
        {
          "output_type": "execute_result",
          "data": {
            "text/plain": [
              "tensor([1, 0, 0, 0])"
            ]
          },
          "metadata": {},
          "execution_count": 12
        }
      ]
    },
    {
      "cell_type": "code",
      "source": [
        "plt.imshow(traffic_sign_dataset[10]['image'])"
      ],
      "metadata": {
        "colab": {
          "base_uri": "https://localhost:8080/",
          "height": 449
        },
        "id": "TBO99nxEliPn",
        "outputId": "c1ff6a88-ec3d-4a03-a023-a23310100690"
      },
      "execution_count": 13,
      "outputs": [
        {
          "output_type": "execute_result",
          "data": {
            "text/plain": [
              "<matplotlib.image.AxesImage at 0x796d79914ca0>"
            ]
          },
          "metadata": {},
          "execution_count": 13
        },
        {
          "output_type": "display_data",
          "data": {
            "text/plain": [
              "<Figure size 640x480 with 1 Axes>"
            ],
            "image/png": "[encoded data removed]"
          },
          "metadata": {}
        }
      ]
    },
    {
      "cell_type": "code",
      "source": [
        "for i, sample in enumerate(traffic_sign_dataset):\n",
        "  print(i, sample['image'].shape, sample['label'])\n",
        "  if i == 3:\n",
        "    break"
      ],
      "metadata": {
        "colab": {
          "base_uri": "https://localhost:8080/"
        },
        "id": "_ATEb9nQlygx",
        "outputId": "f130916e-abf1-4da3-b3f0-3d4daf0c8c69"
      },
      "execution_count": 14,
      "outputs": [
        {
          "output_type": "stream",
          "name": "stdout",
          "text": [
            "0 (64, 64, 3) tensor([0, 0, 1, 0])\n",
            "1 (64, 64, 3) tensor([0, 1, 0, 0])\n",
            "2 (64, 64, 3) tensor([0, 0, 1, 0])\n",
            "3 (64, 64, 3) tensor([0, 0, 0, 1])\n"
          ]
        }
      ]
    },
    {
      "cell_type": "code",
      "source": [
        "class ToTensor(object):\n",
        "    def __call__(self, sample):\n",
        "        input, output = sample['image'], sample['label']\n",
        "\n",
        "        return {'image': torch.tensor(np.array(input),dtype=torch.float32).reshape(16,-1),\n",
        "                'label': torch.tensor(output,dtype=torch.float32).reshape(16,-1)}"
      ],
      "metadata": {
        "id": "_MuT6zJiov8i"
      },
      "execution_count": 15,
      "outputs": []
    },
    {
      "cell_type": "code",
      "source": [
        "ts = ToTensor()"
      ],
      "metadata": {
        "id": "Cxuegp5nuR2x"
      },
      "execution_count": 19,
      "outputs": []
    },
    {
      "cell_type": "code",
      "source": [
        "bs = 16\n",
        "\n",
        "dataloader = DataLoader(traffic_sign_dataset, batch_size=bs, shuffle=True, num_workers=4,drop_last=True)\n"
      ],
      "metadata": {
        "id": "KeZ025WOsHbz"
      },
      "execution_count": 20,
      "outputs": []
    },
    {
      "cell_type": "code",
      "source": [
        "## how will we add softmax to this\n",
        "model = nn.Sequential(\n",
        "        nn.Linear(12288, 256),\n",
        "        nn.ReLU(),\n",
        "        nn.Linear(256, 128),\n",
        "        nn.ReLU(),\n",
        "        nn.Linear(128, 64),\n",
        "        nn.ReLU(),\n",
        "        nn.Linear(64, 4),\n",
        "        nn.Softmax()\n",
        "        )\n"
      ],
      "metadata": {
        "id": "pOkMxsRiqYVX"
      },
      "execution_count": 21,
      "outputs": []
    },
    {
      "cell_type": "code",
      "source": [
        "for i, sample in enumerate(dataloader):\n",
        "  # print (sample['image'].size())\n",
        "  sample = ts(sample)\n",
        "  print (sample['image'].size(), sample['label'].size())\n",
        "  if i == 2:\n",
        "    break"
      ],
      "metadata": {
        "colab": {
          "base_uri": "https://localhost:8080/"
        },
        "id": "UiIJLQXSsgW0",
        "outputId": "6b0db642-74b2-474f-f402-4a82018aac50"
      },
      "execution_count": 22,
      "outputs": [
        {
          "output_type": "stream",
          "name": "stdout",
          "text": [
            "torch.Size([16, 12288]) torch.Size([16, 4])\n",
            "torch.Size([16, 12288]) torch.Size([16, 4])\n",
            "torch.Size([16, 12288]) torch.Size([16, 4])\n"
          ]
        }
      ]
    },
    {
      "cell_type": "code",
      "source": [
        "criterion = nn.CrossEntropyLoss()\n",
        "# criterion = nn.MSELoss()\n",
        "optimizer = torch.optim.Adam(model.parameters(), lr=0.001)"
      ],
      "metadata": {
        "id": "7KDt24KlubHP"
      },
      "execution_count": 23,
      "outputs": []
    },
    {
      "cell_type": "code",
      "source": [
        "mean_loss = []\n",
        "losses = []\n",
        "test_losses = []\n",
        "mean_test_loss = []\n",
        "ts = ToTensor()\n",
        "n_epochs = 10\n",
        "acc = []\n",
        "for it in tqdm(range(n_epochs)):\n",
        "  # zero the parameter gradients\n",
        "  for i_batch, sample_batched in enumerate(dataloader):\n",
        "    optimizer.zero_grad()\n",
        "    sample_batched = ts(sample_batched)\n",
        "    outputs = model(sample_batched['image'])\n",
        "    loss = criterion(outputs, sample_batched['label'])\n",
        "    losses.append(loss.item())\n",
        "\n",
        "    for idx, x in enumerate(sample_batched):\n",
        "      rout = torch.round(outputs[idx])\n",
        "      targets = sample_batched['label'][idx]\n",
        "      real = max((v,i) for i, v in enumerate(targets))[1]\n",
        "      test = max((v,i) for i, v in enumerate(rout) )[1]\n",
        "\n",
        "      if real == test: # in the case would it be 100% accurate or 0% since it should only have one value in the list? I know usually it's a probably so not sure if this what I want.\n",
        "        acc_ = 100\n",
        "      else:\n",
        "        acc_ = 0\n",
        "    acc.append(acc_)\n",
        "    loss.backward()\n",
        "    optimizer.step()\n",
        "    mean_loss.append(np.mean(losses))\n",
        "\n",
        "  print(f'Epoch {it+1}/{n_epochs}, Training Loss: {np.mean(losses):.4f}')\n"
      ],
      "metadata": {
        "colab": {
          "base_uri": "https://localhost:8080/"
        },
        "id": "LZN9emwuvAbN",
        "outputId": "247b94e8-a49b-4f96-b292-96dddf313f34"
      },
      "execution_count": 90,
      "outputs": [
        {
          "output_type": "stream",
          "name": "stderr",
          "text": [
            " 10%|█         | 1/10 [00:20<03:06, 20.73s/it]"
          ]
        },
        {
          "output_type": "stream",
          "name": "stdout",
          "text": [
            "Epoch 1/10, Training Loss: 1.3294\n"
          ]
        },
        {
          "output_type": "stream",
          "name": "stderr",
          "text": [
            "\r 20%|██        | 2/10 [00:41<02:47, 20.99s/it]"
          ]
        },
        {
          "output_type": "stream",
          "name": "stdout",
          "text": [
            "Epoch 2/10, Training Loss: 1.3297\n"
          ]
        },
        {
          "output_type": "stream",
          "name": "stderr",
          "text": [
            "\r 30%|███       | 3/10 [01:00<02:19, 19.95s/it]"
          ]
        },
        {
          "output_type": "stream",
          "name": "stdout",
          "text": [
            "Epoch 3/10, Training Loss: 1.3296\n"
          ]
        },
        {
          "output_type": "stream",
          "name": "stderr",
          "text": [
            "\r 40%|████      | 4/10 [01:21<02:02, 20.35s/it]"
          ]
        },
        {
          "output_type": "stream",
          "name": "stdout",
          "text": [
            "Epoch 4/10, Training Loss: 1.3295\n"
          ]
        },
        {
          "output_type": "stream",
          "name": "stderr",
          "text": [
            "\r 50%|█████     | 5/10 [01:42<01:42, 20.54s/it]"
          ]
        },
        {
          "output_type": "stream",
          "name": "stdout",
          "text": [
            "Epoch 5/10, Training Loss: 1.3296\n"
          ]
        },
        {
          "output_type": "stream",
          "name": "stderr",
          "text": [
            "\r 60%|██████    | 6/10 [02:01<01:20, 20.04s/it]"
          ]
        },
        {
          "output_type": "stream",
          "name": "stdout",
          "text": [
            "Epoch 6/10, Training Loss: 1.3297\n"
          ]
        },
        {
          "output_type": "stream",
          "name": "stderr",
          "text": [
            "\r 70%|███████   | 7/10 [02:22<01:00, 20.28s/it]"
          ]
        },
        {
          "output_type": "stream",
          "name": "stdout",
          "text": [
            "Epoch 7/10, Training Loss: 1.3297\n"
          ]
        },
        {
          "output_type": "stream",
          "name": "stderr",
          "text": [
            "\r 80%|████████  | 8/10 [02:41<00:39, 19.97s/it]"
          ]
        },
        {
          "output_type": "stream",
          "name": "stdout",
          "text": [
            "Epoch 8/10, Training Loss: 1.3297\n"
          ]
        },
        {
          "output_type": "stream",
          "name": "stderr",
          "text": [
            "\r 90%|█████████ | 9/10 [03:01<00:20, 20.07s/it]"
          ]
        },
        {
          "output_type": "stream",
          "name": "stdout",
          "text": [
            "Epoch 9/10, Training Loss: 1.3298\n"
          ]
        },
        {
          "output_type": "stream",
          "name": "stderr",
          "text": [
            "100%|██████████| 10/10 [03:21<00:00, 20.12s/it]"
          ]
        },
        {
          "output_type": "stream",
          "name": "stdout",
          "text": [
            "Epoch 10/10, Training Loss: 1.3297\n"
          ]
        },
        {
          "output_type": "stream",
          "name": "stderr",
          "text": [
            "\n"
          ]
        }
      ]
    },
    {
      "cell_type": "code",
      "source": [
        "print(acc)\n",
        "#I kind of did it but I feel like this isn't what you are looking for"
      ],
      "metadata": {
        "colab": {
          "base_uri": "https://localhost:8080/"
        },
        "id": "VF7ufhZ4xmEO",
        "outputId": "281d7aeb-331c-400f-ec05-5282e367ec26"
      },
      "execution_count": 91,
      "outputs": [
        {
          "output_type": "stream",
          "name": "stdout",
          "text": [
            "[100, 100, 0, 0, 100, 0, 0, 0, 100, 0, 0, 0, 0, 100, 100, 0, 0, 100, 100, 0, 100, 0, 100, 0, 100, 100, 0, 0, 0, 0, 0, 0, 100, 0, 100, 0, 0, 100, 0, 0, 100, 0, 100, 100, 100, 100, 100, 0, 100, 0, 100, 0, 100, 100, 100, 0, 0, 0, 0, 0, 100, 0, 100, 100, 0, 0, 0, 0, 0, 100, 100, 0, 100, 100, 100, 0, 0, 100, 0, 0, 100, 0, 0, 0, 100, 0, 0, 100, 100, 100, 100, 0, 0, 100, 0, 0, 0, 0, 0, 100, 100, 100, 0, 0, 0, 0, 0, 0, 0, 100, 0, 0, 0, 0, 100, 0, 0, 100, 100, 0, 0, 0, 100, 0, 100, 100, 0, 0, 0, 0, 100, 0, 0, 100, 0, 100, 100, 100, 100, 0, 0, 0, 100, 100, 0, 100, 100, 0, 100, 100, 0, 100, 0, 0, 0, 100, 100, 0, 100, 100, 100, 0, 100, 0, 100, 100, 100, 100, 0, 100, 0, 0, 0, 100, 100, 100, 0, 0, 0, 0, 0, 0, 100, 100, 100, 100, 0, 0, 0, 100, 0, 0, 0, 0, 100, 100, 100, 100, 100, 100, 0, 100, 100, 100, 0, 0, 100, 100, 0, 100, 0, 0, 0, 100, 100, 0, 0, 0, 0, 0, 100, 0, 100, 100, 100, 0, 100, 100, 0, 100, 100, 0, 0, 0, 100, 0, 100, 0, 100, 100, 100, 100, 100, 0, 0, 0, 0, 0, 100, 0, 100, 100, 100, 0, 100, 100, 100, 0, 0, 0, 0, 100, 0, 100, 0, 100, 0, 100, 100, 100, 100, 0, 100, 0, 100, 0, 0, 100, 100, 100, 0, 0, 0, 100, 0, 100, 100, 0, 100, 100, 100, 0, 0, 0, 0, 100, 0, 0, 0, 100, 100, 100, 0, 0, 0, 100, 0, 0, 0, 0, 0, 100, 100, 0, 0, 100, 0, 100, 100, 100, 100, 0, 0, 0, 0, 0, 100, 100, 0, 100, 0, 0, 0, 0, 0, 100, 0, 0, 0, 0, 0, 100, 0, 0, 0, 0, 0, 0, 0, 100, 0, 0, 100, 0, 100, 0, 100, 100, 0, 0, 0, 0, 0, 100, 100, 0, 100, 0, 100, 0, 0, 0, 0, 100, 100, 100, 100, 0, 100, 0, 100, 0, 0, 0, 0, 0, 100, 0, 0, 100, 0, 100, 0, 0, 0, 100, 100, 100, 100, 100, 0, 0, 100, 0, 100, 100, 100, 100, 0, 0, 0, 0, 0, 100, 0, 0, 100, 0, 0, 0, 0, 0, 100, 0, 0, 100, 0, 0, 100, 100, 100, 0, 0, 100, 100, 100, 100, 0, 0, 0, 0, 0, 0, 100, 0, 0, 100, 100, 100, 0, 0, 100, 100, 100, 100, 100, 100, 100, 0, 0, 0, 100, 100, 0, 0, 100, 100, 100, 0, 0, 100, 100, 100, 0, 0, 100, 100, 0, 0, 0, 100, 100, 0, 100, 100, 0, 0, 0, 100, 0, 0, 100, 100, 0, 0, 0, 0, 100, 0, 100, 0, 0, 0, 100, 100, 0, 100, 100, 100, 0, 100, 0, 100, 0, 0, 0, 100, 0, 100, 0, 0, 100, 0, 0, 0, 0, 100, 0, 0, 0, 0, 0, 100, 0, 0, 0, 100, 100, 0, 0, 0, 0, 0, 0, 0, 100, 0, 100, 0, 100, 100, 0, 0, 100, 0, 0, 0, 100, 100, 0, 100, 100, 0, 100, 0, 100, 0, 100, 100, 0, 0, 100, 100, 100, 100, 100, 100, 0, 0, 0, 100, 0, 0, 100, 100, 0, 0, 0, 100, 100, 0, 0, 100, 100, 100, 0, 100, 100, 100, 100, 0, 0, 100, 0, 100, 0, 100, 100, 100, 0, 0, 0, 0, 0, 0, 0, 0, 100, 100, 0, 0, 0, 0, 0, 100, 0, 0, 0, 0, 0, 100, 100, 0, 100, 100, 0, 0, 0, 0, 0, 0, 0, 0, 0, 100, 0, 100, 100, 0, 0, 100, 0, 100, 100, 0, 0, 0, 100, 100, 100, 0, 0, 100, 0, 100, 0, 0, 0, 0, 0, 100, 100, 0, 100, 0, 0, 0, 100, 0, 100, 100, 0, 0, 100, 0, 0, 0, 0, 0, 0, 0, 0, 0, 100, 0, 0, 0, 0, 0, 0, 100, 100, 0, 0, 100, 0, 0, 100, 100, 100, 0, 0, 0, 100, 0, 0, 0, 0, 100, 0, 0, 0, 0, 0, 0, 0, 0, 0, 0, 0, 0, 0, 0, 0, 100, 0, 100, 100, 0, 0, 0, 0, 0, 100, 100, 0, 100, 100, 0, 0, 0, 0, 0, 100, 100, 0, 0, 100, 100, 0, 100, 100, 100, 0, 100, 100, 100, 0, 0, 100, 0, 0, 100, 100, 100, 100, 0, 0, 0, 0, 100, 100, 0, 100, 100, 0, 100, 0, 0, 0, 100, 0, 0, 100, 0, 0, 100, 0, 0, 100, 0, 0, 0, 100, 0, 0, 100, 100, 0, 0, 0, 100, 0, 100, 100, 100, 0, 100, 0, 0, 0, 100, 100, 0, 100, 0, 0, 0, 100, 0, 100, 100, 100, 0, 0, 0, 100, 0, 100, 0, 0, 0, 100, 0, 0, 0, 0, 0, 100, 0, 100, 100, 0, 0, 100, 0, 100, 100, 0, 100, 100, 0, 100, 0, 0, 100, 100, 100, 100, 0, 0, 100, 0, 0, 100, 100, 100, 0, 0, 100, 100, 100, 0, 100, 0, 0, 0, 0, 100, 100, 0, 0, 100, 0, 0, 0, 0, 0, 0, 100, 100, 0, 0, 0, 100, 100, 0, 0, 100, 0, 0, 0, 0, 100, 0, 100, 0, 0, 100, 0, 0, 0, 100, 100, 0, 100, 100, 0, 0, 100, 0, 0, 0, 100, 100, 100, 0, 0, 100, 100, 0, 0, 0, 0, 100, 0, 0, 100, 100, 100, 100, 0, 0, 0, 0, 0, 100, 0, 0, 100, 100, 0, 100, 0, 0, 0, 100, 100, 0, 0, 0, 0, 0, 100, 0, 0, 0, 0, 100, 0, 0, 0, 0, 100, 100, 100, 100, 0, 0, 0, 0, 100, 100, 0, 100, 0, 0, 100, 0, 0, 0, 100, 0, 100, 0, 0, 100, 0, 0, 100, 100, 100, 0, 0, 0, 100, 100, 0, 100, 0, 0, 0, 0, 0, 0, 0, 100, 100, 100, 0, 0, 0, 100, 0, 0, 0, 100, 100, 100, 100, 0, 0, 100, 100, 0, 0, 0, 0, 100, 0, 100, 100, 0, 0, 100, 100, 100, 100, 0, 100, 0, 0, 100, 100, 100, 100, 100, 0, 0, 100, 0, 100, 100, 0, 100, 100, 0, 0, 0, 0, 100, 0, 100, 100, 0, 0, 0, 0, 0, 0, 0, 0, 100, 100, 0, 100, 100, 100, 100, 0, 100, 0, 100, 0, 0, 100, 100, 100, 0, 0, 100, 100, 100, 100, 100, 100, 0, 100, 0, 100, 0, 0, 0, 100, 0, 100, 100, 0, 100, 0]\n"
          ]
        }
      ]
    },
    {
      "cell_type": "code",
      "source": [
        "torch.save(model.state_dict(), 'traffic_model.pt')"
      ],
      "metadata": {
        "id": "xA9CwfDfAmX1"
      },
      "execution_count": 92,
      "outputs": []
    },
    {
      "cell_type": "code",
      "source": [
        "## load saved model\n",
        "model_arch = nn.Sequential(\n",
        "        nn.Linear(12288, 256),\n",
        "        nn.ReLU(),\n",
        "        nn.Linear(256, 128),\n",
        "        nn.ReLU(),\n",
        "        nn.Linear(128, 64),\n",
        "        nn.ReLU(),\n",
        "        nn.Linear(64, 4)\n",
        "        )\n",
        "model_arch.load_state_dict(torch.load('traffic_model.pt'))\n",
        "model_arch.eval()"
      ],
      "metadata": {
        "colab": {
          "base_uri": "https://localhost:8080/"
        },
        "id": "YWsGGNSXAsbj",
        "outputId": "94d192a6-b810-458c-b350-98687e86c92d"
      },
      "execution_count": 29,
      "outputs": [
        {
          "output_type": "execute_result",
          "data": {
            "text/plain": [
              "Sequential(\n",
              "  (0): Linear(in_features=12288, out_features=256, bias=True)\n",
              "  (1): ReLU()\n",
              "  (2): Linear(in_features=256, out_features=128, bias=True)\n",
              "  (3): ReLU()\n",
              "  (4): Linear(in_features=128, out_features=64, bias=True)\n",
              "  (5): ReLU()\n",
              "  (6): Linear(in_features=64, out_features=4, bias=True)\n",
              ")"
            ]
          },
          "metadata": {},
          "execution_count": 29
        }
      ]
    },
    {
      "cell_type": "code",
      "source": [
        "ts = ToTensor()\n",
        "for i_batch, sample_batched in enumerate(dataloader):\n",
        "      sample_batched = ts(sample_batched)\n",
        "      outputs = model(sample_batched['image'])\n",
        "      # outputs\n",
        "      print (outputs.reshape(-1).tolist())\n",
        "      print (sample_batched['label'].reshape(-1).tolist())\n",
        "      print ('######')"
      ],
      "metadata": {
        "colab": {
          "base_uri": "https://localhost:8080/"
        },
        "id": "Y-ZPMefC0mhX",
        "outputId": "ca443240-c8ae-480c-a40b-676fafcf9d03"
      },
      "execution_count": 30,
      "outputs": [
        {
          "output_type": "stream",
          "name": "stdout",
          "text": [
            "[0.0, 1.0, 0.0, 0.0, 0.0, 1.0, 0.0, 0.0, 0.0, 1.0, 0.0, 0.0, 3.928005303948512e-26, 1.0, 8.527736762049195e-26, 1.0917340657597876e-25, 0.0, 1.0, 0.0, 0.0, 3.0317523776943017e-33, 1.0, 8.792097507347822e-33, 1.1476246287270388e-32, 0.0, 1.0, 4.203895392974451e-45, 4.203895392974451e-45, 0.0, 1.0, 0.0, 0.0, 0.0, 1.0, 0.0, 0.0, 5.5554342877344014e-27, 1.0, 1.1756907138245924e-26, 1.6384671816319525e-26, 1.299770466948784e-38, 1.0, 3.9103847415711395e-38, 6.47829584679166e-38, 5.271996654521955e-33, 1.0, 1.4960312360771798e-32, 1.983643925213527e-32, 2.1052555309953064e-25, 1.0, 4.43855300031964e-25, 5.5662375529421285e-25, 0.0, 1.0, 0.0, 0.0, 0.0, 1.0, 0.0, 0.0, 0.0, 1.0, 0.0, 0.0]\n",
            "[0.0, 0.0, 1.0, 0.0, 0.0, 0.0, 1.0, 0.0, 0.0, 0.0, 1.0, 0.0, 0.0, 1.0, 0.0, 0.0, 0.0, 1.0, 0.0, 0.0, 0.0, 1.0, 0.0, 0.0, 0.0, 0.0, 1.0, 0.0, 0.0, 1.0, 0.0, 0.0, 0.0, 0.0, 1.0, 0.0, 0.0, 1.0, 0.0, 0.0, 1.0, 0.0, 0.0, 0.0, 0.0, 1.0, 0.0, 0.0, 0.0, 1.0, 0.0, 0.0, 0.0, 1.0, 0.0, 0.0, 0.0, 1.0, 0.0, 0.0, 1.0, 0.0, 0.0, 0.0]\n",
            "######\n",
            "[6.165280158699015e-26, 1.0, 1.3417753625831656e-25, 1.6678865164970058e-25, 5.091649583417578e-37, 1.0, 1.4670811988002847e-36, 2.3649946910058893e-36, 0.0, 1.0, 0.0, 0.0, 2.4085518004814956e-41, 1.0, 8.869378500097497e-41, 1.3083363242015087e-40, 2.2853454498648263e-26, 1.0, 4.980545740078767e-26, 6.354584589239099e-26, 0.0, 1.0, 0.0, 0.0, 0.0, 1.0, 0.0, 0.0, 6.460740910050032e-18, 1.0, 1.0498585433509765e-17, 1.242019465246129e-17, 0.0, 1.0, 0.0, 0.0, 0.0, 1.0, 0.0, 0.0, 2.6190669540082385e-15, 1.0, 3.989930486833016e-15, 4.407765486966458e-15, 1.5444796398225034e-33, 1.0, 3.5832230627551004e-33, 6.455000944878059e-33, 0.0, 1.0, 0.0, 0.0, 6.001173632586322e-28, 1.0, 1.353252364307758e-27, 1.7924056065288577e-27, 0.0, 1.0, 0.0, 0.0, 0.0, 1.0, 0.0, 0.0]\n",
            "[1.0, 0.0, 0.0, 0.0, 1.0, 0.0, 0.0, 0.0, 0.0, 1.0, 0.0, 0.0, 0.0, 1.0, 0.0, 0.0, 0.0, 1.0, 0.0, 0.0, 0.0, 0.0, 1.0, 0.0, 0.0, 0.0, 0.0, 1.0, 0.0, 1.0, 0.0, 0.0, 0.0, 0.0, 0.0, 1.0, 0.0, 0.0, 1.0, 0.0, 0.0, 0.0, 1.0, 0.0, 0.0, 1.0, 0.0, 0.0, 0.0, 0.0, 0.0, 1.0, 0.0, 1.0, 0.0, 0.0, 0.0, 1.0, 0.0, 0.0, 0.0, 1.0, 0.0, 0.0]\n",
            "######\n",
            "[0.0, 1.0, 0.0, 0.0, 2.24758982738385e-26, 1.0, 4.8998514324504795e-26, 6.329761971520672e-26, 0.0, 1.0, 0.0, 0.0, 0.0, 1.0, 0.0, 0.0, 0.0, 1.0, 0.0, 0.0, 0.0, 1.0, 0.0, 0.0, 0.0, 1.0, 0.0, 0.0, 2.2100963778943433e-25, 1.0, 4.489965530703222e-25, 6.0620405761780605e-25, 3.5790616922650186e-30, 1.0, 8.525474964366982e-30, 1.1909005866711702e-29, 3.616128319125114e-38, 1.0, 1.1762045288840073e-37, 1.7271601086468559e-37, 2.61893845911014e-14, 1.0, 3.897438808860877e-14, 4.210544876626608e-14, 2.0918919477674438e-20, 1.0, 3.946641876791018e-20, 4.3924130631875394e-20, 7.120417886773693e-41, 1.0, 2.442729470026378e-40, 3.823442859910263e-40, 0.0, 1.0, 0.0, 0.0, 2.7928663121133626e-39, 1.0, 9.394020441245316e-39, 1.3725065452977208e-38, 0.0, 1.0, 0.0, 0.0]\n",
            "[0.0, 0.0, 1.0, 0.0, 0.0, 1.0, 0.0, 0.0, 0.0, 0.0, 0.0, 1.0, 0.0, 0.0, 1.0, 0.0, 0.0, 0.0, 1.0, 0.0, 0.0, 0.0, 1.0, 0.0, 0.0, 0.0, 1.0, 0.0, 1.0, 0.0, 0.0, 0.0, 1.0, 0.0, 0.0, 0.0, 0.0, 1.0, 0.0, 0.0, 0.0, 0.0, 1.0, 0.0, 0.0, 1.0, 0.0, 0.0, 0.0, 0.0, 0.0, 1.0, 0.0, 1.0, 0.0, 0.0, 0.0, 0.0, 0.0, 1.0, 0.0, 0.0, 0.0, 1.0]\n",
            "######\n",
            "[0.0, 1.0, 0.0, 0.0, 0.0, 1.0, 0.0, 0.0, 0.0, 1.0, 0.0, 0.0, 1.6728204318981235e-30, 1.0, 4.26423985800339e-30, 5.6455807610106e-30, 2.4285670405615945e-17, 1.0, 3.8450309560612766e-17, 4.6129546656367205e-17, 0.0, 1.0, 0.0, 0.0, 2.1475440203296682e-36, 1.0, 6.398091486619972e-36, 9.312222625353487e-36, 2.455763025184109e-15, 1.0, 4.002751177522657e-15, 4.0083742057430045e-15, 4.203895392974451e-45, 1.0, 1.401298464324817e-44, 2.6624670822171524e-44, 0.0, 1.0, 0.0, 0.0, 1.383795590999298e-28, 1.0, 3.0570423229767132e-28, 4.383189293691911e-28, 0.0, 1.0, 0.0, 0.0, 0.0, 1.0, 0.0, 0.0, 6.251235945657342e-37, 1.0, 2.000097826459131e-36, 2.774383162948143e-36, 6.661815170899282e-24, 1.0, 1.4102955496397265e-23, 1.6300037247077272e-23, 6.332146619459213e-28, 1.0, 1.4264760282003663e-27, 1.8968732467232712e-27]\n",
            "[0.0, 0.0, 0.0, 1.0, 0.0, 0.0, 1.0, 0.0, 0.0, 1.0, 0.0, 0.0, 0.0, 1.0, 0.0, 0.0, 0.0, 1.0, 0.0, 0.0, 0.0, 1.0, 0.0, 0.0, 0.0, 0.0, 0.0, 1.0, 0.0, 0.0, 0.0, 1.0, 0.0, 1.0, 0.0, 0.0, 0.0, 1.0, 0.0, 0.0, 0.0, 0.0, 0.0, 1.0, 0.0, 0.0, 0.0, 1.0, 1.0, 0.0, 0.0, 0.0, 0.0, 0.0, 1.0, 0.0, 0.0, 1.0, 0.0, 0.0, 1.0, 0.0, 0.0, 0.0]\n",
            "######\n",
            "[2.802596928649634e-45, 1.0, 1.5414283107572988e-44, 1.5414283107572988e-44, 0.0, 1.0, 0.0, 0.0, 0.0, 1.0, 0.0, 0.0, 0.0, 1.0, 0.0, 0.0, 4.379083431455668e-33, 1.0, 1.1837289826233853e-32, 1.649600315994099e-32, 7.677818330912868e-27, 1.0, 1.820931633455946e-26, 2.090776605377557e-26, 0.0, 1.0, 0.0, 0.0, 0.0, 1.0, 0.0, 0.0, 1.3508959505022013e-26, 1.0, 2.9672657823242325e-26, 3.8318789048618386e-26, 0.0, 1.0, 0.0, 0.0, 0.0, 1.0, 0.0, 0.0, 0.0, 1.0, 0.0, 0.0, 0.0, 1.0, 0.0, 0.0, 2.4946943927087085e-36, 1.0, 7.834740877247106e-36, 1.0720674213871235e-35, 0.0, 1.0, 0.0, 0.0, 7.695317784130503e-21, 1.0, 1.486109134221075e-20, 1.6261556586877042e-20]\n",
            "[0.0, 0.0, 1.0, 0.0, 0.0, 0.0, 1.0, 0.0, 0.0, 0.0, 1.0, 0.0, 0.0, 0.0, 1.0, 0.0, 1.0, 0.0, 0.0, 0.0, 0.0, 0.0, 1.0, 0.0, 0.0, 1.0, 0.0, 0.0, 0.0, 0.0, 0.0, 1.0, 0.0, 1.0, 0.0, 0.0, 0.0, 0.0, 0.0, 1.0, 0.0, 0.0, 1.0, 0.0, 0.0, 0.0, 1.0, 0.0, 1.0, 0.0, 0.0, 0.0, 0.0, 0.0, 1.0, 0.0, 0.0, 1.0, 0.0, 0.0, 0.0, 1.0, 0.0, 0.0]\n",
            "######\n",
            "[5.985835333916228e-27, 1.0, 1.3184451094600453e-26, 1.7159071298774122e-26, 0.0, 1.0, 0.0, 0.0, 7.039960934146019e-38, 1.0, 1.7910910440172998e-37, 3.6006446997695263e-37, 2.61893845911014e-14, 1.0, 3.897438808860877e-14, 4.210544876626608e-14, 0.0, 1.0, 0.0, 0.0, 4.203895392974451e-45, 1.0, 1.6815581571897805e-44, 2.942726775082116e-44, 0.0, 1.0, 0.0, 0.0, 1.2160841084463289e-24, 1.0, 2.651090331511651e-24, 3.069575519705061e-24, 0.0, 1.0, 0.0, 0.0, 0.0, 1.0, 0.0, 0.0, 0.0, 1.0, 0.0, 0.0, 1.145113079076954e-40, 1.0, 3.122751588793925e-40, 6.8462538422285425e-40, 3.429356882560068e-14, 1.0, 5.143373452295118e-14, 5.435666904107274e-14, 1.152901527330757e-35, 1.0, 3.308479359912215e-35, 5.004271158048708e-35, 0.0, 1.0, 0.0, 0.0, 7.171568000545251e-28, 1.0, 1.6185191696399673e-27, 2.1322727304779232e-27]\n",
            "[0.0, 1.0, 0.0, 0.0, 0.0, 0.0, 1.0, 0.0, 0.0, 1.0, 0.0, 0.0, 0.0, 0.0, 1.0, 0.0, 0.0, 0.0, 1.0, 0.0, 0.0, 0.0, 1.0, 0.0, 0.0, 0.0, 1.0, 0.0, 0.0, 1.0, 0.0, 0.0, 0.0, 1.0, 0.0, 0.0, 0.0, 1.0, 0.0, 0.0, 0.0, 1.0, 0.0, 0.0, 0.0, 1.0, 0.0, 0.0, 0.0, 0.0, 1.0, 0.0, 1.0, 0.0, 0.0, 0.0, 0.0, 1.0, 0.0, 0.0, 0.0, 0.0, 1.0, 0.0]\n",
            "######\n",
            "[0.0, 1.0, 0.0, 0.0, 7.411500928022657e-22, 1.0, 1.3857127127015438e-21, 1.700533089805573e-21, 0.0, 1.0, 0.0, 0.0, 1.809074075365796e-38, 1.0, 5.22614990945142e-38, 9.075145727118339e-38, 3.9303386151318006e-36, 1.0, 1.1429612675759123e-35, 1.7144272292084275e-35, 2.1122503118462468e-36, 1.0, 5.975746496972694e-36, 9.595298367612357e-36, 0.0, 1.0, 0.0, 0.0, 0.0, 1.0, 0.0, 0.0, 0.0, 1.0, 0.0, 0.0, 1.3360631025163617e-28, 1.0, 2.5294321295231286e-28, 4.4496675805472975e-28, 2.515761736259052e-25, 1.0, 4.9795981825461285e-25, 6.889188352395908e-25, 0.0, 1.0, 0.0, 0.0, 0.0, 1.0, 0.0, 0.0, 9.130691501598396e-26, 1.0, 1.987263756508653e-25, 2.4254093059605307e-25, 3.446590597766756e-21, 1.0, 6.131404800818643e-21, 7.77641056472911e-21, 0.0, 1.0, 0.0, 0.0]\n",
            "[0.0, 0.0, 0.0, 1.0, 0.0, 1.0, 0.0, 0.0, 0.0, 0.0, 1.0, 0.0, 1.0, 0.0, 0.0, 0.0, 1.0, 0.0, 0.0, 0.0, 1.0, 0.0, 0.0, 0.0, 0.0, 0.0, 1.0, 0.0, 1.0, 0.0, 0.0, 0.0, 1.0, 0.0, 0.0, 0.0, 0.0, 1.0, 0.0, 0.0, 0.0, 0.0, 0.0, 1.0, 0.0, 0.0, 1.0, 0.0, 0.0, 0.0, 0.0, 1.0, 0.0, 0.0, 1.0, 0.0, 1.0, 0.0, 0.0, 0.0, 0.0, 1.0, 0.0, 0.0]\n",
            "######\n",
            "[0.0, 1.0, 0.0, 0.0, 0.0, 1.0, 0.0, 0.0, 6.2391145734955875e-28, 1.0, 1.4496805951353159e-27, 1.831582488271594e-27, 1.7145745319667325e-31, 1.0, 4.321372080797987e-31, 6.076005226801477e-31, 0.0, 1.0, 0.0, 0.0, 0.0, 1.0, 0.0, 0.0, 0.0, 1.0, 0.0, 0.0, 0.0, 1.0, 0.0, 0.0, 1.451571779442773e-10, 1.0, 1.8815214664069657e-10, 1.973664981447243e-10, 2.1510834270471263e-31, 1.0, 5.534038854377458e-31, 7.663289354649021e-31, 0.0, 1.0, 0.0, 0.0, 0.0, 1.0, 0.0, 0.0, 0.0, 1.0, 0.0, 0.0, 1.9284540834067566e-31, 1.0, 4.617129280651317e-31, 6.969257741618449e-31, 7.562938150474125e-27, 1.0, 1.6807234712813685e-26, 2.1353506361592462e-26, 0.0, 1.0, 0.0, 0.0]\n",
            "[0.0, 0.0, 0.0, 1.0, 0.0, 0.0, 0.0, 1.0, 1.0, 0.0, 0.0, 0.0, 1.0, 0.0, 0.0, 0.0, 0.0, 0.0, 1.0, 0.0, 1.0, 0.0, 0.0, 0.0, 0.0, 0.0, 1.0, 0.0, 0.0, 0.0, 0.0, 1.0, 0.0, 1.0, 0.0, 0.0, 0.0, 1.0, 0.0, 0.0, 0.0, 1.0, 0.0, 0.0, 0.0, 1.0, 0.0, 0.0, 0.0, 0.0, 1.0, 0.0, 0.0, 0.0, 0.0, 1.0, 1.0, 0.0, 0.0, 0.0, 0.0, 0.0, 1.0, 0.0]\n",
            "######\n",
            "[0.0, 1.0, 0.0, 0.0, 0.0, 1.0, 0.0, 0.0, 1.401298464324817e-45, 1.0, 5.605193857299268e-45, 5.605193857299268e-45, 0.0, 1.0, 0.0, 0.0, 7.747253476147678e-34, 1.0, 1.769809233576666e-33, 3.206691283693598e-33, 2.5750702909873535e-23, 1.0, 4.9589598260500327e-23, 6.363958016939019e-23, 0.0, 1.0, 0.0, 0.0, 1.975662678882273e-40, 1.0, 5.439097950322848e-40, 1.1317474943242239e-39, 0.0, 1.0, 0.0, 0.0, 0.0, 1.0, 0.0, 0.0, 0.0, 1.0, 0.0, 0.0, 8.018650202405901e-41, 1.0, 2.1383534305903844e-40, 4.775513062541831e-40, 0.0, 1.0, 0.0, 0.0, 4.865308268135765e-42, 1.0, 1.5893527182372075e-41, 2.8771460069517144e-41, 3.4874307251904905e-36, 1.0, 9.836042250931276e-36, 1.5470254690086842e-35, 9.045152854232743e-29, 1.0, 2.033324372169886e-28, 2.810119567030555e-28]\n",
            "[0.0, 1.0, 0.0, 0.0, 0.0, 0.0, 0.0, 1.0, 0.0, 0.0, 1.0, 0.0, 0.0, 0.0, 0.0, 1.0, 0.0, 0.0, 1.0, 0.0, 0.0, 1.0, 0.0, 0.0, 0.0, 0.0, 1.0, 0.0, 0.0, 1.0, 0.0, 0.0, 1.0, 0.0, 0.0, 0.0, 0.0, 0.0, 0.0, 1.0, 0.0, 0.0, 1.0, 0.0, 0.0, 1.0, 0.0, 0.0, 0.0, 1.0, 0.0, 0.0, 0.0, 1.0, 0.0, 0.0, 1.0, 0.0, 0.0, 0.0, 0.0, 0.0, 1.0, 0.0]\n",
            "######\n",
            "[0.0, 1.0, 0.0, 0.0, 5.533031220619933e-29, 1.0, 1.2727325074138331e-28, 1.7348674624011925e-28, 2.6884439260778755e-33, 1.0, 7.389355119256631e-33, 1.0266698599788748e-32, 0.0, 1.0, 0.0, 0.0, 0.0, 1.0, 0.0, 0.0, 2.942726775082116e-44, 1.0, 1.0369608636003646e-43, 2.0318827732709848e-43, 0.0, 1.0, 0.0, 0.0, 2.7282282568749674e-34, 1.0, 7.568134769376247e-34, 1.089399858871117e-33, 1.4978082717702566e-38, 1.0, 4.742733328344959e-38, 7.243180040039333e-38, 0.0, 1.0, 0.0, 0.0, 1.4567912287586056e-37, 1.0, 3.7492805399843368e-37, 7.207270365592545e-37, 0.0, 1.0, 0.0, 0.0, 0.0, 1.0, 0.0, 0.0, 0.0, 1.0, 0.0, 0.0, 0.0, 1.0, 0.0, 1.401298464324817e-45, 4.5188567882732545e-22, 1.0, 8.12099056171042e-22, 1.0545324963829344e-21]\n",
            "[0.0, 1.0, 0.0, 0.0, 0.0, 1.0, 0.0, 0.0, 0.0, 1.0, 0.0, 0.0, 0.0, 0.0, 0.0, 1.0, 0.0, 1.0, 0.0, 0.0, 0.0, 1.0, 0.0, 0.0, 0.0, 0.0, 0.0, 1.0, 0.0, 0.0, 0.0, 1.0, 1.0, 0.0, 0.0, 0.0, 0.0, 1.0, 0.0, 0.0, 0.0, 1.0, 0.0, 0.0, 0.0, 0.0, 1.0, 0.0, 0.0, 1.0, 0.0, 0.0, 0.0, 0.0, 0.0, 1.0, 0.0, 1.0, 0.0, 0.0, 0.0, 0.0, 0.0, 1.0]\n",
            "######\n",
            "[1.0247502851704407e-14, 1.0, 1.5421984774833565e-14, 1.679349374676415e-14, 2.779335374141842e-40, 1.0, 8.645563109375537e-40, 1.5206456532328974e-39, 9.528431570929247e-30, 1.0, 1.903358647292125e-29, 3.33627038706878e-29, 8.966639169724937e-32, 1.0, 2.2929630091038046e-31, 3.1936813236417194e-31, 0.0, 1.0, 0.0, 0.0, 0.0, 1.0, 0.0, 0.0, 8.515828072530642e-36, 1.0, 2.442480962635676e-35, 3.6462339565835536e-35, 0.0, 1.0, 0.0, 0.0, 1.0585545230624126e-14, 1.0, 1.6222573211524018e-14, 1.7183511761393287e-14, 0.0, 1.0, 0.0, 0.0, 0.0, 1.0, 0.0, 0.0, 1.755423775361576e-14, 1.0, 2.633128293855723e-14, 2.8294693451831436e-14, 8.715235095546775e-24, 1.0, 1.6360339352394177e-23, 2.2212554464874187e-23, 0.0, 1.0, 0.0, 0.0, 2.31258972106197e-29, 1.0, 5.589418838272945e-29, 7.305342974111767e-29, 0.0, 1.0, 0.0, 0.0]\n",
            "[0.0, 1.0, 0.0, 0.0, 1.0, 0.0, 0.0, 0.0, 0.0, 1.0, 0.0, 0.0, 1.0, 0.0, 0.0, 0.0, 0.0, 0.0, 1.0, 0.0, 0.0, 1.0, 0.0, 0.0, 1.0, 0.0, 0.0, 0.0, 0.0, 0.0, 0.0, 1.0, 0.0, 0.0, 1.0, 0.0, 0.0, 0.0, 1.0, 0.0, 0.0, 0.0, 1.0, 0.0, 0.0, 0.0, 1.0, 0.0, 0.0, 0.0, 0.0, 1.0, 0.0, 1.0, 0.0, 0.0, 1.0, 0.0, 0.0, 0.0, 0.0, 1.0, 0.0, 0.0]\n",
            "######\n",
            "[0.0, 1.0, 0.0, 0.0, 0.0, 1.0, 0.0, 0.0, 5.371177013757024e-42, 1.0, 1.8142611217613407e-41, 3.145774922562782e-41, 0.0, 1.0, 0.0, 0.0, 5.0672637402755155e-26, 1.0, 1.0341378519554042e-25, 1.4281599457879418e-25, 4.1406590143043376e-33, 1.0, 9.794384969628353e-33, 1.655564039646202e-32, 8.681164583195538e-30, 1.0, 2.1176875667125815e-29, 2.801886818371407e-29, 0.0, 1.0, 0.0, 0.0, 2.0997408588145483e-22, 1.0, 3.9528605745919585e-22, 4.941758934892742e-22, 4.675512793672477e-31, 1.0, 1.3092007206576984e-30, 1.5219239147949316e-30, 0.0, 1.0, 0.0, 0.0, 0.0, 1.0, 0.0, 0.0, 0.0, 1.0, 0.0, 0.0, 0.0, 1.0, 0.0, 0.0, 0.0, 1.0, 0.0, 0.0, 0.0, 1.0, 0.0, 0.0]\n",
            "[0.0, 0.0, 1.0, 0.0, 0.0, 0.0, 1.0, 0.0, 1.0, 0.0, 0.0, 0.0, 0.0, 0.0, 0.0, 1.0, 0.0, 1.0, 0.0, 0.0, 0.0, 0.0, 0.0, 1.0, 1.0, 0.0, 0.0, 0.0, 0.0, 0.0, 1.0, 0.0, 0.0, 1.0, 0.0, 0.0, 0.0, 0.0, 1.0, 0.0, 0.0, 1.0, 0.0, 0.0, 0.0, 0.0, 1.0, 0.0, 0.0, 0.0, 0.0, 1.0, 0.0, 1.0, 0.0, 0.0, 1.0, 0.0, 0.0, 0.0, 0.0, 1.0, 0.0, 0.0]\n",
            "######\n",
            "[0.0, 1.0, 0.0, 0.0, 0.0, 1.0, 0.0, 0.0, 0.0, 1.0, 0.0, 0.0, 0.0, 1.0, 0.0, 0.0, 4.972603926401412e-21, 1.0, 9.247547245186834e-21, 1.0725296523783582e-20, 5.041648695747192e-11, 1.0, 6.652184358912905e-11, 6.990390211125685e-11, 7.979729754130603e-37, 1.0, 2.2998162412697894e-36, 3.662109013531127e-36, 0.0, 1.0, 0.0, 0.0, 0.0, 1.0, 0.0, 0.0, 2.9635930525018337e-16, 1.0, 4.5844329487203e-16, 5.296594957365666e-16, 0.0, 1.0, 0.0, 0.0, 3.441245362735972e-35, 1.0, 9.369560117379728e-35, 1.4744324365522322e-34, 0.0, 1.0, 0.0, 0.0, 0.0, 1.0, 0.0, 0.0, 0.0, 1.0, 0.0, 0.0, 0.0, 1.0, 0.0, 0.0]\n",
            "[0.0, 0.0, 0.0, 1.0, 0.0, 1.0, 0.0, 0.0, 0.0, 0.0, 1.0, 0.0, 0.0, 0.0, 1.0, 0.0, 0.0, 0.0, 0.0, 1.0, 0.0, 1.0, 0.0, 0.0, 1.0, 0.0, 0.0, 0.0, 1.0, 0.0, 0.0, 0.0, 0.0, 0.0, 1.0, 0.0, 0.0, 1.0, 0.0, 0.0, 0.0, 1.0, 0.0, 0.0, 1.0, 0.0, 0.0, 0.0, 0.0, 1.0, 0.0, 0.0, 0.0, 0.0, 1.0, 0.0, 0.0, 0.0, 0.0, 1.0, 0.0, 0.0, 0.0, 1.0]\n",
            "######\n",
            "[7.395472378833833e-26, 1.0, 1.6690704241524195e-25, 1.9328494871211885e-25, 0.0, 1.0, 0.0, 0.0, 0.0, 1.0, 0.0, 0.0, 3.4332541253054066e-31, 1.0, 9.168048136695957e-31, 1.165778372795227e-30, 3.3252918108831177e-22, 1.0, 6.123758327888125e-22, 7.868252149452092e-22, 7.784249864952405e-35, 1.0, 1.8435345632624352e-34, 3.5627355737527103e-34, 0.0, 1.0, 0.0, 0.0, 8.981514591821598e-28, 1.0, 2.0241700901064732e-27, 2.7211598999343362e-27, 0.0, 1.0, 0.0, 0.0, 1.554048404727008e-39, 1.0, 4.342804708444506e-39, 8.658271485148499e-39, 3.50880497990147e-08, 1.0, 4.346046722503161e-08, 4.238477302465071e-08, 1.3200727390486942e-23, 1.0, 2.662838797530062e-23, 3.198741987161094e-23, 0.0, 1.0, 0.0, 0.0, 0.0, 1.0, 0.0, 0.0, 0.0, 1.0, 0.0, 0.0, 0.0, 1.0, 0.0, 0.0]\n",
            "[0.0, 0.0, 1.0, 0.0, 0.0, 1.0, 0.0, 0.0, 0.0, 0.0, 1.0, 0.0, 0.0, 1.0, 0.0, 0.0, 1.0, 0.0, 0.0, 0.0, 0.0, 1.0, 0.0, 0.0, 0.0, 1.0, 0.0, 0.0, 0.0, 1.0, 0.0, 0.0, 1.0, 0.0, 0.0, 0.0, 0.0, 1.0, 0.0, 0.0, 0.0, 1.0, 0.0, 0.0, 0.0, 1.0, 0.0, 0.0, 0.0, 1.0, 0.0, 0.0, 0.0, 1.0, 0.0, 0.0, 0.0, 1.0, 0.0, 0.0, 0.0, 0.0, 1.0, 0.0]\n",
            "######\n",
            "[0.0, 1.0, 0.0, 0.0, 0.0, 1.0, 0.0, 0.0, 0.0, 1.0, 0.0, 0.0, 3.022421334443572e-26, 1.0, 6.91527795468383e-26, 8.255881119265644e-26, 1.2611686178923354e-44, 1.0, 4.624284932271896e-44, 8.407790785948902e-44, 5.587484458310927e-27, 1.0, 1.1654872140164266e-26, 1.656693566328051e-26, 0.0, 1.0, 0.0, 0.0, 2.5088971903805914e-27, 1.0, 5.9193487655620804e-27, 7.171927379072873e-27, 0.0, 1.0, 0.0, 0.0, 5.463876606600056e-37, 1.0, 1.4195699613699852e-36, 2.657777373462178e-36, 2.512832539332455e-28, 1.0, 5.4767766125037045e-28, 7.801668241178103e-28, 4.649236277845616e-34, 1.0, 1.2846358788892675e-33, 1.8257800297490847e-33, 0.0, 1.0, 0.0, 0.0, 0.0, 1.0, 0.0, 0.0, 4.281572153575141e-20, 1.0, 8.012222632144358e-20, 8.874339993350387e-20, 8.077996066626217e-26, 1.0, 1.8260939268937605e-25, 2.1094037067616045e-25]\n",
            "[0.0, 0.0, 0.0, 1.0, 0.0, 0.0, 1.0, 0.0, 0.0, 0.0, 0.0, 1.0, 0.0, 1.0, 0.0, 0.0, 0.0, 1.0, 0.0, 0.0, 0.0, 0.0, 0.0, 1.0, 0.0, 0.0, 1.0, 0.0, 0.0, 1.0, 0.0, 0.0, 0.0, 0.0, 0.0, 1.0, 0.0, 1.0, 0.0, 0.0, 0.0, 0.0, 1.0, 0.0, 1.0, 0.0, 0.0, 0.0, 0.0, 0.0, 1.0, 0.0, 0.0, 1.0, 0.0, 0.0, 0.0, 1.0, 0.0, 0.0, 0.0, 0.0, 1.0, 0.0]\n",
            "######\n",
            "[0.0, 1.0, 0.0, 0.0, 0.0, 1.0, 0.0, 0.0, 7.160621606772111e-08, 0.9999996423721313, 8.77908519214543e-08, 8.508932580753026e-08, 0.0, 1.0, 0.0, 0.0, 2.041910745341386e-38, 1.0, 5.611804622934567e-38, 1.049335337975247e-37, 1.064986832886861e-43, 1.0, 3.9796876386824805e-43, 6.6841936748293774e-43, 1.5970411026036636e-27, 1.0, 3.802767934492041e-27, 4.573385660907839e-27, 7.713341382481416e-34, 1.0, 1.690645933862524e-33, 3.3319901652836224e-33, 4.171079155064688e-34, 1.0, 1.0201535070450915e-33, 1.7320461102145155e-33, 0.0, 1.0, 0.0, 0.0, 0.0, 1.0, 0.0, 0.0, 0.0, 1.0, 0.0, 0.0, 5.1579674139735746e-27, 1.0, 1.1612977771269999e-26, 1.4585509662359768e-26, 2.0891432935252e-25, 1.0, 4.141086371950506e-25, 5.741789672713881e-25, 1.2022978789701892e-30, 1.0, 2.821029019770028e-30, 4.18463462824932e-30, 0.0, 1.0, 0.0, 0.0]\n",
            "[0.0, 1.0, 0.0, 0.0, 0.0, 0.0, 0.0, 1.0, 0.0, 1.0, 0.0, 0.0, 0.0, 0.0, 1.0, 0.0, 0.0, 1.0, 0.0, 0.0, 0.0, 0.0, 0.0, 1.0, 0.0, 1.0, 0.0, 0.0, 0.0, 0.0, 0.0, 1.0, 0.0, 0.0, 0.0, 1.0, 0.0, 0.0, 0.0, 1.0, 0.0, 0.0, 1.0, 0.0, 1.0, 0.0, 0.0, 0.0, 1.0, 0.0, 0.0, 0.0, 0.0, 0.0, 0.0, 1.0, 0.0, 0.0, 0.0, 1.0, 0.0, 1.0, 0.0, 0.0]\n",
            "######\n",
            "[0.0, 1.0, 0.0, 0.0, 0.0, 1.0, 0.0, 0.0, 0.0, 1.0, 0.0, 0.0, 8.403828049851374e-33, 1.0, 2.11451200516416e-32, 3.2342483977599246e-32, 5.501665611973294e-08, 0.9999997615814209, 6.80202703051691e-08, 6.568100019421763e-08, 0.0, 1.0, 0.0, 0.0, 9.80908925027372e-45, 1.0, 3.363116314379561e-44, 6.726232628759122e-44, 0.0, 1.0, 0.0, 0.0, 0.0, 1.0, 0.0, 0.0, 0.0, 1.0, 0.0, 0.0, 0.0, 1.0, 0.0, 0.0, 0.0, 1.0, 0.0, 0.0, 0.0, 1.0, 0.0, 0.0, 4.177799217496049e-34, 1.0, 1.053991213959465e-33, 1.722662910230069e-33, 1.814045933162976e-27, 1.0, 4.408898917705525e-27, 5.072831295595948e-27, 0.0, 1.0, 0.0, 0.0]\n",
            "[0.0, 0.0, 1.0, 0.0, 0.0, 1.0, 0.0, 0.0, 1.0, 0.0, 0.0, 0.0, 0.0, 1.0, 0.0, 0.0, 0.0, 1.0, 0.0, 0.0, 0.0, 1.0, 0.0, 0.0, 1.0, 0.0, 0.0, 0.0, 1.0, 0.0, 0.0, 0.0, 0.0, 1.0, 0.0, 0.0, 0.0, 1.0, 0.0, 0.0, 0.0, 1.0, 0.0, 0.0, 0.0, 0.0, 0.0, 1.0, 0.0, 0.0, 1.0, 0.0, 0.0, 1.0, 0.0, 0.0, 0.0, 0.0, 1.0, 0.0, 0.0, 0.0, 1.0, 0.0]\n",
            "######\n",
            "[8.930789217834734e-26, 1.0, 1.8935856611970428e-25, 2.417742070999848e-25, 9.447956498865455e-33, 1.0, 2.6850938773806274e-32, 3.495002726004666e-32, 3.8648606238359666e-36, 1.0, 1.0862781752062775e-35, 1.7077302691440688e-35, 3.97324529253122e-34, 1.0, 1.271957529467176e-33, 1.4819949519075985e-33, 0.0, 1.0, 0.0, 0.0, 0.0, 1.0, 0.0, 0.0, 7.729562329215691e-42, 1.0, 2.5603124241678733e-41, 4.5515575419734383e-41, 4.159194723506882e-34, 1.0, 1.2033192204612126e-33, 1.621925983100476e-33, 0.0, 1.0, 0.0, 0.0, 3.36696730676728e-37, 1.0, 1.0259004260318366e-36, 1.5353662711798542e-36, 2.7368800789680117e-34, 1.0, 7.069039153471297e-34, 1.1396796093466248e-33, 4.678148296088059e-33, 1.0, 1.2408781384141063e-32, 1.7886170697214258e-32, 4.162066343429013e-27, 1.0, 8.876712032409856e-27, 1.2261725732292884e-26, 1.0360197079559791e-28, 1.0, 2.2961615687290022e-28, 3.2369210501463214e-28, 2.8134902911006225e-26, 1.0, 6.035340592764724e-26, 7.79299048233118e-26, 0.0, 1.0, 0.0, 0.0]\n",
            "[0.0, 1.0, 0.0, 0.0, 0.0, 1.0, 0.0, 0.0, 0.0, 1.0, 0.0, 0.0, 0.0, 0.0, 0.0, 1.0, 1.0, 0.0, 0.0, 0.0, 0.0, 1.0, 0.0, 0.0, 1.0, 0.0, 0.0, 0.0, 0.0, 1.0, 0.0, 0.0, 0.0, 0.0, 1.0, 0.0, 0.0, 0.0, 0.0, 1.0, 0.0, 1.0, 0.0, 0.0, 1.0, 0.0, 0.0, 0.0, 0.0, 0.0, 0.0, 1.0, 0.0, 0.0, 1.0, 0.0, 1.0, 0.0, 0.0, 0.0, 0.0, 1.0, 0.0, 0.0]\n",
            "######\n",
            "[2.6002937338533787e-36, 1.0, 8.126789951931351e-36, 1.1097162439948684e-35, 0.0, 1.0, 0.0, 0.0, 6.265421813570945e-28, 1.0, 1.4054645176930904e-27, 1.8689973367082103e-27, 3.759092319727662e-36, 1.0, 9.270753159119644e-36, 1.7773714217680774e-35, 5.376594405250866e-25, 1.0, 1.179681333114e-24, 1.3563707930958549e-24, 2.750358442338705e-28, 1.0, 6.315043398588082e-28, 8.402374938999718e-28, 0.0, 1.0, 0.0, 0.0, 4.345584201895388e-26, 1.0, 9.424700577271849e-26, 1.2032966238688897e-25, 3.5790616922650186e-30, 1.0, 8.525474964366982e-30, 1.1909005866711702e-29, 0.0, 1.0, 0.0, 0.0, 0.0, 1.0, 0.0, 0.0, 2.4330383701068003e-38, 1.0, 7.618113138712238e-38, 1.170510997171517e-37, 0.0, 1.0, 0.0, 0.0, 0.0, 1.0, 0.0, 0.0, 0.0, 1.0, 0.0, 0.0, 0.0, 1.0, 0.0, 0.0]\n",
            "[0.0, 0.0, 1.0, 0.0, 0.0, 1.0, 0.0, 0.0, 0.0, 1.0, 0.0, 0.0, 0.0, 1.0, 0.0, 0.0, 0.0, 0.0, 1.0, 0.0, 1.0, 0.0, 0.0, 0.0, 0.0, 0.0, 1.0, 0.0, 0.0, 1.0, 0.0, 0.0, 1.0, 0.0, 0.0, 0.0, 1.0, 0.0, 0.0, 0.0, 0.0, 1.0, 0.0, 0.0, 0.0, 0.0, 0.0, 1.0, 0.0, 1.0, 0.0, 0.0, 0.0, 0.0, 1.0, 0.0, 0.0, 1.0, 0.0, 0.0, 0.0, 1.0, 0.0, 0.0]\n",
            "######\n",
            "[0.0, 1.0, 0.0, 0.0, 1.4825737752556565e-42, 1.0, 5.156778348715327e-42, 8.788943968245253e-42, 7.477720969207235e-40, 1.0, 2.5108732130480294e-39, 3.8427009047054793e-39, 0.0, 1.0, 0.0, 0.0, 2.3774146271527553e-28, 1.0, 5.534617103558514e-28, 7.197824203477082e-28, 0.0, 1.0, 0.0, 0.0, 5.636144600597545e-34, 1.0, 1.5635202605829244e-33, 2.202025465733567e-33, 0.0, 1.0, 0.0, 0.0, 2.515470873309479e-40, 1.0, 8.639565551948227e-40, 1.3050614896903816e-39, 0.0, 1.0, 0.0, 0.0, 0.0, 1.0, 0.0, 0.0, 0.0, 1.0, 0.0, 0.0, 2.7928663121133626e-39, 1.0, 9.394020441245316e-39, 1.3725065452977208e-38, 1.2024775619678962e-10, 1.0, 1.560032381053844e-10, 1.640685365345007e-10, 2.4503281622894133e-36, 1.0, 6.849763567993454e-36, 1.1027785744855018e-35, 2.61893845911014e-14, 1.0, 3.897438808860877e-14, 4.210544876626608e-14]\n",
            "[0.0, 1.0, 0.0, 0.0, 1.0, 0.0, 0.0, 0.0, 0.0, 0.0, 0.0, 1.0, 1.0, 0.0, 0.0, 0.0, 1.0, 0.0, 0.0, 0.0, 0.0, 0.0, 0.0, 1.0, 0.0, 0.0, 0.0, 1.0, 0.0, 0.0, 1.0, 0.0, 0.0, 0.0, 0.0, 1.0, 0.0, 1.0, 0.0, 0.0, 0.0, 1.0, 0.0, 0.0, 0.0, 1.0, 0.0, 0.0, 0.0, 0.0, 0.0, 1.0, 0.0, 1.0, 0.0, 0.0, 1.0, 0.0, 0.0, 0.0, 0.0, 0.0, 1.0, 0.0]\n",
            "######\n",
            "[0.0, 1.0, 0.0, 0.0, 0.0, 1.0, 0.0, 0.0, 0.0, 1.0, 0.0, 0.0, 0.0, 1.0, 0.0, 0.0, 2.0699875591390082e-08, 1.0, 2.5809857362446564e-08, 2.5297955730252397e-08, 0.0, 1.0, 0.0, 0.0, 0.0, 1.0, 0.0, 0.0, 2.0806312301351128e-27, 1.0, 4.631745190082661e-27, 6.0705966663266766e-27, 8.294221935560222e-29, 1.0, 1.815665038393098e-28, 2.6575043041536924e-28, 0.0, 1.0, 0.0, 0.0, 0.0, 1.0, 0.0, 0.0, 0.0, 1.0, 0.0, 0.0, 0.0, 1.0, 0.0, 0.0, 0.0, 1.0, 0.0, 0.0, 0.0, 1.0, 0.0, 0.0, 0.0, 1.0, 0.0, 0.0]\n",
            "[0.0, 0.0, 0.0, 1.0, 1.0, 0.0, 0.0, 0.0, 0.0, 0.0, 1.0, 0.0, 0.0, 1.0, 0.0, 0.0, 0.0, 1.0, 0.0, 0.0, 0.0, 1.0, 0.0, 0.0, 0.0, 0.0, 1.0, 0.0, 1.0, 0.0, 0.0, 0.0, 0.0, 0.0, 0.0, 1.0, 0.0, 0.0, 1.0, 0.0, 0.0, 1.0, 0.0, 0.0, 0.0, 0.0, 1.0, 0.0, 0.0, 0.0, 1.0, 0.0, 0.0, 1.0, 0.0, 0.0, 0.0, 1.0, 0.0, 0.0, 1.0, 0.0, 0.0, 0.0]\n",
            "######\n",
            "[4.3987334742730605e-28, 1.0, 9.980883491824024e-28, 1.3251203056100937e-27, 0.0, 1.0, 0.0, 0.0, 0.0, 1.0, 0.0, 0.0, 9.331679123158259e-35, 1.0, 2.7236943384296473e-34, 3.763113509118495e-34, 3.7901759358098915e-23, 1.0, 7.005108819734104e-23, 9.340710758838575e-23, 3.1835157340148745e-14, 1.0, 4.698994557177094e-14, 5.148860192914252e-14, 7.865257151634423e-28, 1.0, 1.7657280101251946e-27, 2.351053942521441e-27, 0.0, 1.0, 0.0, 0.0, 0.0, 1.0, 0.0, 0.0, 4.969088432403661e-40, 1.0, 1.6812638845122723e-39, 2.5690845525545466e-39, 3.3854737996287174e-15, 1.0, 5.1327964671794585e-15, 5.661885856802964e-15, 0.0, 1.0, 0.0, 0.0, 2.0600458564544733e-31, 1.0, 4.543709784289918e-31, 7.5975063397883045e-31, 0.0, 1.0, 0.0, 0.0, 1.2966214690397532e-41, 1.0, 3.71540274831082e-41, 7.863246202712279e-41, 0.0, 1.0, 0.0, 0.0]\n",
            "[1.0, 0.0, 0.0, 0.0, 0.0, 0.0, 1.0, 0.0, 0.0, 0.0, 1.0, 0.0, 0.0, 1.0, 0.0, 0.0, 0.0, 0.0, 0.0, 1.0, 0.0, 1.0, 0.0, 0.0, 0.0, 1.0, 0.0, 0.0, 0.0, 1.0, 0.0, 0.0, 0.0, 1.0, 0.0, 0.0, 0.0, 0.0, 0.0, 1.0, 0.0, 0.0, 1.0, 0.0, 0.0, 1.0, 0.0, 0.0, 0.0, 0.0, 1.0, 0.0, 0.0, 1.0, 0.0, 0.0, 0.0, 1.0, 0.0, 0.0, 0.0, 0.0, 1.0, 0.0]\n",
            "######\n",
            "[0.0, 1.0, 0.0, 0.0, 0.0, 1.0, 0.0, 0.0, 7.999348717358291e-39, 1.0, 2.0317167194029623e-38, 4.309651948596431e-38, 5.4912715677759086e-14, 1.0, 8.129826293504921e-14, 8.666048293467371e-14, 0.0, 1.0, 0.0, 0.0, 0.0, 1.0, 0.0, 0.0, 0.0, 1.0, 0.0, 0.0, 7.422318301514636e-27, 1.0, 1.6519479208706854e-26, 2.0884092522899162e-26, 0.0, 1.0, 0.0, 0.0, 9.728261574082353e-08, 0.9999996423721313, 1.1917929043647746e-07, 1.1501566632432514e-07, 8.331001023049144e-15, 1.0, 1.3157300735847002e-14, 1.3333384486021067e-14, 0.0, 1.0, 0.0, 0.0, 0.0, 1.0, 0.0, 0.0, 0.0, 1.0, 0.0, 0.0, 0.0, 1.0, 0.0, 0.0, 0.0, 1.0, 0.0, 0.0]\n",
            "[0.0, 1.0, 0.0, 0.0, 0.0, 0.0, 0.0, 1.0, 0.0, 1.0, 0.0, 0.0, 0.0, 0.0, 1.0, 0.0, 0.0, 0.0, 1.0, 0.0, 0.0, 1.0, 0.0, 0.0, 0.0, 1.0, 0.0, 0.0, 1.0, 0.0, 0.0, 0.0, 0.0, 1.0, 0.0, 0.0, 0.0, 1.0, 0.0, 0.0, 0.0, 0.0, 0.0, 1.0, 0.0, 0.0, 0.0, 1.0, 0.0, 1.0, 0.0, 0.0, 0.0, 1.0, 0.0, 0.0, 0.0, 0.0, 1.0, 0.0, 0.0, 0.0, 1.0, 0.0]\n",
            "######\n",
            "[1.401298464324817e-44, 1.0, 4.344025239406933e-44, 1.0089348943138683e-43, 5.937783766989755e-26, 1.0, 1.2419812533252801e-25, 1.623213939731922e-25, 1.3894087235273898e-34, 1.0, 3.8795473725111445e-34, 5.6775330220060286e-34, 0.0, 1.0, 0.0, 0.0, 0.0, 1.0, 0.0, 0.0, 5.7232837046196155e-27, 1.0, 1.3294754495119354e-26, 1.6204722166779715e-26, 0.0, 1.0, 0.0, 0.0, 1.1062171978437618e-07, 0.9999996423721313, 1.352983076685632e-07, 1.3032399692747276e-07, 7.671287612903268e-35, 1.0, 2.174187463618691e-34, 3.1304121695717933e-34, 0.0, 1.0, 0.0, 0.0, 0.0, 1.0, 0.0, 0.0, 0.0, 1.0, 0.0, 0.0, 2.343174231341995e-20, 1.0, 4.33255426740711e-20, 4.874047052782209e-20, 0.0, 1.0, 0.0, 0.0, 0.0, 1.0, 0.0, 0.0, 0.0, 1.0, 0.0, 0.0]\n",
            "[0.0, 0.0, 0.0, 1.0, 0.0, 0.0, 1.0, 0.0, 1.0, 0.0, 0.0, 0.0, 0.0, 1.0, 0.0, 0.0, 0.0, 0.0, 0.0, 1.0, 0.0, 1.0, 0.0, 0.0, 0.0, 0.0, 1.0, 0.0, 0.0, 1.0, 0.0, 0.0, 1.0, 0.0, 0.0, 0.0, 0.0, 1.0, 0.0, 0.0, 0.0, 0.0, 1.0, 0.0, 0.0, 1.0, 0.0, 0.0, 0.0, 0.0, 0.0, 1.0, 0.0, 0.0, 0.0, 1.0, 0.0, 0.0, 1.0, 0.0, 0.0, 0.0, 1.0, 0.0]\n",
            "######\n",
            "[0.0, 1.0, 0.0, 0.0, 1.056230399042988e-38, 1.0, 3.1185583432692795e-38, 5.327722187858926e-38, 0.0, 1.0, 0.0, 0.0, 0.0, 1.0, 0.0, 0.0, 2.4079830835265668e-27, 1.0, 5.171700064849033e-27, 7.119726203488224e-27, 0.0, 1.0, 0.0, 0.0, 2.5544357407210513e-31, 1.0, 6.0875128462982865e-31, 9.151695599682798e-31, 1.1224668851715918e-36, 1.0, 3.448458036508443e-36, 4.935770487492611e-36, 2.161208608543522e-40, 1.0, 7.431085756314505e-40, 1.1237292645113573e-39, 1.4784939991230636e-33, 1.0, 3.8467016726262697e-33, 5.8587659655700086e-33, 0.0, 1.0, 0.0, 0.0, 8.063704705789321e-35, 1.0, 2.0283754250051e-34, 3.44081408028714e-34, 5.930295101022626e-42, 1.0, 1.8172038485364228e-41, 3.560419138156495e-41, 1.3883187785330135e-32, 1.0, 3.5274701738479655e-32, 5.207260711254233e-32, 0.0, 1.0, 0.0, 0.0, 3.7863084506056557e-41, 1.0, 1.3156511021852843e-40, 2.06611649475444e-40]\n",
            "[0.0, 0.0, 0.0, 1.0, 1.0, 0.0, 0.0, 0.0, 0.0, 0.0, 1.0, 0.0, 0.0, 1.0, 0.0, 0.0, 0.0, 0.0, 0.0, 1.0, 0.0, 0.0, 0.0, 1.0, 0.0, 1.0, 0.0, 0.0, 0.0, 0.0, 0.0, 1.0, 0.0, 0.0, 0.0, 1.0, 0.0, 1.0, 0.0, 0.0, 0.0, 1.0, 0.0, 0.0, 0.0, 1.0, 0.0, 0.0, 0.0, 1.0, 0.0, 0.0, 1.0, 0.0, 0.0, 0.0, 0.0, 1.0, 0.0, 0.0, 0.0, 0.0, 0.0, 1.0]\n",
            "######\n",
            "[0.0, 1.0, 0.0, 0.0, 0.0, 1.0, 0.0, 0.0, 3.038623570501352e-37, 1.0, 8.537910204567756e-37, 1.4438183887290687e-36, 0.0, 1.0, 0.0, 0.0, 0.0, 1.0, 0.0, 0.0, 4.008752532031547e-32, 1.0, 1.040211878161294e-31, 1.4450949205788598e-31, 0.0, 1.0, 0.0, 0.0, 3.764948448174109e-28, 1.0, 9.155865177827086e-28, 1.1182068664768843e-27, 0.0, 1.0, 0.0, 0.0, 1.1053442286594157e-41, 1.0, 3.572610434796121e-41, 6.424112679850691e-41, 3.9080007685935536e-22, 1.0, 7.038031708732449e-22, 9.148421684896502e-22, 0.0, 1.0, 0.0, 0.0, 1.0489442479052805e-35, 1.0, 2.88746871132552e-35, 4.6293596326459205e-35, 0.0, 1.0, 0.0, 0.0, 3.7267845698352176e-08, 1.0, 4.6166462652763585e-08, 4.493585592513227e-08, 0.0, 1.0, 0.0, 0.0]\n",
            "[0.0, 1.0, 0.0, 0.0, 0.0, 0.0, 0.0, 1.0, 0.0, 1.0, 0.0, 0.0, 0.0, 1.0, 0.0, 0.0, 0.0, 1.0, 0.0, 0.0, 1.0, 0.0, 0.0, 0.0, 0.0, 0.0, 0.0, 1.0, 0.0, 1.0, 0.0, 0.0, 0.0, 0.0, 1.0, 0.0, 0.0, 1.0, 0.0, 0.0, 0.0, 0.0, 0.0, 1.0, 0.0, 0.0, 1.0, 0.0, 1.0, 0.0, 0.0, 0.0, 0.0, 0.0, 0.0, 1.0, 0.0, 1.0, 0.0, 0.0, 0.0, 0.0, 1.0, 0.0]\n",
            "######\n",
            "[9.80908925027372e-45, 1.0, 3.363116314379561e-44, 6.726232628759122e-44, 0.0, 1.0, 0.0, 0.0, 0.0, 1.0, 0.0, 0.0, 0.0, 1.0, 0.0, 0.0, 1.8227871514015663e-26, 1.0, 3.991674082719625e-26, 5.1406841956898413e-26, 0.0, 1.0, 0.0, 0.0, 1.1210387714598537e-43, 1.0, 2.9847657290118604e-43, 7.637076630570253e-43, 1.3640744095853954e-34, 1.0, 3.954072795998316e-34, 5.523000514266015e-34, 3.659688434324562e-16, 1.0, 5.588346985717938e-16, 6.534785602079634e-16, 6.585684965949571e-24, 1.0, 1.3906043192679617e-23, 1.6072815329659222e-23, 0.0, 1.0, 0.0, 0.0, 1.5522936803490812e-26, 1.0, 3.4573801323573895e-26, 4.286886787571123e-26, 0.0, 1.0, 0.0, 0.0, 8.337585732886229e-41, 1.0, 2.44459319698393e-40, 4.92421885557598e-40, 1.1105425482208462e-34, 1.0, 2.748199951813186e-34, 4.826296491970665e-34, 9.423396106401917e-28, 1.0, 2.15059545018984e-27, 2.778049559375602e-27]\n",
            "[1.0, 0.0, 0.0, 0.0, 0.0, 0.0, 1.0, 0.0, 0.0, 1.0, 0.0, 0.0, 0.0, 0.0, 1.0, 0.0, 0.0, 1.0, 0.0, 0.0, 0.0, 1.0, 0.0, 0.0, 0.0, 1.0, 0.0, 0.0, 0.0, 1.0, 0.0, 0.0, 0.0, 1.0, 0.0, 0.0, 0.0, 1.0, 0.0, 0.0, 0.0, 1.0, 0.0, 0.0, 1.0, 0.0, 0.0, 0.0, 0.0, 1.0, 0.0, 0.0, 0.0, 1.0, 0.0, 0.0, 0.0, 1.0, 0.0, 0.0, 1.0, 0.0, 0.0, 0.0]\n",
            "######\n",
            "[0.0, 1.0, 0.0, 0.0, 0.0, 1.0, 0.0, 0.0, 9.209123312773049e-40, 1.0, 2.416599457562113e-39, 5.281240277018193e-39, 0.0, 1.0, 0.0, 0.0, 4.01567371883349e-23, 1.0, 8.035074647671969e-23, 9.509619131509602e-23, 3.7852516666892974e-14, 1.0, 5.599812063702969e-14, 6.023153032103448e-14, 1.531355073622416e-19, 1.0, 2.812212974393867e-19, 3.1031021520376205e-19, 0.0, 1.0, 0.0, 0.0, 0.0, 1.0, 0.0, 0.0, 0.0, 1.0, 0.0, 0.0, 0.0, 1.0, 0.0, 0.0, 5.840958328181005e-33, 1.0, 1.634990684454904e-32, 2.175583638666781e-32, 0.0, 1.0, 0.0, 0.0, 0.0, 1.0, 0.0, 0.0, 0.0, 1.0, 0.0, 0.0, 6.063519267325024e-18, 1.0, 9.628716511084714e-18, 1.1748667097314204e-17]\n",
            "[0.0, 0.0, 1.0, 0.0, 0.0, 0.0, 1.0, 0.0, 0.0, 1.0, 0.0, 0.0, 0.0, 0.0, 1.0, 0.0, 0.0, 1.0, 0.0, 0.0, 0.0, 1.0, 0.0, 0.0, 0.0, 1.0, 0.0, 0.0, 0.0, 0.0, 1.0, 0.0, 0.0, 0.0, 1.0, 0.0, 0.0, 1.0, 0.0, 0.0, 0.0, 1.0, 0.0, 0.0, 0.0, 1.0, 0.0, 0.0, 0.0, 1.0, 0.0, 0.0, 0.0, 0.0, 0.0, 1.0, 0.0, 0.0, 1.0, 0.0, 0.0, 1.0, 0.0, 0.0]\n",
            "######\n",
            "[0.0, 1.0, 0.0, 0.0, 0.0, 1.0, 0.0, 0.0, 1.451571779442773e-10, 1.0, 1.8815214664069657e-10, 1.973664981447243e-10, 0.0, 1.0, 0.0, 0.0, 0.0, 1.0, 0.0, 0.0, 0.0, 1.0, 0.0, 0.0, 0.0, 1.0, 0.0, 0.0, 0.0, 1.0, 0.0, 0.0, 0.0, 1.0, 0.0, 0.0, 0.0, 1.0, 0.0, 0.0, 5.967297767028867e-09, 1.0, 7.47888861951651e-09, 7.489766140622578e-09, 3.695802011075689e-30, 1.0, 8.539862262904662e-30, 1.2591955671319106e-29, 0.0, 1.0, 0.0, 0.0, 0.0, 1.0, 0.0, 0.0, 0.0, 1.0, 0.0, 0.0, 0.0, 1.0, 0.0, 0.0]\n",
            "[0.0, 0.0, 0.0, 1.0, 0.0, 0.0, 0.0, 1.0, 0.0, 1.0, 0.0, 0.0, 0.0, 0.0, 1.0, 0.0, 0.0, 0.0, 1.0, 0.0, 0.0, 0.0, 0.0, 1.0, 0.0, 1.0, 0.0, 0.0, 0.0, 1.0, 0.0, 0.0, 0.0, 0.0, 1.0, 0.0, 0.0, 1.0, 0.0, 0.0, 0.0, 1.0, 0.0, 0.0, 0.0, 0.0, 0.0, 1.0, 0.0, 0.0, 0.0, 1.0, 0.0, 1.0, 0.0, 0.0, 0.0, 0.0, 0.0, 1.0, 0.0, 1.0, 0.0, 0.0]\n",
            "######\n",
            "[0.0, 1.0, 0.0, 0.0, 2.0918919477674438e-20, 1.0, 3.946641876791018e-20, 4.3924130631875394e-20, 0.0, 1.0, 0.0, 0.0, 0.0, 1.0, 0.0, 0.0, 2.5912510953142285e-30, 1.0, 6.125041772982187e-30, 8.761274993401818e-30, 0.0, 1.0, 0.0, 0.0, 8.66846010207485e-37, 1.0, 2.4211712890902683e-36, 4.024986932092037e-36, 0.0, 1.0, 0.0, 0.0, 2.7171061517707692e-33, 1.0, 7.841659631514123e-33, 1.0338540406407191e-32, 0.0, 1.0, 0.0, 0.0, 1.2332267354820087e-35, 1.0, 3.3714176692603924e-35, 5.366383111174475e-35, 0.0, 1.0, 0.0, 0.0, 0.0, 1.0, 0.0, 0.0, 0.0, 1.0, 0.0, 0.0, 8.547923537644452e-20, 1.0, 1.5579230809218535e-19, 1.753986858081942e-19, 0.0, 1.0, 0.0, 0.0]\n",
            "[1.0, 0.0, 0.0, 0.0, 0.0, 1.0, 0.0, 0.0, 0.0, 0.0, 0.0, 1.0, 0.0, 0.0, 1.0, 0.0, 1.0, 0.0, 0.0, 0.0, 0.0, 0.0, 0.0, 1.0, 1.0, 0.0, 0.0, 0.0, 0.0, 1.0, 0.0, 0.0, 0.0, 1.0, 0.0, 0.0, 0.0, 0.0, 0.0, 1.0, 1.0, 0.0, 0.0, 0.0, 0.0, 0.0, 1.0, 0.0, 0.0, 0.0, 1.0, 0.0, 0.0, 0.0, 0.0, 1.0, 0.0, 1.0, 0.0, 0.0, 0.0, 1.0, 0.0, 0.0]\n",
            "######\n",
            "[3.2175836735025036e-26, 1.0, 7.319385511930102e-26, 8.752140572490956e-26, 2.1176342377124214e-26, 1.0, 4.627527095355662e-26, 5.955705084382663e-26, 1.401298464324817e-45, 1.0, 4.203895392974451e-45, 4.203895392974451e-45, 0.0, 1.0, 0.0, 0.0, 2.407560373285378e-07, 0.9999992847442627, 2.913726291353669e-07, 2.7879278263753804e-07, 9.919563140625709e-17, 1.0, 1.5397984308031351e-16, 1.8020275228255517e-16, 5.469267906259761e-42, 1.0, 1.4608536490586218e-41, 3.5054882383549624e-41, 0.0, 1.0, 0.0, 0.0, 0.0, 1.0, 0.0, 0.0, 0.0, 1.0, 0.0, 0.0, 7.76129221060309e-37, 1.0, 2.4392300578181642e-36, 3.394010707991367e-36, 0.0, 1.0, 0.0, 0.0, 0.0, 1.0, 0.0, 0.0, 1.401298464324817e-45, 1.0, 2.802596928649634e-45, 7.006492321624085e-45, 4.203895392974451e-45, 1.0, 1.401298464324817e-44, 2.802596928649634e-44, 0.0, 1.0, 0.0, 0.0]\n",
            "[0.0, 1.0, 0.0, 0.0, 0.0, 1.0, 0.0, 0.0, 0.0, 0.0, 1.0, 0.0, 0.0, 0.0, 0.0, 1.0, 0.0, 1.0, 0.0, 0.0, 0.0, 1.0, 0.0, 0.0, 0.0, 1.0, 0.0, 0.0, 1.0, 0.0, 0.0, 0.0, 0.0, 1.0, 0.0, 0.0, 0.0, 0.0, 1.0, 0.0, 0.0, 0.0, 1.0, 0.0, 0.0, 0.0, 0.0, 1.0, 0.0, 0.0, 1.0, 0.0, 1.0, 0.0, 0.0, 0.0, 1.0, 0.0, 0.0, 0.0, 0.0, 0.0, 0.0, 1.0]\n",
            "######\n",
            "[0.0, 1.0, 0.0, 0.0, 0.0, 1.0, 0.0, 0.0, 4.971034744045429e-34, 1.0, 1.4209754074983982e-33, 1.9525392793990138e-33, 1.808172569056324e-28, 1.0, 4.096334065537585e-28, 5.580196643104869e-28, 1.095591191347715e-40, 1.0, 3.342629330831132e-40, 6.221611038771112e-40, 9.975788424487764e-12, 1.0, 1.3873170841283144e-11, 1.4170667243795787e-11, 1.1224668851715918e-36, 1.0, 3.448458036508443e-36, 4.935770487492611e-36, 0.0, 1.0, 0.0, 0.0, 1.5971999896374265e-41, 1.0, 5.376081558382161e-41, 9.007686658526357e-41, 0.0, 1.0, 0.0, 0.0, 3.860326203165277e-34, 1.0, 1.1420994746703879e-33, 1.465880669232252e-33, 0.0, 1.0, 0.0, 0.0, 0.0, 1.0, 0.0, 0.0, 1.0782030289370923e-20, 1.0, 2.0191490061529343e-20, 2.2703201373326737e-20, 5.235870324534871e-37, 1.0, 1.4994219117934775e-36, 2.446106778691604e-36, 5.201854998443885e-34, 1.0, 1.2298173426871433e-33, 2.2252131938294904e-33]\n",
            "[0.0, 0.0, 1.0, 0.0, 0.0, 1.0, 0.0, 0.0, 0.0, 1.0, 0.0, 0.0, 1.0, 0.0, 0.0, 0.0, 0.0, 1.0, 0.0, 0.0, 0.0, 1.0, 0.0, 0.0, 0.0, 0.0, 0.0, 1.0, 0.0, 1.0, 0.0, 0.0, 1.0, 0.0, 0.0, 0.0, 0.0, 0.0, 1.0, 0.0, 0.0, 0.0, 0.0, 1.0, 0.0, 1.0, 0.0, 0.0, 0.0, 1.0, 0.0, 0.0, 0.0, 0.0, 0.0, 1.0, 1.0, 0.0, 0.0, 0.0, 0.0, 1.0, 0.0, 0.0]\n",
            "######\n",
            "[3.1220929785156924e-42, 1.0, 8.861811488390143e-42, 1.9671427842191782e-41, 1.0749747707173706e-28, 1.0, 2.3687963313928655e-28, 3.4052552717467864e-28, 1.6943819394418802e-13, 1.0, 2.457953816609876e-13, 2.636914124554135e-13, 0.0, 1.0, 0.0, 0.0, 0.0, 1.0, 0.0, 0.0, 0.0, 1.0, 0.0, 0.0, 0.0, 1.0, 0.0, 0.0, 2.9873798865146217e-26, 1.0, 6.156561396803576e-26, 8.526533132871151e-26, 0.0, 1.0, 0.0, 0.0, 1.5515868212641337e-14, 1.0, 2.4387084826592645e-14, 2.455895458785412e-14, 0.0, 1.0, 0.0, 0.0, 1.3195699174186765e-37, 1.0, 4.133391022559798e-37, 6.007032447006596e-37, 0.0, 1.0, 0.0, 0.0, 0.0, 1.0, 0.0, 0.0, 1.8216880036222622e-44, 1.0, 6.305843089461677e-44, 1.2191296639625909e-43, 0.0, 1.0, 0.0, 0.0]\n",
            "[0.0, 0.0, 0.0, 1.0, 0.0, 0.0, 0.0, 1.0, 0.0, 1.0, 0.0, 0.0, 0.0, 0.0, 1.0, 0.0, 0.0, 1.0, 0.0, 0.0, 0.0, 0.0, 0.0, 1.0, 0.0, 1.0, 0.0, 0.0, 0.0, 1.0, 0.0, 0.0, 0.0, 0.0, 1.0, 0.0, 0.0, 0.0, 0.0, 1.0, 0.0, 0.0, 0.0, 1.0, 0.0, 0.0, 0.0, 1.0, 0.0, 0.0, 1.0, 0.0, 0.0, 0.0, 0.0, 1.0, 0.0, 1.0, 0.0, 0.0, 0.0, 0.0, 0.0, 1.0]\n",
            "######\n",
            "[0.0, 1.0, 0.0, 0.0, 3.659688434324562e-16, 1.0, 5.588346985717938e-16, 6.534785602079634e-16, 1.2148022943567781e-20, 1.0, 2.2454712763024113e-20, 2.564125158947419e-20, 0.0, 1.0, 0.0, 0.0, 0.0, 1.0, 0.0, 0.0, 1.9251575622547534e-07, 0.9999992847442627, 2.3321260300690483e-07, 2.2414430134176655e-07, 2.4846639597953305e-22, 1.0, 4.497069081159774e-22, 5.878431926477508e-22, 0.0, 1.0, 0.0, 1.401298464324817e-45, 0.0, 1.0, 0.0, 0.0, 3.401008383881361e-14, 1.0, 5.1239760589898153e-14, 5.384403453699907e-14, 0.0, 1.0, 0.0, 0.0, 0.0, 1.0, 0.0, 0.0, 3.363515583548404e-36, 1.0, 1.053596146264571e-35, 1.4366493906271338e-35, 0.0, 1.0, 0.0, 0.0, 8.76602455477051e-37, 1.0, 2.5945863012601222e-36, 3.959019629793236e-36, 0.0, 1.0, 0.0, 0.0]\n",
            "[0.0, 0.0, 1.0, 0.0, 0.0, 1.0, 0.0, 0.0, 0.0, 0.0, 0.0, 1.0, 0.0, 1.0, 0.0, 0.0, 0.0, 0.0, 1.0, 0.0, 0.0, 1.0, 0.0, 0.0, 0.0, 0.0, 0.0, 1.0, 0.0, 1.0, 0.0, 0.0, 0.0, 0.0, 0.0, 1.0, 0.0, 0.0, 1.0, 0.0, 0.0, 1.0, 0.0, 0.0, 0.0, 0.0, 1.0, 0.0, 0.0, 0.0, 1.0, 0.0, 0.0, 1.0, 0.0, 0.0, 1.0, 0.0, 0.0, 0.0, 0.0, 0.0, 1.0, 0.0]\n",
            "######\n",
            "[8.416759096120581e-41, 1.0, 3.3976583215251677e-40, 4.307283193672336e-40, 1.1417471601656458e-39, 1.0, 3.164948889450138e-39, 6.315657783905808e-39, 4.899891183644532e-25, 1.0, 1.0117444820907986e-24, 1.2878163152418201e-24, 0.0, 1.0, 0.0, 0.0, 4.157371542522179e-26, 1.0, 9.394763922216294e-26, 1.121582960039637e-25, 1.0332447545976278e-36, 1.0, 2.9389303100202408e-36, 4.752082993485913e-36, 4.373331767445917e-22, 1.0, 8.677425528784948e-22, 9.827523639208683e-22, 0.0, 1.0, 0.0, 0.0, 6.978615352560246e-33, 1.0, 1.8773886398539988e-32, 2.5908727154376423e-32, 0.0, 1.0, 0.0, 0.0, 0.0, 1.0, 0.0, 0.0, 2.7212871191627427e-25, 1.0, 5.643958594514831e-25, 7.213282980620777e-25, 1.6815581571897805e-44, 1.0, 8.688050478813866e-44, 8.96831017167883e-44, 3.0411339779320294e-26, 1.0, 6.937260673143462e-26, 8.27441996683592e-26, 0.0, 1.0, 0.0, 0.0, 0.0, 1.0, 0.0, 0.0]\n",
            "[0.0, 1.0, 0.0, 0.0, 0.0, 0.0, 0.0, 1.0, 1.0, 0.0, 0.0, 0.0, 0.0, 0.0, 1.0, 0.0, 0.0, 1.0, 0.0, 0.0, 1.0, 0.0, 0.0, 0.0, 0.0, 1.0, 0.0, 0.0, 0.0, 0.0, 0.0, 1.0, 1.0, 0.0, 0.0, 0.0, 0.0, 1.0, 0.0, 0.0, 0.0, 0.0, 1.0, 0.0, 1.0, 0.0, 0.0, 0.0, 0.0, 0.0, 1.0, 0.0, 0.0, 1.0, 0.0, 0.0, 0.0, 0.0, 1.0, 0.0, 0.0, 1.0, 0.0, 0.0]\n",
            "######\n",
            "[6.727430379405704e-29, 1.0, 1.484584560555186e-28, 2.151341025819561e-28, 0.0, 1.0, 0.0, 0.0, 0.0, 1.0, 0.0, 0.0, 1.8959490824099062e-14, 1.0, 2.8282174304871018e-14, 3.065571478307397e-14, 4.203895392974451e-45, 1.0, 1.401298464324817e-44, 2.6624670822171524e-44, 0.0, 1.0, 0.0, 0.0, 1.4276550983109642e-30, 1.0, 3.320587975875138e-30, 4.922435444294342e-30, 5.78125254794153e-36, 1.0, 1.6275023492215594e-35, 2.5957064790738056e-35, 4.751207106701587e-31, 1.0, 1.0828015431243546e-30, 1.696158602699801e-30, 1.401298464324817e-45, 1.0, 7.006492321624085e-45, 1.401298464324817e-44, 2.0451609187966102e-16, 1.0, 3.189176984596967e-16, 3.7001167875014176e-16, 1.475799382965615e-27, 1.0, 3.174024415208512e-27, 4.410345676279749e-27, 0.0, 1.0, 0.0, 0.0, 0.0, 1.0, 0.0, 0.0, 0.0, 1.0, 0.0, 0.0, 1.7016210544184112e-31, 1.0, 4.584520126964026e-31, 5.911935367686586e-31]\n",
            "[0.0, 0.0, 0.0, 1.0, 0.0, 0.0, 1.0, 0.0, 0.0, 0.0, 1.0, 0.0, 0.0, 1.0, 0.0, 0.0, 1.0, 0.0, 0.0, 0.0, 0.0, 1.0, 0.0, 0.0, 0.0, 1.0, 0.0, 0.0, 0.0, 1.0, 0.0, 0.0, 0.0, 0.0, 0.0, 1.0, 0.0, 1.0, 0.0, 0.0, 0.0, 1.0, 0.0, 0.0, 0.0, 0.0, 1.0, 0.0, 0.0, 0.0, 1.0, 0.0, 0.0, 0.0, 1.0, 0.0, 1.0, 0.0, 0.0, 0.0, 0.0, 1.0, 0.0, 0.0]\n",
            "######\n",
            "[2.0460358877606654e-41, 1.0, 5.695157218708922e-41, 1.2374726608606027e-40, 0.0, 1.0, 0.0, 0.0, 3.190369923800063e-08, 1.0, 3.961712025102315e-08, 3.8636187582596904e-08, 0.0, 1.0, 0.0, 0.0, 0.0, 1.0, 0.0, 0.0, 0.0, 1.0, 0.0, 0.0, 7.045278842077088e-31, 1.0, 1.874556703516187e-30, 2.3723751756656954e-30, 0.0, 1.0, 0.0, 0.0, 6.770286649880566e-39, 1.0, 2.1857422617972282e-38, 3.326609686786971e-38, 1.1324535765151224e-21, 1.0, 2.0166538126039938e-21, 2.588230163271559e-21, 6.8352956882375225e-40, 1.0, 2.2738085453458785e-39, 3.52311377043924e-39, 1.4256933687895662e-26, 1.0, 3.106182030692115e-26, 4.0179200397041523e-26, 0.0, 1.0, 0.0, 0.0, 0.0, 1.0, 0.0, 0.0, 0.0, 1.0, 0.0, 0.0, 0.0, 1.0, 0.0, 0.0]\n",
            "[0.0, 0.0, 0.0, 1.0, 0.0, 1.0, 0.0, 0.0, 0.0, 1.0, 0.0, 0.0, 0.0, 0.0, 1.0, 0.0, 0.0, 1.0, 0.0, 0.0, 0.0, 1.0, 0.0, 0.0, 0.0, 1.0, 0.0, 0.0, 0.0, 1.0, 0.0, 0.0, 0.0, 0.0, 0.0, 1.0, 0.0, 0.0, 0.0, 1.0, 0.0, 0.0, 0.0, 1.0, 1.0, 0.0, 0.0, 0.0, 0.0, 1.0, 0.0, 0.0, 0.0, 0.0, 1.0, 0.0, 0.0, 1.0, 0.0, 0.0, 0.0, 0.0, 1.0, 0.0]\n",
            "######\n",
            "[0.0, 1.0, 0.0, 0.0, 5.888099201664877e-39, 1.0, 1.7737315064075204e-38, 3.0505729469740967e-38, 0.0, 1.0, 0.0, 0.0, 3.3491033297363128e-43, 1.0, 1.301806273357755e-42, 1.9870412224125906e-42, 0.0, 1.0, 0.0, 0.0, 0.0, 1.0, 0.0, 0.0, 5.61641825799851e-40, 1.0, 1.9850822071594645e-39, 2.8631568443823598e-39, 0.0, 1.0, 0.0, 0.0, 0.0, 1.0, 0.0, 0.0, 7.345711805809683e-32, 1.0, 2.0011636987296937e-31, 2.5983070706847004e-31, 7.419390827813856e-30, 1.0, 1.4998220067000364e-29, 2.611087647119948e-29, 1.2753764481156122e-28, 1.0, 2.563508330252901e-28, 4.242178962436197e-28, 0.0, 1.0, 0.0, 0.0, 0.0, 1.0, 0.0, 0.0, 0.0, 1.0, 0.0, 0.0, 1.8899312388348808e-41, 1.0, 6.217561286209213e-41, 1.0922420880179787e-40]\n",
            "[0.0, 0.0, 1.0, 0.0, 0.0, 1.0, 0.0, 0.0, 0.0, 0.0, 1.0, 0.0, 0.0, 1.0, 0.0, 0.0, 1.0, 0.0, 0.0, 0.0, 0.0, 1.0, 0.0, 0.0, 0.0, 0.0, 1.0, 0.0, 0.0, 0.0, 1.0, 0.0, 0.0, 1.0, 0.0, 0.0, 0.0, 1.0, 0.0, 0.0, 0.0, 1.0, 0.0, 0.0, 0.0, 1.0, 0.0, 0.0, 0.0, 0.0, 0.0, 1.0, 0.0, 1.0, 0.0, 0.0, 0.0, 1.0, 0.0, 0.0, 0.0, 0.0, 0.0, 1.0]\n",
            "######\n",
            "[0.0, 1.0, 0.0, 0.0, 0.0, 1.0, 0.0, 0.0, 1.6289996952113338e-27, 1.0, 3.455888307022467e-27, 4.958231145371119e-27, 0.0, 1.0, 0.0, 0.0, 0.0, 1.0, 0.0, 0.0, 0.0, 1.0, 0.0, 0.0, 0.0, 1.0, 0.0, 0.0, 0.0, 1.0, 0.0, 0.0, 0.0, 1.0, 0.0, 0.0, 0.0, 1.0, 0.0, 0.0, 0.0, 1.0, 0.0, 0.0, 5.5711002656622455e-40, 1.0, 1.5233627709552232e-39, 3.088756088049405e-39, 1.9540801068263774e-27, 1.0, 4.453983396959675e-27, 5.6182188335494475e-27, 0.0, 1.0, 0.0, 0.0, 0.0, 1.0, 0.0, 0.0, 0.0, 1.0, 0.0, 0.0]\n",
            "[0.0, 1.0, 0.0, 0.0, 1.0, 0.0, 0.0, 0.0, 0.0, 0.0, 0.0, 1.0, 0.0, 1.0, 0.0, 0.0, 0.0, 0.0, 0.0, 1.0, 0.0, 1.0, 0.0, 0.0, 1.0, 0.0, 0.0, 0.0, 0.0, 0.0, 0.0, 1.0, 0.0, 0.0, 1.0, 0.0, 0.0, 0.0, 1.0, 0.0, 0.0, 1.0, 0.0, 0.0, 0.0, 0.0, 0.0, 1.0, 1.0, 0.0, 0.0, 0.0, 0.0, 1.0, 0.0, 0.0, 0.0, 1.0, 0.0, 0.0, 0.0, 0.0, 1.0, 0.0]\n",
            "######\n",
            "[0.0, 1.0, 0.0, 0.0, 0.0, 1.0, 0.0, 0.0, 1.0190012126364861e-35, 1.0, 3.13094785750032e-35, 4.322220407520327e-35, 4.203895392974451e-45, 1.0, 1.401298464324817e-44, 2.6624670822171524e-44, 5.235870324534871e-37, 1.0, 1.4994219117934775e-36, 2.446106778691604e-36, 2.5083242511414226e-43, 1.0, 7.258726045202552e-43, 1.6871633510470798e-42, 1.5492407133675703e-34, 1.0, 3.7974923566939793e-34, 6.757428917215251e-34, 0.0, 1.0, 0.0, 0.0, 0.0, 1.0, 0.0, 0.0, 3.453472039359225e-37, 1.0, 9.702364565568707e-37, 1.6636769610032838e-36, 1.0069517767271558e-37, 1.0, 2.875221407588872e-37, 4.949022062602284e-37, 0.0, 1.0, 0.0, 0.0, 0.0, 1.0, 0.0, 0.0, 5.381780503182793e-27, 1.0, 1.2163473260622002e-26, 1.5164621389197455e-26, 0.0, 1.0, 0.0, 0.0, 0.0, 1.0, 0.0, 0.0]\n",
            "[0.0, 1.0, 0.0, 0.0, 0.0, 1.0, 0.0, 0.0, 0.0, 1.0, 0.0, 0.0, 0.0, 1.0, 0.0, 0.0, 1.0, 0.0, 0.0, 0.0, 0.0, 0.0, 0.0, 1.0, 1.0, 0.0, 0.0, 0.0, 0.0, 0.0, 0.0, 1.0, 1.0, 0.0, 0.0, 0.0, 0.0, 1.0, 0.0, 0.0, 1.0, 0.0, 0.0, 0.0, 0.0, 0.0, 1.0, 0.0, 0.0, 1.0, 0.0, 0.0, 1.0, 0.0, 0.0, 0.0, 0.0, 1.0, 0.0, 0.0, 0.0, 0.0, 1.0, 0.0]\n",
            "######\n",
            "[0.0, 1.0, 0.0, 0.0, 0.0, 1.0, 0.0, 0.0, 1.0774015146696714e-27, 1.0, 2.315054460000955e-27, 3.268788064785136e-27, 0.0, 1.0, 0.0, 0.0, 0.0, 1.0, 0.0, 0.0, 5.203834354721312e-36, 1.0, 1.5045506910778368e-35, 2.237894866548599e-35, 0.0, 1.0, 0.0, 0.0, 0.0, 1.0, 0.0, 0.0, 1.1515565677909306e-35, 1.0, 3.39027264456533e-35, 4.81733598781616e-35, 0.0, 1.0, 0.0, 0.0, 0.0, 1.0, 0.0, 0.0, 0.0, 1.0, 0.0, 0.0, 1.903425754790078e-07, 0.9999992847442627, 2.3077734567777952e-07, 2.2182278769378172e-07, 0.0, 1.0, 0.0, 0.0, 3.4664606525947744e-14, 1.0, 5.1929065837978336e-14, 5.497926536235896e-14, 0.0, 1.0, 0.0, 0.0]\n",
            "[0.0, 0.0, 0.0, 1.0, 0.0, 1.0, 0.0, 0.0, 0.0, 0.0, 0.0, 1.0, 0.0, 0.0, 1.0, 0.0, 0.0, 0.0, 1.0, 0.0, 0.0, 0.0, 0.0, 1.0, 0.0, 1.0, 0.0, 0.0, 0.0, 1.0, 0.0, 0.0, 0.0, 0.0, 0.0, 1.0, 0.0, 1.0, 0.0, 0.0, 1.0, 0.0, 0.0, 0.0, 0.0, 1.0, 0.0, 0.0, 0.0, 1.0, 0.0, 0.0, 0.0, 1.0, 0.0, 0.0, 0.0, 0.0, 1.0, 0.0, 0.0, 0.0, 1.0, 0.0]\n",
            "######\n",
            "[2.162844605377386e-28, 1.0, 4.707608822446538e-28, 6.805151161940829e-28, 6.697355553922967e-33, 1.0, 1.8894443629792383e-32, 2.4561726708401226e-32, 4.3323692208588685e-14, 1.0, 6.39122340662969e-14, 6.890698406834816e-14, 2.2414102115270914e-24, 1.0, 4.8511285356492e-24, 5.597476937826946e-24, 0.0, 1.0, 0.0, 0.0, 0.0, 1.0, 0.0, 0.0, 0.0, 1.0, 0.0, 0.0, 0.0, 1.0, 0.0, 0.0, 0.0, 1.0, 0.0, 0.0, 1.9140429506960823e-26, 1.0, 4.158291366663618e-26, 5.319144253973465e-26, 0.0, 1.0, 0.0, 0.0, 0.0, 1.0, 0.0, 0.0, 0.0, 1.0, 0.0, 0.0, 0.0, 1.0, 0.0, 0.0, 0.0, 1.0, 0.0, 0.0, 0.0, 1.0, 0.0, 0.0]\n",
            "[0.0, 0.0, 0.0, 1.0, 0.0, 1.0, 0.0, 0.0, 0.0, 1.0, 0.0, 0.0, 0.0, 1.0, 0.0, 0.0, 0.0, 1.0, 0.0, 0.0, 0.0, 1.0, 0.0, 0.0, 0.0, 1.0, 0.0, 0.0, 0.0, 0.0, 1.0, 0.0, 0.0, 0.0, 1.0, 0.0, 0.0, 1.0, 0.0, 0.0, 0.0, 1.0, 0.0, 0.0, 0.0, 0.0, 1.0, 0.0, 0.0, 0.0, 1.0, 0.0, 0.0, 0.0, 1.0, 0.0, 1.0, 0.0, 0.0, 0.0, 0.0, 1.0, 0.0, 0.0]\n",
            "######\n",
            "[0.0, 1.0, 0.0, 0.0, 3.6433760072445244e-44, 1.0, 1.0789998175301091e-43, 2.620428128287408e-43, 1.530331207079145e-14, 1.0, 2.43709031091683e-14, 2.4117957048261536e-14, 0.0, 1.0, 0.0, 0.0, 2.3401684354224445e-43, 1.0, 1.1014205929593062e-42, 1.2135244701052916e-42, 4.3191878272456346e-35, 1.0, 1.2321412399174212e-34, 1.7919207185342401e-34, 0.0, 1.0, 0.0, 0.0, 0.0, 1.0, 0.0, 0.0, 0.0, 1.0, 0.0, 0.0, 1.1323865333961551e-25, 1.0, 2.538628841749146e-25, 3.0047307588654414e-25, 0.0, 1.0, 0.0, 0.0, 1.32221696699103e-12, 1.0, 1.8737372764476845e-12, 1.958886611946875e-12, 1.8363094881106588e-37, 1.0, 5.423341638286102e-37, 8.574400464994283e-37, 0.0, 1.0, 0.0, 0.0, 5.215546479297733e-26, 1.0, 1.1204154458999098e-25, 1.4236940069882594e-25, 2.1311343800789473e-08, 1.0, 2.6621583160135742e-08, 2.6041524492370627e-08]\n",
            "[0.0, 0.0, 1.0, 0.0, 0.0, 1.0, 0.0, 0.0, 0.0, 0.0, 0.0, 1.0, 0.0, 0.0, 0.0, 1.0, 0.0, 0.0, 1.0, 0.0, 1.0, 0.0, 0.0, 0.0, 0.0, 0.0, 1.0, 0.0, 0.0, 0.0, 1.0, 0.0, 0.0, 1.0, 0.0, 0.0, 0.0, 1.0, 0.0, 0.0, 0.0, 0.0, 0.0, 1.0, 0.0, 0.0, 1.0, 0.0, 1.0, 0.0, 0.0, 0.0, 0.0, 0.0, 0.0, 1.0, 1.0, 0.0, 0.0, 0.0, 0.0, 1.0, 0.0, 0.0]\n",
            "######\n",
            "[0.0, 1.0, 0.0, 0.0, 0.0, 1.0, 0.0, 0.0, 1.401298464324817e-45, 1.0, 4.203895392974451e-45, 8.407790785948902e-45, 9.80908925027372e-45, 1.0, 3.6433760072445244e-44, 6.305843089461677e-44, 6.325377190054365e-40, 1.0, 1.7793085341656867e-39, 3.5994593133725846e-39, 1.9432505257118902e-26, 1.0, 4.257097119488923e-26, 5.47456834122947e-26, 0.0, 1.0, 0.0, 0.0, 4.231354369480266e-26, 1.0, 9.060603675359838e-26, 1.159324284416706e-25, 1.2955004302682934e-41, 1.0, 4.1999717572743417e-41, 7.499749381066421e-41, 0.0, 1.0, 0.0, 0.0, 0.0, 1.0, 0.0, 0.0, 4.6664242488703e-24, 1.0, 8.806402961502262e-24, 1.2043953591984428e-23, 1.1046176993934065e-14, 1.0, 1.7431721214059004e-14, 1.7597953124023555e-14, 4.2092922843042085e-14, 1.0, 6.297935941203606e-14, 6.659029474749903e-14, 1.1053442286594157e-41, 1.0, 3.572610434796121e-41, 6.424112679850691e-41, 0.0, 1.0, 0.0, 0.0]\n",
            "[0.0, 0.0, 1.0, 0.0, 0.0, 1.0, 0.0, 0.0, 0.0, 1.0, 0.0, 0.0, 1.0, 0.0, 0.0, 0.0, 1.0, 0.0, 0.0, 0.0, 0.0, 1.0, 0.0, 0.0, 0.0, 0.0, 1.0, 0.0, 0.0, 1.0, 0.0, 0.0, 0.0, 1.0, 0.0, 0.0, 0.0, 0.0, 0.0, 1.0, 0.0, 0.0, 1.0, 0.0, 0.0, 0.0, 0.0, 1.0, 0.0, 0.0, 0.0, 1.0, 0.0, 0.0, 1.0, 0.0, 0.0, 1.0, 0.0, 0.0, 0.0, 0.0, 1.0, 0.0]\n",
            "######\n",
            "[0.0, 1.0, 0.0, 0.0, 0.0, 1.0, 0.0, 0.0, 0.0, 1.0, 0.0, 0.0, 0.0, 1.0, 0.0, 0.0, 0.0, 1.0, 4.203895392974451e-45, 4.203895392974451e-45, 0.0, 1.0, 0.0, 0.0, 0.0, 1.0, 0.0, 0.0, 0.0, 1.0, 0.0, 0.0, 0.0, 1.0, 0.0, 0.0, 0.0, 1.0, 0.0, 0.0, 1.816510705779874e-35, 1.0, 5.063298423204257e-35, 7.908402272208393e-35, 7.448071836730982e-27, 1.0, 1.73367190768444e-26, 2.086959874450968e-26, 4.8063238061935644e-27, 1.0, 1.016936154434357e-26, 1.41991295969168e-26, 1.809816706221934e-11, 1.0, 2.4030017559129035e-11, 2.553355964163284e-11, 1.4800755165694996e-31, 1.0, 3.7744625195298903e-31, 5.215831593214384e-31, 0.0, 1.0, 0.0, 0.0]\n",
            "[0.0, 0.0, 0.0, 1.0, 0.0, 1.0, 0.0, 0.0, 0.0, 1.0, 0.0, 0.0, 0.0, 0.0, 0.0, 1.0, 0.0, 0.0, 1.0, 0.0, 0.0, 0.0, 1.0, 0.0, 0.0, 0.0, 1.0, 0.0, 0.0, 0.0, 1.0, 0.0, 0.0, 1.0, 0.0, 0.0, 1.0, 0.0, 0.0, 0.0, 0.0, 1.0, 0.0, 0.0, 0.0, 1.0, 0.0, 0.0, 0.0, 0.0, 0.0, 1.0, 0.0, 1.0, 0.0, 0.0, 1.0, 0.0, 0.0, 0.0, 0.0, 0.0, 0.0, 1.0]\n",
            "######\n",
            "[0.0, 1.0, 0.0, 0.0, 5.605193857299268e-45, 1.0, 2.1019476964872256e-44, 4.344025239406933e-44, 0.0, 1.0, 0.0, 0.0, 0.0, 1.0, 0.0, 0.0, 1.6321637315688564e-37, 1.0, 4.7689150767485265e-37, 7.642888095561501e-37, 3.441110793241846e-37, 1.0, 9.883616804631388e-37, 1.62536111135821e-36, 5.2739835609827423e-08, 0.9999997615814209, 6.489820947308544e-08, 6.306752453610898e-08, 0.0, 1.0, 0.0, 0.0, 8.267660939516421e-44, 1.0, 3.7274539151040134e-43, 4.820466717277371e-43, 1.157281414717805e-20, 1.0, 2.151202090157203e-20, 2.441223406704372e-20, 0.0, 1.0, 0.0, 0.0, 5.373283759499453e-36, 1.0, 1.484800176192396e-35, 2.3894347711533416e-35, 3.4779479086054785e-27, 1.0, 7.805690834756448e-27, 9.908015932378133e-27, 3.4332541253054066e-31, 1.0, 9.168048136695957e-31, 1.165778372795227e-30, 0.0, 1.0, 0.0, 0.0, 0.0, 1.0, 0.0, 0.0]\n",
            "[1.0, 0.0, 0.0, 0.0, 0.0, 1.0, 0.0, 0.0, 0.0, 1.0, 0.0, 0.0, 0.0, 0.0, 1.0, 0.0, 1.0, 0.0, 0.0, 0.0, 0.0, 1.0, 0.0, 0.0, 0.0, 1.0, 0.0, 0.0, 0.0, 0.0, 0.0, 1.0, 0.0, 1.0, 0.0, 0.0, 0.0, 0.0, 0.0, 1.0, 0.0, 0.0, 1.0, 0.0, 1.0, 0.0, 0.0, 0.0, 1.0, 0.0, 0.0, 0.0, 0.0, 1.0, 0.0, 0.0, 0.0, 0.0, 1.0, 0.0, 0.0, 1.0, 0.0, 0.0]\n",
            "######\n",
            "[0.0, 1.0, 0.0, 0.0, 0.0, 1.0, 0.0, 0.0, 8.857384916157817e-30, 1.0, 2.2748610543779778e-29, 2.840131875021738e-29, 0.0, 1.0, 0.0, 0.0, 7.271125867532438e-27, 1.0, 1.636555734680747e-26, 2.0400468402704194e-26, 7.451567014394056e-27, 1.0, 1.7689651131757206e-26, 2.0297304809675125e-26, 0.0, 1.0, 0.0, 0.0, 0.0, 1.0, 0.0, 0.0, 0.0, 1.0, 0.0, 0.0, 0.0, 1.0, 0.0, 0.0, 1.8513689207597762e-29, 1.0, 4.7879644577015177e-29, 5.690622243878741e-29, 7.466118217922625e-42, 1.0, 2.4428836128574536e-41, 4.3639236776003453e-41, 0.0, 1.0, 0.0, 0.0, 0.0, 1.0, 0.0, 0.0, 2.4931459563504177e-08, 1.0, 3.100634415886816e-08, 3.036767992625755e-08, 1.0080376500369677e-33, 1.0, 2.621581991074096e-33, 3.997648371583298e-33]\n",
            "[0.0, 0.0, 1.0, 0.0, 0.0, 1.0, 0.0, 0.0, 0.0, 1.0, 0.0, 0.0, 0.0, 0.0, 1.0, 0.0, 1.0, 0.0, 0.0, 0.0, 0.0, 0.0, 1.0, 0.0, 0.0, 0.0, 1.0, 0.0, 0.0, 0.0, 1.0, 0.0, 0.0, 0.0, 0.0, 1.0, 0.0, 0.0, 0.0, 1.0, 0.0, 0.0, 1.0, 0.0, 1.0, 0.0, 0.0, 0.0, 0.0, 0.0, 1.0, 0.0, 0.0, 1.0, 0.0, 0.0, 0.0, 1.0, 0.0, 0.0, 1.0, 0.0, 0.0, 0.0]\n",
            "######\n",
            "[0.0, 1.0, 0.0, 0.0, 1.0546035730478464e-31, 1.0, 2.710814340298512e-31, 3.726961263010902e-31, 1.8216880036222622e-44, 1.0, 6.58610278232664e-44, 1.1770907100328463e-43, 0.0, 1.0, 0.0, 0.0, 6.2276708312838935e-15, 1.0, 9.243695964374597e-15, 1.0368692090632816e-14, 0.0, 1.0, 0.0, 0.0, 3.6396755645694634e-27, 1.0, 8.227612781765115e-27, 1.0337665480695659e-26, 0.0, 1.0, 0.0, 0.0, 0.0, 1.0, 0.0, 0.0, 0.0, 1.0, 0.0, 0.0, 0.0, 1.0, 0.0, 0.0, 0.0, 1.0, 0.0, 0.0, 4.0153079730223545e-37, 1.0, 1.1719547381637293e-36, 1.8511858519741345e-36, 5.462702686654021e-32, 1.0, 1.433783373539767e-31, 1.995690126834525e-31, 0.0, 1.0, 0.0, 0.0, 0.0, 1.0, 0.0, 0.0]\n",
            "[0.0, 1.0, 0.0, 0.0, 1.0, 0.0, 0.0, 0.0, 0.0, 1.0, 0.0, 0.0, 0.0, 1.0, 0.0, 0.0, 0.0, 1.0, 0.0, 0.0, 0.0, 1.0, 0.0, 0.0, 0.0, 0.0, 1.0, 0.0, 0.0, 0.0, 1.0, 0.0, 0.0, 0.0, 0.0, 1.0, 0.0, 1.0, 0.0, 0.0, 0.0, 1.0, 0.0, 0.0, 0.0, 0.0, 1.0, 0.0, 1.0, 0.0, 0.0, 0.0, 0.0, 1.0, 0.0, 0.0, 0.0, 1.0, 0.0, 0.0, 0.0, 1.0, 0.0, 0.0]\n",
            "######\n",
            "[0.0, 1.0, 0.0, 0.0, 0.0, 1.0, 0.0, 0.0, 0.0, 1.0, 0.0, 0.0, 0.0, 1.0, 0.0, 0.0, 0.0, 1.0, 0.0, 0.0, 3.557182130224327e-26, 1.0, 7.727391151383814e-26, 9.886123193365503e-26, 0.0, 1.0, 0.0, 0.0, 0.0, 1.0, 0.0, 0.0, 0.0, 1.0, 0.0, 0.0, 0.0, 1.0, 0.0, 0.0, 6.274462610212385e-28, 1.0, 1.364355157844156e-27, 1.9314617929664993e-27, 0.0, 1.0, 0.0, 0.0, 0.0, 1.0, 0.0, 0.0, 0.0, 1.0, 0.0, 0.0, 0.0, 1.0, 0.0, 0.0, 0.0, 1.0, 0.0, 0.0]\n",
            "[0.0, 0.0, 0.0, 1.0, 0.0, 0.0, 1.0, 0.0, 0.0, 0.0, 1.0, 0.0, 0.0, 0.0, 0.0, 1.0, 0.0, 1.0, 0.0, 0.0, 0.0, 1.0, 0.0, 0.0, 0.0, 1.0, 0.0, 0.0, 0.0, 1.0, 0.0, 0.0, 0.0, 0.0, 1.0, 0.0, 0.0, 1.0, 0.0, 0.0, 0.0, 0.0, 0.0, 1.0, 0.0, 0.0, 0.0, 1.0, 1.0, 0.0, 0.0, 0.0, 0.0, 0.0, 1.0, 0.0, 0.0, 0.0, 1.0, 0.0, 1.0, 0.0, 0.0, 0.0]\n",
            "######\n",
            "[0.0, 1.0, 0.0, 0.0, 2.074038788759738e-34, 1.0, 6.0433335478349815e-34, 8.263031009929727e-34, 1.0820866309700715e-31, 1.0, 2.7639640822720716e-31, 3.8515509688590756e-31, 4.289964041013887e-14, 1.0, 6.455605364510952e-14, 6.770863573589067e-14, 0.0, 1.0, 0.0, 0.0, 0.0, 1.0, 0.0, 0.0, 6.151535506940769e-34, 1.0, 1.695903699688561e-33, 2.4252700263829585e-33, 0.0, 1.0, 0.0, 0.0, 0.0, 1.0, 0.0, 0.0, 0.0, 1.0, 0.0, 0.0, 1.2688033291490345e-32, 1.0, 3.49183094837256e-32, 4.6400984990411017e-32, 2.3840290773558113e-41, 1.0, 6.858935593330682e-41, 1.4356583026700616e-40, 1.81989498240408e-28, 1.0, 3.9865112808363053e-28, 5.7586711266037755e-28, 6.216165673760755e-28, 1.0, 1.3263694637720232e-27, 1.896837231833311e-27, 2.5750702909873535e-23, 1.0, 4.9589598260500327e-23, 6.363958016939019e-23, 0.0, 1.0, 0.0, 0.0]\n",
            "[0.0, 1.0, 0.0, 0.0, 0.0, 1.0, 0.0, 0.0, 1.0, 0.0, 0.0, 0.0, 0.0, 0.0, 1.0, 0.0, 0.0, 0.0, 1.0, 0.0, 0.0, 0.0, 0.0, 1.0, 1.0, 0.0, 0.0, 0.0, 0.0, 0.0, 0.0, 1.0, 0.0, 0.0, 1.0, 0.0, 1.0, 0.0, 0.0, 0.0, 0.0, 1.0, 0.0, 0.0, 0.0, 1.0, 0.0, 0.0, 0.0, 0.0, 0.0, 1.0, 0.0, 0.0, 1.0, 0.0, 0.0, 1.0, 0.0, 0.0, 0.0, 1.0, 0.0, 0.0]\n",
            "######\n",
            "[7.373717459368024e-28, 1.0, 1.5976199408484492e-27, 2.263204188852173e-27, 0.0, 1.0, 0.0, 0.0, 8.09226626255927e-36, 1.0, 1.9863288874722745e-35, 3.777076292748726e-35, 0.0, 1.0, 0.0, 0.0, 0.0, 1.0, 0.0, 0.0, 2.7735515537873323e-33, 1.0, 7.707491645047144e-33, 1.0494701157494085e-32, 7.045278842077088e-31, 1.0, 1.874556703516187e-30, 2.3723751756656954e-30, 0.0, 1.0, 0.0, 0.0, 6.772763329622734e-25, 1.0, 1.4271857518738004e-24, 1.741056644159392e-24, 0.0, 1.0, 0.0, 0.0, 0.0, 1.0, 0.0, 0.0, 2.9227195427116407e-28, 1.0, 6.573423271032157e-28, 8.871494880783505e-28, 0.0, 1.0, 0.0, 0.0, 0.0, 1.0, 0.0, 0.0, 0.0, 1.0, 0.0, 0.0, 0.0, 1.0, 0.0, 0.0]\n",
            "[0.0, 0.0, 0.0, 1.0, 0.0, 1.0, 0.0, 0.0, 0.0, 1.0, 0.0, 0.0, 0.0, 1.0, 0.0, 0.0, 0.0, 1.0, 0.0, 0.0, 0.0, 1.0, 0.0, 0.0, 0.0, 1.0, 0.0, 0.0, 0.0, 0.0, 1.0, 0.0, 1.0, 0.0, 0.0, 0.0, 0.0, 0.0, 1.0, 0.0, 0.0, 1.0, 0.0, 0.0, 1.0, 0.0, 0.0, 0.0, 0.0, 0.0, 1.0, 0.0, 0.0, 0.0, 1.0, 0.0, 0.0, 0.0, 1.0, 0.0, 0.0, 1.0, 0.0, 0.0]\n",
            "######\n",
            "[0.0, 1.0, 0.0, 0.0, 0.0, 1.0, 0.0, 0.0, 0.0, 1.0, 0.0, 0.0, 0.0, 1.0, 0.0, 0.0, 0.0, 1.0, 0.0, 0.0, 0.0, 1.0, 0.0, 0.0, 1.401298464324817e-45, 1.0, 4.203895392974451e-45, 8.407790785948902e-45, 2.9246818175518843e-36, 1.0, 9.135452927080814e-36, 1.2572909358135456e-35, 2.036191311047264e-14, 1.0, 3.0311975260551016e-14, 3.291708607620382e-14, 0.0, 1.0, 0.0, 0.0, 0.0, 1.0, 0.0, 0.0, 0.0, 1.0, 0.0, 0.0, 8.322311579625089e-42, 1.0, 2.572223461114634e-41, 4.980495001903265e-41, 2.1065141447872003e-35, 1.0, 6.179732792475489e-35, 8.747327565217557e-35, 0.0, 1.0, 0.0, 0.0, 0.0, 1.0, 0.0, 0.0]\n",
            "[0.0, 0.0, 1.0, 0.0, 0.0, 0.0, 1.0, 0.0, 1.0, 0.0, 0.0, 0.0, 0.0, 1.0, 0.0, 0.0, 0.0, 0.0, 1.0, 0.0, 0.0, 0.0, 1.0, 0.0, 0.0, 1.0, 0.0, 0.0, 0.0, 0.0, 1.0, 0.0, 0.0, 0.0, 1.0, 0.0, 1.0, 0.0, 0.0, 0.0, 0.0, 0.0, 1.0, 0.0, 0.0, 0.0, 1.0, 0.0, 0.0, 1.0, 0.0, 0.0, 0.0, 0.0, 0.0, 1.0, 0.0, 1.0, 0.0, 0.0, 0.0, 1.0, 0.0, 0.0]\n",
            "######\n",
            "[0.0, 1.0, 1.401298464324817e-45, 2.802596928649634e-45, 0.0, 1.0, 0.0, 0.0, 3.001959661169126e-39, 1.0, 1.0157978936727455e-38, 1.4786763438368298e-38, 0.0, 1.0, 0.0, 0.0, 0.0, 1.0, 0.0, 0.0, 0.0, 1.0, 0.0, 0.0, 1.8216880036222622e-44, 1.0, 6.305843089461677e-44, 1.2191296639625909e-43, 1.0165448979142948e-25, 1.0, 2.164127234275819e-25, 2.7203634123465355e-25, 0.0, 1.0, 0.0, 0.0, 3.637413570345416e-08, 1.0, 4.5093834444287495e-08, 4.390739150039735e-08, 0.0, 1.0, 0.0, 0.0, 5.1579674139735746e-27, 1.0, 1.1612977771269999e-26, 1.4585509662359768e-26, 0.0, 1.0, 0.0, 0.0, 1.04703227592316e-37, 1.0, 2.7245735269870455e-37, 5.17648979764166e-37, 0.0, 1.0, 0.0, 0.0, 0.0, 1.0, 0.0, 0.0]\n",
            "[0.0, 0.0, 1.0, 0.0, 0.0, 1.0, 0.0, 0.0, 0.0, 1.0, 0.0, 0.0, 1.0, 0.0, 0.0, 0.0, 0.0, 0.0, 1.0, 0.0, 0.0, 1.0, 0.0, 0.0, 0.0, 1.0, 0.0, 0.0, 1.0, 0.0, 0.0, 0.0, 1.0, 0.0, 0.0, 0.0, 0.0, 1.0, 0.0, 0.0, 0.0, 0.0, 1.0, 0.0, 1.0, 0.0, 0.0, 0.0, 0.0, 0.0, 0.0, 1.0, 0.0, 0.0, 0.0, 1.0, 0.0, 1.0, 0.0, 0.0, 0.0, 0.0, 1.0, 0.0]\n",
            "######\n",
            "[0.0, 1.0, 0.0, 0.0, 3.2192273391542415e-27, 1.0, 7.15498458816611e-27, 9.345182935802385e-27, 3.299631541409697e-20, 1.0, 6.14630156432477e-20, 6.915905882600132e-20, 4.203895392974451e-45, 1.0, 1.2611686178923354e-44, 2.5223372357846707e-44, 0.0, 1.0, 0.0, 0.0, 9.23836350512514e-32, 1.0, 2.5324499996798817e-31, 3.231352156003651e-31, 3.046002471902855e-41, 1.0, 8.246781592397981e-41, 1.84566422034686e-40, 5.269721889282122e-34, 1.0, 1.2564963808405051e-33, 2.3081254021677942e-33, 0.0, 1.0, 0.0, 0.0, 0.0, 1.0, 0.0, 0.0, 0.0, 1.0, 0.0, 0.0, 0.0, 1.0, 0.0, 0.0, 5.1579674139735746e-27, 1.0, 1.1612977771269999e-26, 1.4585509662359768e-26, 0.0, 1.0, 1.401298464324817e-45, 2.802596928649634e-45, 1.1997782983151472e-22, 1.0, 2.4420778402523898e-22, 2.7610575969197234e-22, 8.484301682101037e-41, 1.0, 3.0870184779536423e-40, 4.443055001880768e-40]\n",
            "[0.0, 0.0, 1.0, 0.0, 0.0, 1.0, 0.0, 0.0, 0.0, 1.0, 0.0, 0.0, 0.0, 1.0, 0.0, 0.0, 0.0, 1.0, 0.0, 0.0, 0.0, 1.0, 0.0, 0.0, 0.0, 1.0, 0.0, 0.0, 0.0, 1.0, 0.0, 0.0, 0.0, 1.0, 0.0, 0.0, 0.0, 1.0, 0.0, 0.0, 1.0, 0.0, 0.0, 0.0, 0.0, 1.0, 0.0, 0.0, 1.0, 0.0, 0.0, 0.0, 1.0, 0.0, 0.0, 0.0, 0.0, 1.0, 0.0, 0.0, 0.0, 0.0, 1.0, 0.0]\n",
            "######\n",
            "[2.381943210675739e-29, 1.0, 5.28179065010908e-29, 7.797171315128581e-29, 1.4537375312042975e-30, 1.0, 3.844228391369837e-30, 4.745974370089015e-30, 0.0, 1.0, 0.0, 0.0, 0.0, 1.0, 0.0, 0.0, 1.3824917599603026e-10, 1.0, 1.7980059108246849e-10, 1.8845563998226567e-10, 0.0, 1.0, 0.0, 0.0, 5.235870324534871e-37, 1.0, 1.4994219117934775e-36, 2.446106778691604e-36, 1.0537764451722624e-42, 1.0, 3.414964357559579e-42, 6.364697624963319e-42, 3.2380301356368076e-37, 1.0, 9.330743800153834e-37, 1.5355537088624423e-36, 0.0, 1.0, 0.0, 0.0, 1.056294858772347e-38, 1.0, 3.546294329895794e-38, 5.091316971214086e-38, 0.0, 1.0, 0.0, 0.0, 0.0, 1.0, 0.0, 0.0, 0.0, 1.0, 0.0, 0.0, 0.0, 1.0, 0.0, 0.0, 0.0, 1.0, 0.0, 0.0]\n",
            "[0.0, 0.0, 0.0, 1.0, 0.0, 0.0, 1.0, 0.0, 0.0, 0.0, 0.0, 1.0, 0.0, 0.0, 1.0, 0.0, 0.0, 1.0, 0.0, 0.0, 0.0, 0.0, 1.0, 0.0, 1.0, 0.0, 0.0, 0.0, 1.0, 0.0, 0.0, 0.0, 0.0, 1.0, 0.0, 0.0, 1.0, 0.0, 0.0, 0.0, 0.0, 1.0, 0.0, 0.0, 0.0, 1.0, 0.0, 0.0, 0.0, 1.0, 0.0, 0.0, 0.0, 0.0, 1.0, 0.0, 0.0, 1.0, 0.0, 0.0, 0.0, 0.0, 0.0, 1.0]\n",
            "######\n",
            "[0.0, 1.0, 0.0, 0.0, 0.0, 1.0, 0.0, 0.0, 0.0, 1.0, 0.0, 0.0, 7.612708050275644e-40, 1.0, 2.6934245678910163e-39, 3.8359928889567564e-39, 7.315693042003525e-28, 1.0, 1.5660082082237632e-27, 2.2514159568485675e-27, 1.464875375651234e-40, 1.0, 4.992462090788599e-40, 7.792228396540297e-40, 1.622251053108592e-14, 1.0, 2.4033279164524524e-14, 2.6357561288712847e-14, 1.940776244993737e-26, 1.0, 4.249649779505571e-26, 5.467243028167394e-26, 0.0, 1.0, 0.0, 0.0, 3.0283608641225946e-36, 1.0, 8.815626484668032e-36, 1.3263034457677602e-35, 3.4640938817188073e-40, 1.0, 9.50304566566518e-40, 1.993764652444421e-39, 6.443450598658374e-41, 1.0, 1.9477908524268525e-40, 3.829314300475784e-40, 0.0, 1.0, 0.0, 0.0, 0.0, 1.0, 0.0, 0.0, 1.4499537567126761e-24, 1.0, 2.7776723328699986e-24, 3.8350709565591055e-24, 0.0, 1.0, 0.0, 0.0]\n",
            "[0.0, 0.0, 0.0, 1.0, 0.0, 0.0, 1.0, 0.0, 0.0, 0.0, 1.0, 0.0, 0.0, 0.0, 1.0, 0.0, 0.0, 0.0, 0.0, 1.0, 0.0, 0.0, 0.0, 1.0, 0.0, 0.0, 1.0, 0.0, 0.0, 1.0, 0.0, 0.0, 0.0, 1.0, 0.0, 0.0, 1.0, 0.0, 0.0, 0.0, 0.0, 1.0, 0.0, 0.0, 0.0, 1.0, 0.0, 0.0, 0.0, 1.0, 0.0, 0.0, 0.0, 1.0, 0.0, 0.0, 0.0, 0.0, 0.0, 1.0, 0.0, 0.0, 0.0, 1.0]\n",
            "######\n",
            "[1.401298464324817e-45, 1.0, 5.605193857299268e-45, 1.401298464324817e-44, 0.0, 1.0, 0.0, 0.0, 0.0, 1.0, 0.0, 0.0, 0.0, 1.0, 0.0, 0.0, 0.0, 1.0, 0.0, 0.0, 0.0, 1.0, 0.0, 0.0, 9.65102278349788e-41, 1.0, 3.423203992529809e-40, 5.125837678623035e-40, 0.0, 1.0, 0.0, 0.0, 0.0, 1.0, 0.0, 0.0, 0.0, 1.0, 0.0, 0.0, 0.0, 1.0, 0.0, 0.0, 5.295021911303497e-15, 1.0, 7.858620912760787e-15, 8.82621883566137e-15, 0.0, 1.0, 0.0, 0.0, 0.0, 1.0, 0.0, 0.0, 0.0, 1.0, 0.0, 0.0, 3.923635700109488e-44, 1.0, 1.5694542800437951e-43, 2.396220373995437e-43]\n",
            "[0.0, 1.0, 0.0, 0.0, 0.0, 1.0, 0.0, 0.0, 0.0, 0.0, 1.0, 0.0, 1.0, 0.0, 0.0, 0.0, 0.0, 0.0, 1.0, 0.0, 0.0, 0.0, 1.0, 0.0, 0.0, 1.0, 0.0, 0.0, 0.0, 0.0, 1.0, 0.0, 0.0, 1.0, 0.0, 0.0, 0.0, 0.0, 0.0, 1.0, 0.0, 1.0, 0.0, 0.0, 0.0, 1.0, 0.0, 0.0, 0.0, 0.0, 1.0, 0.0, 0.0, 0.0, 0.0, 1.0, 0.0, 0.0, 1.0, 0.0, 0.0, 1.0, 0.0, 0.0]\n",
            "######\n",
            "[0.0, 1.0, 0.0, 0.0, 1.816510705779874e-35, 1.0, 5.063298423204257e-35, 7.908402272208393e-35, 2.669831926518763e-19, 1.0, 4.365005209072419e-19, 5.558064350169902e-19, 5.401227018545391e-38, 1.0, 1.618152876899274e-37, 2.6057835504003193e-37, 0.0, 1.0, 0.0, 0.0, 0.0, 1.0, 0.0, 0.0, 0.0, 1.0, 0.0, 0.0, 1.1096125837817491e-39, 1.0, 3.402677772624379e-39, 5.874907377921723e-39, 7.22727281537747e-33, 1.0, 1.86083268354343e-32, 2.77066604576385e-32, 2.3582302109601672e-20, 1.0, 4.34018016179651e-20, 4.915630003786618e-20, 0.0, 1.0, 0.0, 0.0, 0.0, 1.0, 0.0, 0.0, 0.0, 1.0, 0.0, 0.0, 0.0, 1.0, 0.0, 0.0, 0.0, 1.0, 0.0, 0.0, 2.2043830938400788e-07, 0.9999992847442627, 2.6683088094614504e-07, 2.557495122346154e-07]\n",
            "[0.0, 1.0, 0.0, 0.0, 0.0, 1.0, 0.0, 0.0, 0.0, 1.0, 0.0, 0.0, 1.0, 0.0, 0.0, 0.0, 0.0, 0.0, 1.0, 0.0, 0.0, 0.0, 1.0, 0.0, 0.0, 1.0, 0.0, 0.0, 1.0, 0.0, 0.0, 0.0, 0.0, 1.0, 0.0, 0.0, 0.0, 0.0, 0.0, 1.0, 1.0, 0.0, 0.0, 0.0, 0.0, 0.0, 1.0, 0.0, 0.0, 0.0, 1.0, 0.0, 0.0, 1.0, 0.0, 0.0, 0.0, 0.0, 1.0, 0.0, 0.0, 1.0, 0.0, 0.0]\n",
            "######\n",
            "[0.0, 1.0, 0.0, 0.0, 0.0, 1.0, 0.0, 0.0, 0.0, 1.0, 0.0, 0.0, 0.0, 1.0, 0.0, 0.0, 0.0, 1.0, 0.0, 0.0, 1.99424889545531e-34, 1.0, 5.2456141531856874e-34, 8.13312510883944e-34, 0.0, 1.0, 0.0, 0.0, 1.5495193881806617e-33, 1.0, 3.732819412576622e-33, 6.276768817986537e-33, 0.0, 1.0, 0.0, 0.0, 0.0, 1.0, 0.0, 0.0, 0.0, 1.0, 0.0, 0.0, 0.0, 1.0, 0.0, 0.0, 1.8149892305385775e-25, 1.0, 3.601793200490707e-25, 5.010906099722087e-25, 0.0, 1.0, 0.0, 0.0, 0.0, 1.0, 0.0, 0.0, 0.0, 1.0, 0.0, 0.0]\n",
            "[1.0, 0.0, 0.0, 0.0, 0.0, 1.0, 0.0, 0.0, 0.0, 1.0, 0.0, 0.0, 0.0, 0.0, 0.0, 1.0, 0.0, 0.0, 1.0, 0.0, 1.0, 0.0, 0.0, 0.0, 0.0, 0.0, 1.0, 0.0, 1.0, 0.0, 0.0, 0.0, 0.0, 1.0, 0.0, 0.0, 0.0, 0.0, 0.0, 1.0, 0.0, 0.0, 0.0, 1.0, 0.0, 1.0, 0.0, 0.0, 0.0, 0.0, 0.0, 1.0, 1.0, 0.0, 0.0, 0.0, 0.0, 1.0, 0.0, 0.0, 0.0, 1.0, 0.0, 0.0]\n",
            "######\n",
            "[0.0, 1.0, 0.0, 0.0, 0.0, 1.0, 0.0, 0.0, 0.0, 1.0, 0.0, 0.0, 6.668338384037422e-35, 1.0, 1.6314130490310772e-34, 2.954558214688779e-34, 0.0, 1.0, 0.0, 0.0, 0.0, 1.0, 0.0, 0.0, 5.0780044544637684e-33, 1.0, 1.3239952868456364e-32, 1.9468208299900495e-32, 0.0, 1.0, 0.0, 0.0, 0.0, 1.0, 0.0, 0.0, 0.0, 1.0, 0.0, 0.0, 0.0, 1.0, 0.0, 0.0, 8.681992841666486e-15, 1.0, 1.306768973222518e-14, 1.427078737841793e-14, 0.0, 1.0, 0.0, 0.0, 0.0, 1.0, 0.0, 0.0, 1.4451941323020692e-31, 1.0, 3.719490291114816e-31, 5.05138604610497e-31, 0.0, 1.0, 0.0, 0.0]\n",
            "[0.0, 0.0, 0.0, 1.0, 0.0, 1.0, 0.0, 0.0, 0.0, 0.0, 0.0, 1.0, 0.0, 1.0, 0.0, 0.0, 1.0, 0.0, 0.0, 0.0, 0.0, 1.0, 0.0, 0.0, 1.0, 0.0, 0.0, 0.0, 0.0, 1.0, 0.0, 0.0, 0.0, 1.0, 0.0, 0.0, 0.0, 1.0, 0.0, 0.0, 0.0, 1.0, 0.0, 0.0, 0.0, 1.0, 0.0, 0.0, 0.0, 0.0, 1.0, 0.0, 0.0, 1.0, 0.0, 0.0, 1.0, 0.0, 0.0, 0.0, 0.0, 0.0, 1.0, 0.0]\n",
            "######\n",
            "[1.3620621073237222e-41, 1.0, 4.0583004825311027e-41, 8.30829859498184e-41, 1.907167209946076e-42, 1.0, 6.268008030924907e-42, 1.1539692853714869e-41, 4.941967652162885e-14, 1.0, 7.350993051031748e-14, 7.801306936604593e-14, 0.0, 1.0, 0.0, 0.0, 6.360365931150398e-38, 1.0, 1.7908450881108415e-37, 3.259718648540487e-37, 0.0, 1.0, 0.0, 0.0, 0.0, 1.0, 0.0, 0.0, 0.0, 1.0, 0.0, 0.0, 9.374808866135537e-29, 1.0, 2.166411909116877e-28, 2.920045148242616e-28, 2.7928663121133626e-39, 1.0, 9.394020441245316e-39, 1.3725065452977208e-38, 1.0089348943138683e-43, 1.0, 3.44719422223905e-43, 6.642154720899633e-43, 0.0, 1.0, 0.0, 0.0, 0.0, 1.0, 0.0, 0.0, 0.0, 1.0, 0.0, 0.0, 2.802596928649634e-45, 1.0, 1.5414283107572988e-44, 1.5414283107572988e-44, 0.0, 1.0, 0.0, 0.0]\n",
            "[0.0, 1.0, 0.0, 0.0, 0.0, 1.0, 0.0, 0.0, 0.0, 0.0, 1.0, 0.0, 1.0, 0.0, 0.0, 0.0, 0.0, 1.0, 0.0, 0.0, 0.0, 0.0, 1.0, 0.0, 0.0, 1.0, 0.0, 0.0, 0.0, 0.0, 0.0, 1.0, 0.0, 1.0, 0.0, 0.0, 0.0, 0.0, 0.0, 1.0, 0.0, 1.0, 0.0, 0.0, 0.0, 0.0, 0.0, 1.0, 1.0, 0.0, 0.0, 0.0, 0.0, 0.0, 1.0, 0.0, 0.0, 0.0, 1.0, 0.0, 0.0, 1.0, 0.0, 0.0]\n",
            "######\n",
            "[0.0, 1.0, 0.0, 0.0, 2.2042424843829373e-42, 1.0, 6.518840456039049e-42, 1.4120884625001182e-41, 0.0, 1.0, 0.0, 0.0, 2.9144512657936842e-33, 1.0, 7.708844932918529e-33, 1.1162094687329163e-32, 1.9570860648457354e-20, 1.0, 3.6033829252142523e-20, 4.106629916368711e-20, 1.4895746623834232e-39, 1.0, 4.990878623523912e-39, 7.669634399090376e-39, 0.0, 1.0, 0.0, 0.0, 0.0, 1.0, 0.0, 0.0, 3.659688434324562e-16, 1.0, 5.588346985717938e-16, 6.534785602079634e-16, 3.9320434908954367e-41, 1.0, 1.1132475519982077e-40, 2.375369052846284e-40, 0.0, 1.0, 0.0, 0.0, 1.0946046772288303e-37, 1.0, 3.4971409836626723e-37, 5.108653499503081e-37, 0.0, 1.0, 0.0, 0.0, 0.0, 1.0, 0.0, 0.0, 7.297256829551101e-24, 1.0, 1.5372106475153038e-23, 1.7836037781963967e-23, 0.0, 1.0, 0.0, 0.0]\n",
            "[0.0, 0.0, 0.0, 1.0, 0.0, 1.0, 0.0, 0.0, 0.0, 1.0, 0.0, 0.0, 1.0, 0.0, 0.0, 0.0, 0.0, 1.0, 0.0, 0.0, 0.0, 1.0, 0.0, 0.0, 0.0, 1.0, 0.0, 0.0, 0.0, 1.0, 0.0, 0.0, 0.0, 1.0, 0.0, 0.0, 0.0, 1.0, 0.0, 0.0, 0.0, 1.0, 0.0, 0.0, 0.0, 1.0, 0.0, 0.0, 0.0, 1.0, 0.0, 0.0, 0.0, 0.0, 0.0, 1.0, 0.0, 1.0, 0.0, 0.0, 0.0, 1.0, 0.0, 0.0]\n",
            "######\n",
            "[2.5356537074021357e-13, 1.0, 3.7074409839875366e-13, 3.9128368514024237e-13, 0.0, 1.0, 0.0, 0.0, 1.1053442286594157e-41, 1.0, 3.572610434796121e-41, 6.424112679850691e-41, 0.0, 1.0, 0.0, 0.0, 0.0, 1.0, 0.0, 0.0, 1.228202819447688e-07, 0.9999996423721313, 1.499131769833184e-07, 1.4450760943418572e-07, 0.0, 1.0, 0.0, 0.0, 0.0, 1.0, 0.0, 0.0, 3.70941499997276e-39, 1.0, 1.1235625099941027e-38, 1.9315172931009555e-38, 6.268154648446917e-33, 1.0, 1.760269288767377e-32, 2.3214690997595503e-32, 0.0, 1.0, 0.0, 0.0, 8.369787571596413e-40, 1.0, 2.8283976359747827e-39, 4.245797019654692e-39, 0.0, 1.0, 0.0, 0.0, 0.0, 1.0, 0.0, 0.0, 0.0, 1.0, 0.0, 0.0, 3.2355638180280506e-20, 1.0, 6.021951761333615e-20, 6.790423876145545e-20]\n",
            "[0.0, 1.0, 0.0, 0.0, 0.0, 0.0, 1.0, 0.0, 0.0, 1.0, 0.0, 0.0, 0.0, 0.0, 1.0, 0.0, 0.0, 1.0, 0.0, 0.0, 0.0, 1.0, 0.0, 0.0, 0.0, 1.0, 0.0, 0.0, 0.0, 1.0, 0.0, 0.0, 1.0, 0.0, 0.0, 0.0, 0.0, 1.0, 0.0, 0.0, 1.0, 0.0, 0.0, 0.0, 0.0, 0.0, 0.0, 1.0, 0.0, 0.0, 1.0, 0.0, 0.0, 0.0, 0.0, 1.0, 0.0, 0.0, 1.0, 0.0, 0.0, 1.0, 0.0, 0.0]\n",
            "######\n",
            "[2.5979366467008173e-34, 1.0, 7.541505689732795e-34, 1.0354994021240841e-33, 1.1329750317789724e-39, 1.0, 3.9525094549669007e-39, 5.683781477775533e-39, 1.8024510357011962e-34, 1.0, 4.9574003871083326e-34, 7.397219727476609e-34, 0.0, 1.0, 0.0, 0.0, 2.0321678512382815e-29, 1.0, 4.5453093217708784e-29, 6.753915527259674e-29, 0.0, 1.0, 0.0, 0.0, 0.0, 1.0, 0.0, 0.0, 0.0, 1.0, 0.0, 0.0, 1.462959800650502e-39, 1.0, 4.2503680552453194e-39, 7.955831393548684e-39, 0.0, 1.0, 0.0, 0.0, 0.0, 1.0, 0.0, 0.0, 0.0, 1.0, 0.0, 0.0, 3.408875441878065e-24, 1.0, 7.519854444342746e-24, 8.418079870019978e-24, 0.0, 1.0, 0.0, 0.0, 2.552137809446388e-38, 1.0, 8.136273513943169e-38, 1.220579615509597e-37, 0.0, 1.0, 0.0, 0.0]\n",
            "[0.0, 1.0, 0.0, 0.0, 0.0, 0.0, 1.0, 0.0, 1.0, 0.0, 0.0, 0.0, 0.0, 0.0, 0.0, 1.0, 0.0, 1.0, 0.0, 0.0, 0.0, 1.0, 0.0, 0.0, 0.0, 1.0, 0.0, 0.0, 0.0, 0.0, 0.0, 1.0, 0.0, 1.0, 0.0, 0.0, 0.0, 1.0, 0.0, 0.0, 0.0, 1.0, 0.0, 0.0, 0.0, 1.0, 0.0, 0.0, 0.0, 1.0, 0.0, 0.0, 0.0, 1.0, 0.0, 0.0, 0.0, 0.0, 0.0, 1.0, 0.0, 0.0, 1.0, 0.0]\n",
            "######\n",
            "[9.674822559245059e-31, 1.0, 2.6511631271496505e-30, 3.127362847594316e-30, 0.0, 1.0, 0.0, 0.0, 6.380716497732806e-35, 1.0, 1.7915653151641087e-34, 2.6590375573596136e-34, 0.0, 1.0, 0.0, 0.0, 3.1835157340148745e-14, 1.0, 4.698994557177094e-14, 5.148860192914252e-14, 0.0, 1.0, 0.0, 0.0, 0.0, 1.0, 0.0, 0.0, 0.0, 1.0, 0.0, 0.0, 1.571591320737984e-35, 1.0, 4.4657891345515184e-35, 6.639452676664628e-35, 0.0, 1.0, 0.0, 0.0, 0.0, 1.0, 0.0, 0.0, 1.6685481799396176e-14, 1.0, 2.4725337269683283e-14, 2.7265602631026085e-14, 0.0, 1.0, 0.0, 0.0, 0.0, 1.0, 0.0, 0.0, 0.0, 1.0, 0.0, 0.0, 0.0, 1.0, 0.0, 0.0]\n",
            "[0.0, 0.0, 1.0, 0.0, 1.0, 0.0, 0.0, 0.0, 1.0, 0.0, 0.0, 0.0, 1.0, 0.0, 0.0, 0.0, 0.0, 1.0, 0.0, 0.0, 0.0, 0.0, 1.0, 0.0, 1.0, 0.0, 0.0, 0.0, 0.0, 0.0, 1.0, 0.0, 1.0, 0.0, 0.0, 0.0, 0.0, 1.0, 0.0, 0.0, 0.0, 1.0, 0.0, 0.0, 0.0, 1.0, 0.0, 0.0, 0.0, 0.0, 0.0, 1.0, 0.0, 1.0, 0.0, 0.0, 0.0, 0.0, 0.0, 1.0, 0.0, 1.0, 0.0, 0.0]\n",
            "######\n",
            "[3.807684826077559e-14, 1.0, 5.764272658368222e-14, 6.011205801789016e-14, 3.083045073692432e-33, 1.0, 8.694971551927161e-33, 1.1716174235164818e-32, 0.0, 1.0, 0.0, 0.0, 1.8015177135267708e-39, 1.0, 6.273159204079765e-39, 8.957068955398016e-39, 3.8825720499109134e-39, 1.0, 1.2752823558951685e-38, 1.9303239473287365e-38, 0.0, 1.0, 0.0, 0.0, 0.0, 1.0, 0.0, 0.0, 0.0, 1.0, 0.0, 0.0, 2.7829787501490867e-42, 1.0, 8.128932391548264e-42, 1.7554065862596983e-41, 0.0, 1.0, 0.0, 0.0, 4.001485116554746e-37, 1.0, 1.1673500489891825e-36, 1.8567870997749582e-36, 2.3747915218532457e-31, 1.0, 6.009159094849876e-31, 8.293011082339327e-31, 7.163943243895422e-27, 1.0, 1.5754701672254416e-26, 2.0713746330434044e-26, 1.136761583709902e-26, 1.0, 2.4865743141741822e-26, 3.216454924480697e-26, 0.0, 1.0, 0.0, 0.0, 2.5186097818695667e-40, 1.0, 7.662636314559538e-40, 1.3947852290626353e-39]\n",
            "[0.0, 0.0, 1.0, 0.0, 0.0, 1.0, 0.0, 0.0, 0.0, 0.0, 1.0, 0.0, 0.0, 0.0, 1.0, 0.0, 0.0, 0.0, 0.0, 1.0, 0.0, 1.0, 0.0, 0.0, 0.0, 0.0, 0.0, 1.0, 0.0, 1.0, 0.0, 0.0, 0.0, 1.0, 0.0, 0.0, 0.0, 0.0, 0.0, 1.0, 1.0, 0.0, 0.0, 0.0, 1.0, 0.0, 0.0, 0.0, 0.0, 1.0, 0.0, 0.0, 0.0, 1.0, 0.0, 0.0, 0.0, 1.0, 0.0, 0.0, 1.0, 0.0, 0.0, 0.0]\n",
            "######\n",
            "[0.0, 1.0, 0.0, 0.0, 0.0, 1.0, 0.0, 0.0, 0.0, 1.0, 0.0, 0.0, 1.2718757775084962e-32, 1.0, 3.556384396142317e-32, 4.680988951655218e-32, 9.565807070209687e-28, 1.0, 2.043005107183597e-27, 2.892441516573443e-27, 0.0, 1.0, 1.401298464324817e-45, 1.401298464324817e-45, 0.0, 1.0, 0.0, 0.0, 5.100492113039099e-38, 1.0, 1.733510008560036e-37, 2.342394370007055e-37, 0.0, 1.0, 0.0, 0.0, 5.944308085665874e-42, 1.0, 1.91585526042489e-41, 3.499042265419068e-41, 0.0, 1.0, 0.0, 0.0, 0.0, 1.0, 0.0, 0.0, 5.175414321115628e-18, 1.0, 8.420225488479441e-18, 1.0016636094231257e-17, 0.0, 1.0, 0.0, 0.0, 1.164889322907813e-30, 1.0, 2.7272349149246966e-30, 4.0584869692083405e-30, 0.0, 1.0, 0.0, 0.0]\n",
            "[0.0, 1.0, 0.0, 0.0, 0.0, 0.0, 1.0, 0.0, 0.0, 0.0, 1.0, 0.0, 0.0, 1.0, 0.0, 0.0, 0.0, 0.0, 1.0, 0.0, 1.0, 0.0, 0.0, 0.0, 0.0, 1.0, 0.0, 0.0, 0.0, 0.0, 0.0, 1.0, 0.0, 0.0, 0.0, 1.0, 1.0, 0.0, 0.0, 0.0, 0.0, 1.0, 0.0, 0.0, 1.0, 0.0, 0.0, 0.0, 0.0, 1.0, 0.0, 0.0, 0.0, 0.0, 1.0, 0.0, 0.0, 0.0, 0.0, 1.0, 0.0, 0.0, 1.0, 0.0]\n",
            "######\n",
            "[0.0, 1.0, 0.0, 0.0, 0.0, 1.0, 0.0, 0.0, 0.0, 1.0, 0.0, 0.0, 1.2410703478116776e-35, 1.0, 3.558048060440066e-35, 5.337189180917701e-35, 1.0979875497696412e-07, 0.9999996423721313, 1.3396774534157885e-07, 1.2931954529449285e-07, 0.0, 1.0, 0.0, 0.0, 0.0, 1.0, 0.0, 0.0, 3.7194457398789197e-32, 1.0, 9.605938237638567e-32, 1.348385119545749e-31, 2.802596928649634e-45, 1.0, 9.80908925027372e-45, 1.6815581571897805e-44, 2.094960033365557e-26, 1.0, 4.5757436154573514e-26, 5.893418969237224e-26, 2.967963128410779e-14, 1.0, 4.4183820285207537e-14, 4.770735537304102e-14, 0.0, 1.0, 0.0, 0.0, 1.485836735766466e-13, 1.0, 2.180240580088033e-13, 2.319375973832555e-13, 4.203895392974451e-44, 1.0, 2.1159606811304738e-43, 2.2420775429197073e-43, 0.0, 1.0, 0.0, 0.0, 0.0, 1.0, 0.0, 0.0]\n",
            "[0.0, 1.0, 0.0, 0.0, 0.0, 0.0, 1.0, 0.0, 0.0, 1.0, 0.0, 0.0, 0.0, 1.0, 0.0, 0.0, 0.0, 1.0, 0.0, 0.0, 0.0, 1.0, 0.0, 0.0, 0.0, 0.0, 1.0, 0.0, 1.0, 0.0, 0.0, 0.0, 1.0, 0.0, 0.0, 0.0, 0.0, 1.0, 0.0, 0.0, 0.0, 0.0, 1.0, 0.0, 0.0, 0.0, 1.0, 0.0, 0.0, 1.0, 0.0, 0.0, 0.0, 0.0, 1.0, 0.0, 1.0, 0.0, 0.0, 0.0, 1.0, 0.0, 0.0, 0.0]\n",
            "######\n",
            "[3.956431689368546e-39, 1.0, 1.062931968818775e-38, 2.1156673893618906e-38, 0.0, 1.0, 0.0, 0.0, 0.0, 1.0, 0.0, 0.0, 1.2238625877830047e-21, 1.0, 2.168031701720641e-21, 2.809400608778801e-21, 0.0, 1.0, 0.0, 0.0, 0.0, 1.0, 0.0, 0.0, 0.0, 1.0, 0.0, 0.0, 1.1303553832120773e-22, 1.0, 2.2113732597099702e-22, 2.61957734994338e-22, 0.0, 1.0, 0.0, 0.0, 2.3357663921053814e-28, 1.0, 5.282135873051611e-28, 7.1262436467165275e-28, 0.0, 1.0, 0.0, 0.0, 2.0918919477674438e-20, 1.0, 3.946641876791018e-20, 4.3924130631875394e-20, 0.0, 1.0, 0.0, 0.0, 0.0, 1.0, 0.0, 0.0, 0.0, 1.0, 0.0, 0.0, 0.0, 1.0, 0.0, 1.401298464324817e-45]\n",
            "[0.0, 1.0, 0.0, 0.0, 0.0, 0.0, 1.0, 0.0, 1.0, 0.0, 0.0, 0.0, 0.0, 0.0, 0.0, 1.0, 0.0, 0.0, 1.0, 0.0, 0.0, 1.0, 0.0, 0.0, 0.0, 0.0, 1.0, 0.0, 0.0, 1.0, 0.0, 0.0, 0.0, 0.0, 0.0, 1.0, 0.0, 1.0, 0.0, 0.0, 0.0, 1.0, 0.0, 0.0, 0.0, 1.0, 0.0, 0.0, 1.0, 0.0, 0.0, 0.0, 0.0, 0.0, 1.0, 0.0, 1.0, 0.0, 0.0, 0.0, 0.0, 1.0, 0.0, 0.0]\n",
            "######\n",
            "[0.0, 1.0, 0.0, 0.0, 1.8406413640161494e-32, 1.0, 4.381608760663219e-32, 7.015319135107115e-32, 4.147328973420166e-26, 1.0, 9.006844653561773e-26, 1.1430717776168902e-25, 0.0, 1.0, 0.0, 0.0, 8.292460613028517e-34, 1.0, 2.4360629012334303e-33, 3.23445646026002e-33, 1.8216880036222622e-44, 1.0, 6.165713243029195e-44, 1.1911036946760945e-43, 0.0, 1.0, 0.0, 0.0, 2.3401684354224445e-43, 1.0, 1.1014205929593062e-42, 1.2135244701052916e-42, 0.0, 1.0, 0.0, 0.0, 0.0, 1.0, 0.0, 0.0, 0.0, 1.0, 0.0, 0.0, 0.0, 1.0, 0.0, 0.0, 6.459021827193951e-39, 1.0, 2.35920731713784e-38, 3.070560788009533e-38, 0.0, 1.0, 0.0, 0.0, 1.594185622571618e-28, 1.0, 3.929125309248371e-28, 4.824764585411072e-28, 6.216165673760755e-28, 1.0, 1.3263694637720232e-27, 1.896837231833311e-27]\n",
            "[0.0, 0.0, 0.0, 1.0, 0.0, 1.0, 0.0, 0.0, 0.0, 1.0, 0.0, 0.0, 0.0, 0.0, 1.0, 0.0, 0.0, 1.0, 0.0, 0.0, 1.0, 0.0, 0.0, 0.0, 0.0, 0.0, 0.0, 1.0, 0.0, 0.0, 1.0, 0.0, 0.0, 0.0, 0.0, 1.0, 0.0, 0.0, 0.0, 1.0, 0.0, 1.0, 0.0, 0.0, 0.0, 1.0, 0.0, 0.0, 0.0, 1.0, 0.0, 0.0, 0.0, 1.0, 0.0, 0.0, 0.0, 1.0, 0.0, 0.0, 0.0, 0.0, 1.0, 0.0]\n",
            "######\n",
            "[2.7213216177187948e-42, 1.0, 8.637603734098172e-42, 1.6608189399177732e-41, 2.3006283196034404e-32, 1.0, 6.296365043498714e-32, 8.322321328680471e-32, 8.849607539904245e-32, 1.0, 2.1725411360259065e-31, 3.18599100449977e-31, 0.0, 1.0, 0.0, 0.0, 4.0637655465419695e-44, 1.0, 1.4293244336113134e-43, 2.6484540975739043e-43, 1.0640619759004066e-40, 1.0, 3.404062255507132e-40, 5.9795647550282864e-40, 1.3883187785330135e-32, 1.0, 3.5274701738479655e-32, 5.207260711254233e-32, 4.203895392974451e-45, 1.0, 1.401298464324817e-44, 2.6624670822171524e-44, 3.214999148792752e-31, 1.0, 8.038229734764701e-31, 1.1224018789335e-30, 0.0, 1.0, 0.0, 0.0, 0.0, 1.0, 0.0, 0.0, 0.0, 1.0, 0.0, 0.0, 0.0, 1.0, 0.0, 0.0, 0.0, 1.0, 0.0, 0.0, 0.0, 1.0, 0.0, 0.0, 0.0, 1.0, 0.0, 0.0]\n",
            "[1.0, 0.0, 0.0, 0.0, 0.0, 1.0, 0.0, 0.0, 1.0, 0.0, 0.0, 0.0, 0.0, 0.0, 1.0, 0.0, 1.0, 0.0, 0.0, 0.0, 0.0, 1.0, 0.0, 0.0, 1.0, 0.0, 0.0, 0.0, 0.0, 1.0, 0.0, 0.0, 1.0, 0.0, 0.0, 0.0, 1.0, 0.0, 0.0, 0.0, 0.0, 0.0, 1.0, 0.0, 0.0, 0.0, 1.0, 0.0, 0.0, 0.0, 0.0, 1.0, 0.0, 0.0, 1.0, 0.0, 0.0, 0.0, 0.0, 1.0, 0.0, 0.0, 1.0, 0.0]\n",
            "######\n",
            "[0.0, 1.0, 0.0, 0.0, 0.0, 1.0, 0.0, 0.0, 0.0, 1.0, 0.0, 0.0, 1.0080376500369677e-33, 1.0, 2.621581991074096e-33, 3.997648371583298e-33, 0.0, 1.0, 0.0, 0.0, 0.0, 1.0, 0.0, 0.0, 0.0, 1.0, 0.0, 0.0, 0.0, 1.0, 0.0, 0.0, 0.0, 1.0, 0.0, 0.0, 4.049884283954368e-39, 1.0, 1.323032021456576e-38, 2.0480422669018857e-38, 6.089020178076698e-39, 1.0, 1.8603869626622885e-38, 3.0974306860629614e-38, 3.0143090443395665e-15, 1.0, 4.606365490460911e-15, 5.051870515882309e-15, 0.0, 1.0, 0.0, 0.0, 0.0, 1.0, 0.0, 0.0, 3.2634793928229484e-35, 1.0, 9.220147208961783e-35, 1.3799536852260736e-34, 1.401298464324817e-45, 1.0, 7.006492321624085e-45, 7.006492321624085e-45]\n",
            "[0.0, 0.0, 1.0, 0.0, 0.0, 0.0, 1.0, 0.0, 1.0, 0.0, 0.0, 0.0, 1.0, 0.0, 0.0, 0.0, 0.0, 1.0, 0.0, 0.0, 0.0, 0.0, 1.0, 0.0, 0.0, 1.0, 0.0, 0.0, 0.0, 1.0, 0.0, 0.0, 0.0, 0.0, 1.0, 0.0, 0.0, 1.0, 0.0, 0.0, 1.0, 0.0, 0.0, 0.0, 0.0, 0.0, 1.0, 0.0, 0.0, 1.0, 0.0, 0.0, 0.0, 1.0, 0.0, 0.0, 0.0, 1.0, 0.0, 0.0, 0.0, 0.0, 1.0, 0.0]\n",
            "######\n",
            "[0.0, 1.0, 0.0, 0.0, 0.0, 1.0, 0.0, 0.0, 4.243154002989142e-26, 1.0, 9.026381286917637e-26, 1.1679757466161682e-25, 6.438538820184786e-21, 1.0, 1.161412067122385e-20, 1.415596025968764e-20, 2.3729777928446444e-33, 1.0, 6.193049375637004e-33, 9.515739911237684e-33, 2.590161247481807e-32, 1.0, 6.494300072014749e-32, 9.710201647820627e-32, 2.2394947586416016e-25, 1.0, 4.80216857381995e-25, 5.883829995155713e-25, 0.0, 1.0, 0.0, 0.0, 0.0, 1.0, 0.0, 0.0, 7.170438830368664e-15, 1.0, 1.0852915415589682e-14, 1.1781177975452722e-14, 1.401298464324817e-45, 1.0, 2.802596928649634e-45, 5.605193857299268e-45, 0.0, 1.0, 0.0, 0.0, 4.833217769691263e-14, 1.0, 7.139314096502036e-14, 7.644785412347366e-14, 4.6444762418443526e-38, 1.0, 1.408419975224393e-37, 2.2562535266003257e-37, 0.0, 1.0, 0.0, 0.0, 0.0, 1.0, 0.0, 0.0]\n",
            "[0.0, 0.0, 0.0, 1.0, 1.0, 0.0, 0.0, 0.0, 0.0, 1.0, 0.0, 0.0, 0.0, 1.0, 0.0, 0.0, 1.0, 0.0, 0.0, 0.0, 1.0, 0.0, 0.0, 0.0, 1.0, 0.0, 0.0, 0.0, 0.0, 0.0, 1.0, 0.0, 1.0, 0.0, 0.0, 0.0, 0.0, 0.0, 1.0, 0.0, 0.0, 0.0, 1.0, 0.0, 0.0, 0.0, 1.0, 0.0, 0.0, 1.0, 0.0, 0.0, 0.0, 1.0, 0.0, 0.0, 1.0, 0.0, 0.0, 0.0, 0.0, 1.0, 0.0, 0.0]\n",
            "######\n",
            "[1.8790456082112047e-15, 1.0, 3.0324046327082337e-15, 3.100599890566388e-15, 0.0, 1.0, 0.0, 0.0, 2.934970588082078e-39, 1.0, 8.003439107575655e-39, 1.604745141088737e-38, 0.0, 1.0, 0.0, 0.0, 0.0, 1.0, 0.0, 0.0, 0.0, 1.0, 0.0, 0.0, 0.0, 1.0, 0.0, 0.0, 0.0, 1.0, 0.0, 0.0, 0.0, 1.0, 0.0, 0.0, 0.0, 1.0, 0.0, 0.0, 0.0, 1.0, 0.0, 0.0, 0.0, 1.0, 0.0, 0.0, 0.0, 1.0, 0.0, 0.0, 0.0, 1.0, 0.0, 0.0, 2.901837683571258e-18, 1.0, 5.040140512461156e-18, 5.46397090113077e-18, 0.0, 1.0, 0.0, 0.0]\n",
            "[0.0, 0.0, 0.0, 1.0, 1.0, 0.0, 0.0, 0.0, 0.0, 1.0, 0.0, 0.0, 0.0, 1.0, 0.0, 0.0, 0.0, 0.0, 1.0, 0.0, 0.0, 1.0, 0.0, 0.0, 0.0, 0.0, 1.0, 0.0, 0.0, 1.0, 0.0, 0.0, 1.0, 0.0, 0.0, 0.0, 0.0, 0.0, 0.0, 1.0, 0.0, 1.0, 0.0, 0.0, 0.0, 0.0, 1.0, 0.0, 0.0, 0.0, 1.0, 0.0, 0.0, 0.0, 1.0, 0.0, 0.0, 0.0, 0.0, 1.0, 0.0, 0.0, 0.0, 1.0]\n",
            "######\n",
            "[0.0, 1.0, 0.0, 0.0, 0.0, 1.0, 0.0, 0.0, 2.0455655880685865e-32, 1.0, 5.627427648770625e-32, 7.384821678355891e-32, 0.0, 1.0, 0.0, 0.0, 0.0, 1.0, 0.0, 1.401298464324817e-45, 0.0, 1.0, 0.0, 0.0, 0.0, 1.0, 0.0, 0.0, 0.0, 1.0, 0.0, 0.0, 0.0, 1.0, 0.0, 0.0, 0.0, 1.0, 0.0, 0.0, 0.0, 1.0, 0.0, 0.0, 0.0, 1.0, 0.0, 0.0, 0.0, 1.0, 0.0, 0.0, 1.5321911317383583e-26, 1.0, 3.1754307677725024e-26, 4.425769139571984e-26, 0.0, 1.0, 0.0, 0.0, 5.184015667226101e-38, 1.0, 1.6727825535829156e-37, 2.3893230708501533e-37]\n",
            "[0.0, 0.0, 1.0, 0.0, 0.0, 1.0, 0.0, 0.0, 0.0, 1.0, 0.0, 0.0, 0.0, 0.0, 1.0, 0.0, 0.0, 1.0, 0.0, 0.0, 0.0, 0.0, 1.0, 0.0, 0.0, 1.0, 0.0, 0.0, 0.0, 0.0, 0.0, 1.0, 0.0, 0.0, 1.0, 0.0, 0.0, 0.0, 1.0, 0.0, 0.0, 1.0, 0.0, 0.0, 0.0, 0.0, 0.0, 1.0, 0.0, 0.0, 1.0, 0.0, 0.0, 0.0, 0.0, 1.0, 0.0, 0.0, 0.0, 1.0, 0.0, 0.0, 1.0, 0.0]\n",
            "######\n",
            "[0.0, 1.0, 0.0, 0.0, 0.0, 1.0, 0.0, 0.0, 0.0, 1.0, 0.0, 0.0, 0.0, 1.0, 0.0, 0.0, 0.0, 1.0, 0.0, 0.0, 3.4332541253054066e-31, 1.0, 9.168048136695957e-31, 1.165778372795227e-30, 5.213390806674049e-41, 1.0, 1.6753924439467513e-40, 2.9262334921570128e-40, 0.0, 1.0, 0.0, 0.0, 7.73867951333622e-36, 1.0, 2.2894972318397743e-35, 3.302653832610618e-35, 2.2769007165541864e-22, 1.0, 4.580328364104931e-22, 5.189142685544175e-22, 0.0, 1.0, 0.0, 0.0, 0.0, 1.0, 0.0, 0.0, 2.1657436595744234e-27, 1.0, 4.616311172694331e-27, 6.524834947430184e-27, 0.0, 1.0, 0.0, 0.0, 3.1220929785156924e-42, 1.0, 8.861811488390143e-42, 1.9671427842191782e-41, 5.158729745193812e-29, 1.0, 1.1922784691757577e-28, 1.63283747173739e-28]\n",
            "[0.0, 0.0, 1.0, 0.0, 0.0, 1.0, 0.0, 0.0, 0.0, 0.0, 1.0, 0.0, 0.0, 0.0, 1.0, 0.0, 0.0, 0.0, 0.0, 1.0, 0.0, 1.0, 0.0, 0.0, 1.0, 0.0, 0.0, 0.0, 0.0, 0.0, 1.0, 0.0, 0.0, 0.0, 0.0, 1.0, 0.0, 1.0, 0.0, 0.0, 0.0, 0.0, 0.0, 1.0, 0.0, 1.0, 0.0, 0.0, 0.0, 0.0, 0.0, 1.0, 0.0, 1.0, 0.0, 0.0, 0.0, 0.0, 0.0, 1.0, 1.0, 0.0, 0.0, 0.0]\n",
            "######\n",
            "[1.9053409257337133e-30, 1.0, 4.5382210720275104e-30, 6.508542573158295e-30, 1.6650758297436066e-26, 1.0, 3.591487718840126e-26, 4.6443806771874015e-26, 0.0, 1.0, 0.0, 0.0, 0.0, 1.0, 0.0, 0.0, 4.590051210788441e-38, 1.0, 1.2543004617551094e-37, 2.308420168999193e-37, 0.0, 1.0, 0.0, 0.0, 0.0, 1.0, 0.0, 0.0, 0.0, 1.0, 0.0, 0.0, 4.4103528996188195e-39, 1.0, 1.3391585845735652e-38, 2.2570184674060314e-38, 0.0, 1.0, 0.0, 0.0, 2.5750702909873535e-23, 1.0, 4.9589598260500327e-23, 6.363958016939019e-23, 5.261865189981441e-20, 1.0, 9.736299673252149e-20, 1.0907758026628575e-19, 0.0, 1.0, 0.0, 0.0, 0.0, 1.0, 0.0, 0.0, 5.089817658410754e-32, 1.0, 1.4002707348944342e-31, 1.798147830981099e-31, 0.0, 1.0, 0.0, 0.0]\n",
            "[1.0, 0.0, 0.0, 0.0, 0.0, 1.0, 0.0, 0.0, 0.0, 1.0, 0.0, 0.0, 0.0, 0.0, 1.0, 0.0, 0.0, 1.0, 0.0, 0.0, 0.0, 0.0, 0.0, 1.0, 0.0, 1.0, 0.0, 0.0, 1.0, 0.0, 0.0, 0.0, 1.0, 0.0, 0.0, 0.0, 0.0, 1.0, 0.0, 0.0, 0.0, 1.0, 0.0, 0.0, 0.0, 1.0, 0.0, 0.0, 0.0, 1.0, 0.0, 0.0, 1.0, 0.0, 0.0, 0.0, 0.0, 1.0, 0.0, 0.0, 0.0, 0.0, 1.0, 0.0]\n",
            "######\n",
            "[6.856384809154172e-19, 1.0, 1.1361853041056338e-18, 1.3941877968470218e-18, 0.0, 1.0, 0.0, 0.0, 1.5414283107572988e-44, 1.0, 6.165713243029195e-44, 9.668959403841238e-44, 9.835865077139684e-19, 1.0, 1.636612410702505e-18, 1.9590600279800167e-18, 3.3353550896093326e-36, 1.0, 1.0155629777561086e-35, 1.4654655039129957e-35, 0.0, 1.0, 0.0, 0.0, 0.0, 1.0, 0.0, 0.0, 0.0, 1.0, 0.0, 0.0, 1.1812904219435932e-29, 1.0, 2.8099360018327305e-29, 3.847325527461655e-29, 1.9877332099384017e-18, 1.0, 3.284076190270787e-18, 3.9153353524278735e-18, 3.666764971082398e-13, 1.0, 5.312386273069458e-13, 5.567917004192791e-13, 0.0, 1.0, 0.0, 0.0, 0.0, 1.0, 0.0, 0.0, 0.0, 1.0, 0.0, 0.0, 0.0, 1.0, 0.0, 0.0, 1.1719535498626316e-38, 1.0, 3.789756765866666e-38, 5.670422058736046e-38]\n",
            "[0.0, 1.0, 0.0, 0.0, 0.0, 0.0, 1.0, 0.0, 0.0, 1.0, 0.0, 0.0, 0.0, 1.0, 0.0, 0.0, 0.0, 1.0, 0.0, 0.0, 0.0, 1.0, 0.0, 0.0, 0.0, 1.0, 0.0, 0.0, 0.0, 0.0, 0.0, 1.0, 1.0, 0.0, 0.0, 0.0, 0.0, 1.0, 0.0, 0.0, 0.0, 0.0, 1.0, 0.0, 1.0, 0.0, 0.0, 0.0, 0.0, 0.0, 0.0, 1.0, 0.0, 1.0, 0.0, 0.0, 0.0, 1.0, 0.0, 0.0, 0.0, 0.0, 0.0, 1.0]\n",
            "######\n",
            "[0.0, 1.0, 0.0, 0.0, 0.0, 1.0, 0.0, 0.0, 5.133429747789009e-35, 1.0, 1.458311403967918e-34, 2.1079862390920204e-34, 1.4909815660416054e-42, 1.0, 4.9297679974947065e-42, 9.139268584326457e-42, 0.0, 1.0, 0.0, 0.0, 0.0, 1.0, 0.0, 0.0, 0.0, 1.0, 0.0, 0.0, 1.4504944160926162e-26, 1.0, 3.2137687914686614e-26, 4.0149017222953086e-26, 2.2453634812570875e-32, 1.0, 5.397865356998541e-32, 8.553025025467204e-32, 3.537538106638606e-31, 1.0, 8.563247829638565e-31, 1.2400465760779194e-30, 1.4219781728896454e-26, 1.0, 3.151861391187487e-26, 3.9429280254552066e-26, 0.0, 1.0, 0.0, 0.0, 0.0, 1.0, 0.0, 0.0, 0.0, 1.0, 0.0, 0.0, 1.1443003259676456e-41, 1.0, 3.748333262222453e-41, 6.692181076076029e-41, 0.0, 1.0, 0.0, 0.0]\n",
            "[0.0, 1.0, 0.0, 0.0, 0.0, 0.0, 1.0, 0.0, 1.0, 0.0, 0.0, 0.0, 1.0, 0.0, 0.0, 0.0, 0.0, 0.0, 0.0, 1.0, 0.0, 0.0, 0.0, 1.0, 1.0, 0.0, 0.0, 0.0, 1.0, 0.0, 0.0, 0.0, 0.0, 1.0, 0.0, 0.0, 1.0, 0.0, 0.0, 0.0, 1.0, 0.0, 0.0, 0.0, 0.0, 0.0, 1.0, 0.0, 0.0, 1.0, 0.0, 0.0, 0.0, 0.0, 1.0, 0.0, 1.0, 0.0, 0.0, 0.0, 0.0, 1.0, 0.0, 0.0]\n",
            "######\n",
            "[7.286752014489049e-43, 1.0, 2.5601722943214408e-42, 4.365044716371805e-42, 0.0, 1.0, 0.0, 0.0, 0.0, 1.0, 0.0, 0.0, 1.1925049931404193e-42, 1.0, 4.704158944738411e-42, 6.827126118190509e-42, 0.0, 1.0, 0.0, 0.0, 1.3585312344656624e-30, 1.0, 3.600781066286292e-30, 4.509160970884222e-30, 1.1241777997383906e-07, 0.9999996423721313, 1.3745135163389932e-07, 1.3227320039277402e-07, 0.0, 1.0, 0.0, 0.0, 0.0, 1.0, 0.0, 0.0, 0.0, 1.0, 0.0, 0.0, 5.090422332704817e-31, 1.0, 1.2938592028257947e-30, 1.7366070811929518e-30, 1.383682242318351e-24, 1.0, 3.0032654497339934e-24, 3.4844337226714915e-24, 0.0, 1.0, 0.0, 0.0, 1.6933033431765366e-35, 1.0, 4.787182950596385e-35, 7.258487057673098e-35, 0.0, 1.0, 0.0, 0.0, 0.0, 1.0, 0.0, 0.0]\n",
            "[1.0, 0.0, 0.0, 0.0, 0.0, 0.0, 0.0, 1.0, 0.0, 0.0, 1.0, 0.0, 0.0, 0.0, 0.0, 1.0, 0.0, 0.0, 0.0, 1.0, 0.0, 1.0, 0.0, 0.0, 0.0, 1.0, 0.0, 0.0, 0.0, 1.0, 0.0, 0.0, 0.0, 0.0, 0.0, 1.0, 0.0, 1.0, 0.0, 0.0, 1.0, 0.0, 0.0, 0.0, 0.0, 1.0, 0.0, 0.0, 0.0, 0.0, 1.0, 0.0, 1.0, 0.0, 0.0, 0.0, 0.0, 1.0, 0.0, 0.0, 0.0, 0.0, 1.0, 0.0]\n",
            "######\n",
            "[1.816510705779874e-35, 1.0, 5.063298423204257e-35, 7.908402272208393e-35, 0.0, 1.0, 0.0, 0.0, 7.696419369883162e-32, 1.0, 1.922123223481533e-31, 2.7782348187899243e-31, 0.0, 1.0, 0.0, 0.0, 0.0, 1.0, 0.0, 0.0, 0.0, 1.0, 0.0, 0.0, 0.0, 1.0, 0.0, 0.0, 0.0, 1.0, 0.0, 0.0, 0.0, 1.0, 0.0, 0.0, 0.0, 1.0, 0.0, 0.0, 5.269721889282122e-34, 1.0, 1.2564963808405051e-33, 2.3081254021677942e-33, 0.0, 1.0, 0.0, 0.0, 8.30703462376702e-39, 1.0, 2.432351733859281e-38, 4.3069236204863905e-38, 1.401298464324817e-45, 1.0, 4.203895392974451e-45, 7.006492321624085e-45, 1.5414283107572988e-44, 1.0, 5.465064010866787e-44, 1.0509738482436128e-43, 3.766137824198533e-37, 1.0, 9.480140601486712e-37, 1.8714501075394496e-36]\n",
            "[0.0, 1.0, 0.0, 0.0, 0.0, 0.0, 1.0, 0.0, 1.0, 0.0, 0.0, 0.0, 0.0, 1.0, 0.0, 0.0, 0.0, 1.0, 0.0, 0.0, 0.0, 0.0, 1.0, 0.0, 0.0, 0.0, 1.0, 0.0, 0.0, 0.0, 0.0, 1.0, 0.0, 1.0, 0.0, 0.0, 0.0, 1.0, 0.0, 0.0, 0.0, 1.0, 0.0, 0.0, 0.0, 1.0, 0.0, 0.0, 1.0, 0.0, 0.0, 0.0, 0.0, 0.0, 1.0, 0.0, 0.0, 1.0, 0.0, 0.0, 0.0, 1.0, 0.0, 0.0]\n",
            "######\n",
            "[0.0, 1.0, 0.0, 0.0, 1.0298292633518456e-36, 1.0, 3.127401141940106e-36, 4.519307274388327e-36, 0.0, 1.0, 0.0, 0.0, 1.9381634513939836e-27, 1.0, 4.363955031337316e-27, 5.632424878005237e-27, 0.0, 1.0, 0.0, 0.0, 0.0, 1.0, 0.0, 0.0, 0.0, 1.0, 0.0, 0.0, 7.007365189316475e-35, 1.0, 1.9810858842022446e-34, 2.8834086640403754e-34, 0.0, 1.0, 0.0, 0.0, 0.0, 1.0, 0.0, 0.0, 0.0, 1.0, 0.0, 0.0, 1.9824138668524463e-14, 1.0, 2.9647833667267864e-14, 3.1910177354221164e-14, 0.0, 1.0, 0.0, 0.0, 4.316473385599986e-26, 1.0, 9.757090817472216e-26, 1.1649499720065799e-25, 1.191858924897599e-30, 1.0, 2.9694110133974888e-30, 4.0122142453452836e-30, 1.401298464324817e-45, 1.0, 4.203895392974451e-45, 4.203895392974451e-45]\n",
            "[0.0, 1.0, 0.0, 0.0, 0.0, 0.0, 0.0, 1.0, 1.0, 0.0, 0.0, 0.0, 0.0, 0.0, 1.0, 0.0, 0.0, 1.0, 0.0, 0.0, 0.0, 0.0, 1.0, 0.0, 0.0, 0.0, 1.0, 0.0, 1.0, 0.0, 0.0, 0.0, 1.0, 0.0, 0.0, 0.0, 0.0, 0.0, 1.0, 0.0, 1.0, 0.0, 0.0, 0.0, 0.0, 0.0, 1.0, 0.0, 0.0, 0.0, 0.0, 1.0, 0.0, 1.0, 0.0, 0.0, 1.0, 0.0, 0.0, 0.0, 0.0, 0.0, 1.0, 0.0]\n",
            "######\n",
            "[4.947812580577182e-30, 1.0, 1.2157238676317219e-29, 1.6174806781212983e-29, 0.0, 1.0, 0.0, 0.0, 0.0, 1.0, 0.0, 0.0, 0.0, 1.0, 0.0, 0.0, 0.0, 1.0, 0.0, 0.0, 6.220450965416109e-23, 1.0, 1.2335171850338533e-22, 1.4602908401311203e-22, 1.1023307951391146e-16, 1.0, 1.8353696513052372e-16, 1.929741959472473e-16, 0.0, 1.0, 0.0, 0.0, 5.911954880892809e-32, 1.0, 1.6201343754261893e-31, 2.103001711417702e-31, 2.8411124906695118e-14, 1.0, 4.242702651875707e-14, 4.537245145569413e-14, 0.0, 1.0, 0.0, 0.0, 5.405331477799337e-37, 1.0, 1.5731800748215174e-36, 2.488991085538131e-36, 7.730390536901304e-28, 1.0, 1.5095584311817956e-27, 2.4560196281994732e-27, 1.5717023624802199e-31, 1.0, 3.9465595944676765e-31, 5.59299647883956e-31, 1.4890838892023143e-26, 1.0, 3.262859359081532e-26, 4.1712554944540687e-26, 0.0, 1.0, 0.0, 0.0]\n",
            "[1.0, 0.0, 0.0, 0.0, 0.0, 0.0, 1.0, 0.0, 0.0, 1.0, 0.0, 0.0, 1.0, 0.0, 0.0, 0.0, 0.0, 1.0, 0.0, 0.0, 0.0, 1.0, 0.0, 0.0, 0.0, 0.0, 0.0, 1.0, 0.0, 0.0, 1.0, 0.0, 0.0, 1.0, 0.0, 0.0, 0.0, 0.0, 1.0, 0.0, 0.0, 0.0, 1.0, 0.0, 1.0, 0.0, 0.0, 0.0, 0.0, 0.0, 0.0, 1.0, 1.0, 0.0, 0.0, 0.0, 0.0, 1.0, 0.0, 0.0, 0.0, 1.0, 0.0, 0.0]\n",
            "######\n",
            "[0.0, 1.0, 0.0, 0.0, 1.8916272061477548e-27, 1.0, 4.2225644252140824e-27, 5.553823825114905e-27, 1.2136770434536068e-27, 1.0, 2.6885342614904276e-27, 3.6034522889894394e-27, 0.0, 1.0, 0.0, 0.0, 0.0, 1.0, 0.0, 0.0, 2.802596928649634e-45, 1.0, 1.2611686178923354e-44, 1.2611686178923354e-44, 0.0, 1.0, 0.0, 0.0, 0.0, 1.0, 0.0, 0.0, 1.401298464324817e-45, 1.0, 5.605193857299268e-45, 1.2611686178923354e-44, 0.0, 1.0, 0.0, 0.0, 0.0, 1.0, 0.0, 0.0, 2.095947448566864e-37, 1.0, 6.308826846255794e-37, 9.642075997270613e-37, 0.0, 1.0, 0.0, 0.0, 0.0, 1.0, 0.0, 0.0, 0.0, 1.0, 0.0, 0.0, 0.0, 1.0, 0.0, 0.0]\n",
            "[0.0, 0.0, 1.0, 0.0, 0.0, 1.0, 0.0, 0.0, 1.0, 0.0, 0.0, 0.0, 0.0, 1.0, 0.0, 0.0, 0.0, 1.0, 0.0, 0.0, 0.0, 0.0, 1.0, 0.0, 0.0, 1.0, 0.0, 0.0, 0.0, 0.0, 1.0, 0.0, 0.0, 1.0, 0.0, 0.0, 1.0, 0.0, 0.0, 0.0, 0.0, 0.0, 1.0, 0.0, 0.0, 0.0, 0.0, 1.0, 0.0, 0.0, 0.0, 1.0, 0.0, 0.0, 1.0, 0.0, 0.0, 1.0, 0.0, 0.0, 0.0, 1.0, 0.0, 0.0]\n",
            "######\n",
            "[0.0, 1.0, 0.0, 0.0, 0.0, 1.0, 0.0, 0.0, 1.458438135630185e-28, 1.0, 3.1860322032257775e-28, 4.6100089521373125e-28, 0.0, 1.0, 0.0, 0.0, 0.0, 1.0, 0.0, 0.0, 0.0, 1.0, 0.0, 0.0, 5.4985802675365076e-39, 1.0, 1.6505017398443353e-38, 2.798039345524264e-38, 0.0, 1.0, 0.0, 0.0, 8.219136283036722e-36, 1.0, 2.0993904366516324e-35, 3.725844713273289e-35, 9.093549210078405e-15, 1.0, 1.3663642632155519e-14, 1.4929208111175325e-14, 0.0, 1.0, 0.0, 0.0, 0.0, 1.0, 0.0, 0.0, 0.0, 1.0, 0.0, 0.0, 0.0, 1.0, 0.0, 0.0, 4.3795279095173545e-36, 1.0, 1.3290180456370054e-35, 1.874172922380812e-35, 8.200328548305613e-40, 1.0, 2.5535091201235763e-39, 4.3383331650448455e-39]\n",
            "[0.0, 1.0, 0.0, 0.0, 0.0, 1.0, 0.0, 0.0, 0.0, 0.0, 0.0, 1.0, 0.0, 0.0, 1.0, 0.0, 0.0, 0.0, 0.0, 1.0, 0.0, 0.0, 1.0, 0.0, 1.0, 0.0, 0.0, 0.0, 0.0, 1.0, 0.0, 0.0, 0.0, 0.0, 0.0, 1.0, 0.0, 1.0, 0.0, 0.0, 0.0, 1.0, 0.0, 0.0, 0.0, 0.0, 0.0, 1.0, 0.0, 0.0, 1.0, 0.0, 0.0, 1.0, 0.0, 0.0, 0.0, 0.0, 1.0, 0.0, 1.0, 0.0, 0.0, 0.0]\n",
            "######\n",
            "[4.044245807225575e-26, 1.0, 9.16272233583828e-26, 1.0938684275464762e-25, 1.0339598343987846e-26, 1.0, 2.3795764257374317e-26, 2.870656514081902e-26, 0.0, 1.0, 0.0, 0.0, 0.0, 1.0, 0.0, 0.0, 6.958836925423692e-33, 1.0, 1.86005200835769e-32, 2.6012117760003e-32, 0.0, 1.0, 0.0, 0.0, 0.0, 1.0, 0.0, 0.0, 2.802596928649634e-45, 1.0, 1.5414283107572988e-44, 1.5414283107572988e-44, 1.2392130735532941e-39, 1.0, 3.263821706495969e-39, 6.991756266973246e-39, 1.311314259500477e-31, 1.0, 3.293451171568891e-31, 4.678224424040954e-31, 0.0, 1.0, 0.0, 0.0, 7.712678364278734e-38, 1.0, 1.8335795344943997e-37, 3.947420555515797e-37, 0.0, 1.0, 0.0, 0.0, 0.0, 1.0, 0.0, 0.0, 0.0, 1.0, 0.0, 0.0, 0.0, 1.0, 0.0, 0.0]\n",
            "[0.0, 1.0, 0.0, 0.0, 0.0, 1.0, 0.0, 0.0, 0.0, 1.0, 0.0, 0.0, 0.0, 0.0, 1.0, 0.0, 1.0, 0.0, 0.0, 0.0, 0.0, 0.0, 1.0, 0.0, 0.0, 0.0, 1.0, 0.0, 0.0, 0.0, 1.0, 0.0, 0.0, 1.0, 0.0, 0.0, 1.0, 0.0, 0.0, 0.0, 0.0, 0.0, 1.0, 0.0, 0.0, 1.0, 0.0, 0.0, 0.0, 1.0, 0.0, 0.0, 0.0, 0.0, 1.0, 0.0, 0.0, 0.0, 1.0, 0.0, 0.0, 1.0, 0.0, 0.0]\n",
            "######\n",
            "[7.747276609171205e-28, 1.0, 1.617457597054621e-27, 2.415600906828596e-27, 3.4324065399833625e-14, 1.0, 5.1470045131334075e-14, 5.450856237730617e-14, 0.0, 1.0, 0.0, 0.0, 1.2638793006961024e-12, 1.0, 1.7901267490919026e-12, 1.878664975321631e-12, 0.0, 1.0, 0.0, 0.0, 1.4643797644103716e-37, 1.0, 3.7371148030287e-37, 7.470285343243896e-37, 0.0, 1.0, 0.0, 0.0, 1.401298464324817e-45, 1.0, 7.006492321624085e-45, 1.2611686178923354e-44, 7.677818330912868e-27, 1.0, 1.820931633455946e-26, 2.090776605377557e-26, 6.286949701090612e-34, 1.0, 1.542030570810962e-33, 2.564254784623424e-33, 8.407790785948902e-45, 1.0, 2.2420775429197073e-44, 6.305843089461677e-44, 0.0, 1.0, 0.0, 0.0, 7.80226360949654e-13, 1.0, 1.1151355446686884e-12, 1.1644556846546195e-12, 0.0, 1.0, 0.0, 0.0, 9.693601809066163e-36, 1.0, 2.798951059452162e-35, 4.159366800267808e-35, 3.339329871230185e-27, 1.0, 7.778878808442666e-27, 9.5103622434127e-27]\n",
            "[1.0, 0.0, 0.0, 0.0, 0.0, 0.0, 1.0, 0.0, 0.0, 0.0, 1.0, 0.0, 0.0, 0.0, 1.0, 0.0, 0.0, 0.0, 1.0, 0.0, 0.0, 1.0, 0.0, 0.0, 0.0, 1.0, 0.0, 0.0, 0.0, 1.0, 0.0, 0.0, 0.0, 0.0, 1.0, 0.0, 0.0, 0.0, 0.0, 1.0, 0.0, 1.0, 0.0, 0.0, 0.0, 0.0, 0.0, 1.0, 0.0, 1.0, 0.0, 0.0, 0.0, 0.0, 1.0, 0.0, 1.0, 0.0, 0.0, 0.0, 0.0, 1.0, 0.0, 0.0]\n",
            "######\n",
            "[3.9704390688179367e-41, 1.0, 1.138793223002849e-40, 2.354868056313212e-40, 3.4018535979825125e-28, 1.0, 7.630367846722039e-28, 1.0317252934401088e-27, 0.0, 1.0, 0.0, 0.0, 1.2580765687528948e-37, 1.0, 3.838104477586678e-37, 5.835823818505178e-37, 1.1830392220139052e-38, 1.0, 3.5030539026627373e-38, 6.028953239143722e-38, 3.1808670794854825e-38, 1.0, 9.001088224317544e-38, 1.6086501675452403e-37, 4.0311152923232013e-41, 1.0, 1.2645597601760014e-40, 2.299194468325587e-40, 2.620428128287408e-43, 1.0, 1.2779841994642332e-42, 1.3242270487869521e-42, 2.590161247481807e-32, 1.0, 6.494300072014749e-32, 9.710201647820627e-32, 5.536614977859973e-16, 1.0, 8.378196640078969e-16, 9.67589346691992e-16, 0.0, 1.0, 0.0, 0.0, 0.0, 1.0, 0.0, 0.0, 4.3814506604346155e-28, 1.0, 9.857305233977445e-28, 1.3233675167677068e-27, 0.0, 1.0, 0.0, 0.0, 0.0, 1.0, 0.0, 0.0, 0.0, 1.0, 0.0, 0.0]\n",
            "[0.0, 1.0, 0.0, 0.0, 1.0, 0.0, 0.0, 0.0, 0.0, 0.0, 1.0, 0.0, 0.0, 0.0, 0.0, 1.0, 1.0, 0.0, 0.0, 0.0, 0.0, 1.0, 0.0, 0.0, 1.0, 0.0, 0.0, 0.0, 0.0, 0.0, 1.0, 0.0, 1.0, 0.0, 0.0, 0.0, 0.0, 1.0, 0.0, 0.0, 0.0, 1.0, 0.0, 0.0, 0.0, 0.0, 1.0, 0.0, 0.0, 1.0, 0.0, 0.0, 0.0, 0.0, 1.0, 0.0, 0.0, 0.0, 0.0, 1.0, 0.0, 0.0, 1.0, 0.0]\n",
            "######\n",
            "[1.1598536178828796e-35, 1.0, 3.0794453633112164e-35, 5.028880775131645e-35, 0.0, 1.0, 0.0, 0.0, 2.2887089442806143e-37, 1.0, 6.073252655652238e-37, 1.136018808988914e-36, 8.267170485053907e-40, 1.0, 2.2586450946634196e-39, 4.569208297430074e-39, 0.0, 1.0, 0.0, 0.0, 1.7990402178418445e-38, 1.0, 5.820813333563085e-38, 8.585950191145002e-38, 1.0237721457050903e-24, 1.0, 1.9765365547485216e-24, 2.7247164947329647e-24, 2.2393659621423984e-33, 1.0, 6.628678765844113e-33, 8.201140497674964e-33, 0.0, 1.0, 0.0, 0.0, 0.0, 1.0, 0.0, 0.0, 1.04692119366494e-28, 1.0, 2.284105488018381e-28, 3.3463925933739933e-28, 0.0, 1.0, 0.0, 0.0, 3.052478363480214e-33, 1.0, 7.829823138085312e-33, 1.1910759692528185e-32, 0.0, 1.0, 0.0, 0.0, 2.7474978730323823e-40, 1.0, 7.001601789983592e-40, 1.5880887470223865e-39, 0.0, 1.0, 0.0, 0.0]\n",
            "[1.0, 0.0, 0.0, 0.0, 0.0, 1.0, 0.0, 0.0, 0.0, 1.0, 0.0, 0.0, 0.0, 1.0, 0.0, 0.0, 0.0, 1.0, 0.0, 0.0, 0.0, 0.0, 0.0, 1.0, 0.0, 0.0, 0.0, 1.0, 0.0, 0.0, 0.0, 1.0, 0.0, 0.0, 1.0, 0.0, 1.0, 0.0, 0.0, 0.0, 0.0, 0.0, 0.0, 1.0, 0.0, 1.0, 0.0, 0.0, 0.0, 1.0, 0.0, 0.0, 0.0, 0.0, 1.0, 0.0, 0.0, 1.0, 0.0, 0.0, 0.0, 0.0, 0.0, 1.0]\n",
            "######\n",
            "[3.056231950692426e-42, 1.0, 1.179893306961496e-41, 1.7213550335766053e-41, 1.1210387714598537e-44, 1.0, 3.783505853677006e-44, 7.006492321624085e-44, 0.0, 1.0, 0.0, 0.0, 0.0, 1.0, 0.0, 0.0, 0.0, 1.0, 0.0, 0.0, 0.0, 1.0, 0.0, 0.0, 0.0, 1.0, 0.0, 0.0, 0.0, 1.0, 0.0, 0.0, 0.0, 1.0, 0.0, 0.0, 0.0, 1.0, 0.0, 0.0, 1.401298464324817e-45, 1.0, 5.605193857299268e-45, 9.80908925027372e-45, 0.0, 1.0, 0.0, 0.0, 0.0, 1.0, 0.0, 0.0, 4.031935879318634e-27, 1.0, 9.04385116633158e-27, 1.1495911275158388e-26, 0.0, 1.0, 0.0, 0.0, 0.0, 1.0, 0.0, 0.0]\n",
            "[0.0, 0.0, 0.0, 1.0, 1.0, 0.0, 0.0, 0.0, 0.0, 1.0, 0.0, 0.0, 0.0, 0.0, 1.0, 0.0, 0.0, 0.0, 0.0, 1.0, 0.0, 1.0, 0.0, 0.0, 0.0, 1.0, 0.0, 0.0, 0.0, 0.0, 0.0, 1.0, 0.0, 1.0, 0.0, 0.0, 0.0, 0.0, 1.0, 0.0, 0.0, 0.0, 0.0, 1.0, 0.0, 0.0, 1.0, 0.0, 0.0, 1.0, 0.0, 0.0, 1.0, 0.0, 0.0, 0.0, 0.0, 1.0, 0.0, 0.0, 0.0, 1.0, 0.0, 0.0]\n",
            "######\n",
            "[0.0, 1.0, 0.0, 0.0, 0.0, 1.0, 0.0, 0.0, 1.2375557578595372e-38, 1.0, 3.894485889454603e-38, 6.052041593161323e-38, 0.0, 1.0, 0.0, 0.0, 0.0, 1.0, 0.0, 0.0, 0.0, 1.0, 0.0, 0.0, 0.0, 1.0, 0.0, 0.0, 6.726232628759122e-44, 1.0, 2.396220373995437e-43, 4.484155085839415e-43, 0.0, 1.0, 0.0, 0.0, 1.702714042152364e-36, 1.0, 4.250746921508522e-36, 8.055676274523634e-36, 1.6789343054125623e-20, 1.0, 2.937934216991241e-20, 3.6547841223487535e-20, 0.0, 1.0, 0.0, 0.0, 7.753613635269595e-33, 1.0, 2.153257915271995e-32, 2.83983507210211e-32, 0.0, 1.0, 0.0, 0.0, 0.0, 1.0, 0.0, 0.0, 0.0, 1.0, 0.0, 0.0]\n",
            "[0.0, 1.0, 0.0, 0.0, 1.0, 0.0, 0.0, 0.0, 0.0, 0.0, 0.0, 1.0, 0.0, 0.0, 1.0, 0.0, 0.0, 1.0, 0.0, 0.0, 0.0, 0.0, 1.0, 0.0, 0.0, 1.0, 0.0, 0.0, 0.0, 1.0, 0.0, 0.0, 0.0, 1.0, 0.0, 0.0, 0.0, 1.0, 0.0, 0.0, 0.0, 1.0, 0.0, 0.0, 0.0, 1.0, 0.0, 0.0, 0.0, 1.0, 0.0, 0.0, 0.0, 1.0, 0.0, 0.0, 1.0, 0.0, 0.0, 0.0, 0.0, 0.0, 1.0, 0.0]\n",
            "######\n",
            "[0.0, 1.0, 0.0, 0.0, 7.677818330912868e-27, 1.0, 1.820931633455946e-26, 2.090776605377557e-26, 2.0416506006537096e-26, 1.0, 4.529893540531709e-26, 5.607152440088998e-26, 1.464875375651234e-40, 1.0, 4.992462090788599e-40, 7.792228396540297e-40, 2.190737993206692e-27, 1.0, 4.6308800623516425e-27, 6.598373886054688e-27, 4.5047407644382975e-12, 1.0, 6.291554950632605e-12, 6.4975134647649035e-12, 4.564568599548039e-26, 1.0, 9.89117806613474e-26, 1.2604187815730418e-25, 4.1103987952688905e-24, 1.0, 8.859709448311667e-24, 1.0124553246524933e-23, 0.0, 1.0, 0.0, 0.0, 2.0227661642142127e-26, 1.0, 4.3931201588571495e-26, 5.648522031592018e-26, 0.0, 1.0, 0.0, 0.0, 4.035484519593258e-30, 1.0, 9.943896037334722e-30, 1.3201291317700615e-29, 2.1134314103858372e-17, 1.0, 3.342558438604715e-17, 3.972400557654437e-17, 1.563418468005444e-26, 1.0, 3.5778952756646185e-26, 4.310089158945936e-26, 0.0, 1.0, 0.0, 0.0, 0.0, 1.0, 0.0, 0.0]\n",
            "[0.0, 0.0, 1.0, 0.0, 0.0, 0.0, 1.0, 0.0, 1.0, 0.0, 0.0, 0.0, 0.0, 0.0, 0.0, 1.0, 0.0, 0.0, 0.0, 1.0, 0.0, 1.0, 0.0, 0.0, 0.0, 1.0, 0.0, 0.0, 0.0, 1.0, 0.0, 0.0, 0.0, 1.0, 0.0, 0.0, 0.0, 1.0, 0.0, 0.0, 0.0, 0.0, 0.0, 1.0, 1.0, 0.0, 0.0, 0.0, 0.0, 1.0, 0.0, 0.0, 0.0, 1.0, 0.0, 0.0, 0.0, 0.0, 1.0, 0.0, 0.0, 0.0, 1.0, 0.0]\n",
            "######\n",
            "[0.0, 1.0, 0.0, 0.0, 3.9592090629248376e-39, 1.0, 1.3730512300108038e-38, 1.9291757233670687e-38, 9.919563140625709e-17, 1.0, 1.5397984308031351e-16, 1.8020275228255517e-16, 9.919563140625709e-17, 1.0, 1.5397984308031351e-16, 1.8020275228255517e-16, 0.0, 1.0, 0.0, 0.0, 0.0, 1.0, 0.0, 0.0, 0.0, 1.0, 0.0, 0.0, 0.0, 1.0, 0.0, 0.0, 0.0, 1.0, 0.0, 0.0, 2.8207850858558454e-20, 1.0, 5.114606361431688e-20, 5.8909418619417e-20, 0.0, 1.0, 0.0, 0.0, 7.045278842077088e-31, 1.0, 1.874556703516187e-30, 2.3723751756656954e-30, 0.0, 1.0, 0.0, 0.0, 0.0, 1.0, 0.0, 0.0, 6.300242265853602e-29, 1.0, 1.5397009440742815e-28, 1.9658099350044193e-28, 0.0, 1.0, 0.0, 0.0]\n",
            "[0.0, 0.0, 1.0, 0.0, 0.0, 0.0, 0.0, 1.0, 0.0, 1.0, 0.0, 0.0, 0.0, 1.0, 0.0, 0.0, 0.0, 0.0, 1.0, 0.0, 0.0, 1.0, 0.0, 0.0, 0.0, 0.0, 1.0, 0.0, 0.0, 1.0, 0.0, 0.0, 0.0, 0.0, 0.0, 1.0, 0.0, 0.0, 0.0, 1.0, 0.0, 0.0, 1.0, 0.0, 0.0, 1.0, 0.0, 0.0, 0.0, 1.0, 0.0, 0.0, 0.0, 0.0, 1.0, 0.0, 0.0, 1.0, 0.0, 0.0, 0.0, 0.0, 1.0, 0.0]\n",
            "######\n",
            "[1.961817850054744e-44, 1.0, 6.726232628759122e-44, 1.2891945871788317e-43, 7.96585207886707e-39, 1.0, 2.448045996400026e-38, 4.007456049311234e-38, 0.0, 1.0, 0.0, 0.0, 1.056579042100912e-42, 1.0, 3.5438838162774624e-42, 6.380111908070892e-42, 0.0, 1.0, 0.0, 0.0, 0.0, 1.0, 0.0, 0.0, 0.0, 1.0, 0.0, 0.0, 0.0, 1.0, 0.0, 0.0, 3.535630099804621e-08, 1.0, 4.3677694350208185e-08, 4.262311747993408e-08, 1.5237863474732233e-33, 1.0, 4.374108151615813e-33, 5.787329337160615e-33, 0.0, 1.0, 0.0, 0.0, 2.157124776402971e-37, 1.0, 7.094557540185903e-37, 9.607489709093534e-37, 0.0, 1.0, 0.0, 0.0, 1.2196391477917119e-30, 1.0, 3.192891297398419e-30, 4.022481859361298e-30, 1.5776785007309175e-39, 1.0, 4.74604375583708e-39, 8.330900137912935e-39, 0.0, 1.0, 0.0, 0.0]\n",
            "[1.0, 0.0, 0.0, 0.0, 1.0, 0.0, 0.0, 0.0, 0.0, 0.0, 1.0, 0.0, 1.0, 0.0, 0.0, 0.0, 0.0, 0.0, 1.0, 0.0, 1.0, 0.0, 0.0, 0.0, 0.0, 1.0, 0.0, 0.0, 0.0, 0.0, 0.0, 1.0, 0.0, 1.0, 0.0, 0.0, 0.0, 1.0, 0.0, 0.0, 1.0, 0.0, 0.0, 0.0, 0.0, 0.0, 0.0, 1.0, 0.0, 1.0, 0.0, 0.0, 0.0, 0.0, 1.0, 0.0, 1.0, 0.0, 0.0, 0.0, 0.0, 1.0, 0.0, 0.0]\n",
            "######\n",
            "[0.0, 1.0, 0.0, 0.0, 0.0, 1.0, 0.0, 0.0, 0.0, 1.0, 0.0, 0.0, 7.146622168056567e-44, 1.0, 2.6064151436441598e-43, 4.428103147266422e-43, 9.093313348710944e-36, 1.0, 2.576882211262896e-35, 3.9439327796900313e-35, 0.0, 1.0, 0.0, 0.0, 7.904656475817701e-14, 1.0, 1.167167897704255e-13, 1.2378288769421958e-13, 0.0, 1.0, 0.0, 0.0, 4.162066343429013e-27, 1.0, 8.876712032409856e-27, 1.2261725732292884e-26, 6.798007136101839e-40, 1.0, 2.05746207543877e-39, 3.631291209288187e-39, 2.5538818394863893e-15, 1.0, 3.929226176602142e-15, 4.2905429033300406e-15, 0.0, 1.0, 0.0, 0.0, 1.7325369084933426e-31, 1.0, 4.42959185231661e-31, 6.053748886960748e-31, 0.0, 1.0, 0.0, 0.0, 6.031686033490164e-32, 1.0, 1.5503131848220926e-31, 2.1819262829228717e-31, 0.0, 1.0, 0.0, 0.0]\n",
            "[0.0, 0.0, 0.0, 1.0, 1.0, 0.0, 0.0, 0.0, 0.0, 0.0, 1.0, 0.0, 1.0, 0.0, 0.0, 0.0, 0.0, 1.0, 0.0, 0.0, 0.0, 0.0, 1.0, 0.0, 0.0, 0.0, 1.0, 0.0, 0.0, 0.0, 1.0, 0.0, 0.0, 0.0, 0.0, 1.0, 1.0, 0.0, 0.0, 0.0, 0.0, 0.0, 1.0, 0.0, 0.0, 1.0, 0.0, 0.0, 1.0, 0.0, 0.0, 0.0, 0.0, 0.0, 1.0, 0.0, 1.0, 0.0, 0.0, 0.0, 0.0, 0.0, 1.0, 0.0]\n",
            "######\n",
            "[1.1105425482208462e-34, 1.0, 2.748199951813186e-34, 4.826296491970665e-34, 2.296136435343228e-27, 1.0, 5.574880402382879e-27, 6.387049682162843e-27, 0.0, 1.0, 0.0, 0.0, 0.0, 1.0, 0.0, 0.0, 0.0, 1.0, 0.0, 0.0, 0.0, 1.0, 0.0, 0.0, 0.0, 1.0, 0.0, 0.0, 1.3883187785330135e-32, 1.0, 3.5274701738479655e-32, 5.207260711254233e-32, 0.0, 1.0, 0.0, 0.0, 0.0, 1.0, 0.0, 0.0, 0.0, 1.0, 0.0, 0.0, 0.0, 1.0, 0.0, 0.0, 4.972603926401412e-21, 1.0, 9.247547245186834e-21, 1.0725296523783582e-20, 1.5616070086435761e-41, 1.0, 4.553519359823493e-41, 9.69222095834903e-41, 1.0972596910575476e-29, 1.0, 2.548890040492516e-29, 3.6072035912609925e-29, 0.0, 1.0, 0.0, 0.0]\n",
            "[0.0, 1.0, 0.0, 0.0, 0.0, 0.0, 1.0, 0.0, 0.0, 0.0, 0.0, 1.0, 0.0, 1.0, 0.0, 0.0, 0.0, 0.0, 1.0, 0.0, 0.0, 1.0, 0.0, 0.0, 0.0, 0.0, 0.0, 1.0, 1.0, 0.0, 0.0, 0.0, 0.0, 1.0, 0.0, 0.0, 0.0, 1.0, 0.0, 0.0, 0.0, 0.0, 0.0, 1.0, 0.0, 0.0, 1.0, 0.0, 0.0, 0.0, 0.0, 1.0, 0.0, 1.0, 0.0, 0.0, 1.0, 0.0, 0.0, 0.0, 0.0, 0.0, 1.0, 0.0]\n",
            "######\n",
            "[1.784535723948012e-31, 1.0, 4.414645676744774e-31, 6.37459865942447e-31, 0.0, 1.0, 0.0, 0.0, 0.0, 1.0, 0.0, 0.0, 0.0, 1.0, 0.0, 0.0, 0.0, 1.0, 0.0, 0.0, 0.0, 1.0, 0.0, 0.0, 2.0386930838076034e-40, 1.0, 5.77164008889177e-40, 1.1838463699293563e-39, 0.0, 1.0, 0.0, 0.0, 0.0, 1.0, 0.0, 0.0, 0.0, 1.0, 0.0, 0.0, 0.0, 1.0, 0.0, 0.0, 0.0, 1.0, 0.0, 0.0, 0.0, 1.0, 0.0, 0.0, 1.0782030289370923e-20, 1.0, 2.0191490061529343e-20, 2.2703201373326737e-20, 1.868912154681994e-34, 1.0, 5.595868766225016e-34, 7.2428630847117385e-34, 2.192161890321993e-39, 1.0, 7.397510645109282e-39, 1.0896007805425728e-38]\n",
            "[1.0, 0.0, 0.0, 0.0, 0.0, 1.0, 0.0, 0.0, 0.0, 0.0, 1.0, 0.0, 0.0, 1.0, 0.0, 0.0, 0.0, 0.0, 0.0, 1.0, 0.0, 0.0, 0.0, 1.0, 0.0, 1.0, 0.0, 0.0, 0.0, 0.0, 0.0, 1.0, 0.0, 0.0, 0.0, 1.0, 0.0, 0.0, 0.0, 1.0, 0.0, 0.0, 1.0, 0.0, 0.0, 0.0, 1.0, 0.0, 0.0, 0.0, 1.0, 0.0, 0.0, 0.0, 0.0, 1.0, 0.0, 0.0, 0.0, 1.0, 0.0, 0.0, 0.0, 1.0]\n",
            "######\n",
            "[4.855421620320044e-10, 1.0, 6.211600123151584e-10, 6.448505063261223e-10, 5.235348288246887e-23, 1.0, 1.0549906415531378e-22, 1.246154610517749e-22, 0.0, 1.0, 0.0, 0.0, 4.590051210788441e-38, 1.0, 1.2543004617551094e-37, 2.308420168999193e-37, 0.0, 1.0, 0.0, 0.0, 0.0, 1.0, 0.0, 0.0, 0.0, 1.0, 0.0, 0.0, 0.0, 1.0, 0.0, 0.0, 0.0, 1.0, 0.0, 0.0, 0.0, 1.0, 0.0, 0.0, 2.565954935163797e-35, 1.0, 6.996413806399634e-35, 1.0938008224768743e-34, 0.0, 1.0, 0.0, 0.0, 0.0, 1.0, 0.0, 0.0, 0.0, 1.0, 0.0, 0.0, 1.056579042100912e-42, 1.0, 3.5438838162774624e-42, 6.380111908070892e-42, 0.0, 1.0, 0.0, 0.0]\n",
            "[0.0, 1.0, 0.0, 0.0, 0.0, 1.0, 0.0, 0.0, 0.0, 0.0, 1.0, 0.0, 0.0, 1.0, 0.0, 0.0, 0.0, 0.0, 1.0, 0.0, 0.0, 1.0, 0.0, 0.0, 0.0, 1.0, 0.0, 0.0, 0.0, 0.0, 0.0, 1.0, 0.0, 1.0, 0.0, 0.0, 1.0, 0.0, 0.0, 0.0, 1.0, 0.0, 0.0, 0.0, 0.0, 0.0, 1.0, 0.0, 0.0, 1.0, 0.0, 0.0, 0.0, 0.0, 1.0, 0.0, 1.0, 0.0, 0.0, 0.0, 0.0, 1.0, 0.0, 0.0]\n",
            "######\n",
            "[0.0, 1.0, 0.0, 0.0, 2.466513343217026e-22, 1.0, 4.775851262887432e-22, 5.635985309133055e-22, 4.149059568137048e-12, 1.0, 5.829657069578165e-12, 6.018405392105297e-12, 8.726679100698817e-24, 1.0, 1.7525721989955367e-23, 2.1490088826602007e-23, 0.0, 1.0, 0.0, 0.0, 0.0, 1.0, 0.0, 0.0, 0.0, 1.0, 0.0, 0.0, 0.0, 1.0, 0.0, 0.0, 0.0, 1.0, 0.0, 0.0, 2.747771493305861e-33, 1.0, 7.8885243872295e-33, 1.0457535699540931e-32, 0.0, 1.0, 0.0, 0.0, 0.0, 1.0, 0.0, 0.0, 0.0, 1.0, 0.0, 0.0, 0.0, 1.0, 0.0, 0.0, 2.7829787501490867e-42, 1.0, 8.128932391548264e-42, 1.7554065862596983e-41, 0.0, 1.0, 0.0, 0.0]\n",
            "[0.0, 0.0, 0.0, 1.0, 0.0, 1.0, 0.0, 0.0, 0.0, 1.0, 0.0, 0.0, 1.0, 0.0, 0.0, 0.0, 0.0, 0.0, 1.0, 0.0, 0.0, 0.0, 0.0, 1.0, 0.0, 1.0, 0.0, 0.0, 0.0, 0.0, 0.0, 1.0, 0.0, 1.0, 0.0, 0.0, 0.0, 1.0, 0.0, 0.0, 0.0, 0.0, 0.0, 1.0, 0.0, 1.0, 0.0, 0.0, 0.0, 0.0, 1.0, 0.0, 0.0, 0.0, 0.0, 1.0, 0.0, 1.0, 0.0, 0.0, 1.0, 0.0, 0.0, 0.0]\n",
            "######\n",
            "[0.0, 1.0, 0.0, 0.0, 1.0647730685503977e-33, 1.0, 2.9386321029450602e-33, 4.101232933777758e-33, 0.0, 1.0, 0.0, 0.0, 0.0, 1.0, 0.0, 0.0, 0.0, 1.0, 0.0, 0.0, 9.732469762392543e-21, 1.0, 1.7425218762980156e-20, 2.1204539127075316e-20, 0.0, 1.0, 0.0, 0.0, 0.0, 1.0, 0.0, 0.0, 0.0, 1.0, 0.0, 0.0, 0.0, 1.0, 0.0, 0.0, 0.0, 1.0, 0.0, 0.0, 0.0, 1.0, 0.0, 0.0, 0.0, 1.0, 0.0, 0.0, 0.0, 1.0, 0.0, 0.0, 0.0, 1.0, 0.0, 0.0, 1.288494740316269e-31, 1.0, 3.3746152949112473e-31, 4.60348226143601e-31]\n",
            "[0.0, 0.0, 1.0, 0.0, 0.0, 0.0, 0.0, 1.0, 0.0, 0.0, 1.0, 0.0, 1.0, 0.0, 0.0, 0.0, 0.0, 0.0, 0.0, 1.0, 0.0, 1.0, 0.0, 0.0, 0.0, 1.0, 0.0, 0.0, 0.0, 1.0, 0.0, 0.0, 1.0, 0.0, 0.0, 0.0, 0.0, 0.0, 1.0, 0.0, 0.0, 0.0, 1.0, 0.0, 0.0, 0.0, 1.0, 0.0, 0.0, 0.0, 1.0, 0.0, 0.0, 1.0, 0.0, 0.0, 0.0, 1.0, 0.0, 0.0, 0.0, 1.0, 0.0, 0.0]\n",
            "######\n",
            "[2.4018478110804202e-14, 1.0, 3.5741585201459064e-14, 3.864550213584887e-14, 0.0, 1.0, 0.0, 0.0, 0.0, 1.0, 0.0, 0.0, 0.0, 1.0, 0.0, 0.0, 5.518669282321068e-39, 1.0, 1.8279008004936927e-38, 2.681605175863822e-38, 1.474423038701274e-24, 1.0, 3.0793216989738405e-24, 3.7308292988213906e-24, 0.0, 1.0, 0.0, 0.0, 0.0, 1.0, 0.0, 0.0, 0.0, 1.0, 0.0, 0.0, 1.0257368068710311e-27, 1.0, 2.3132096117072264e-27, 3.1011370186841937e-27, 0.0, 1.0, 0.0, 0.0, 0.0, 1.0, 0.0, 0.0, 1.2238625877830047e-21, 1.0, 2.168031701720641e-21, 2.809400608778801e-21, 1.1589593522343903e-14, 1.0, 1.7368034500820848e-14, 1.9124343764425483e-14, 0.0, 1.0, 0.0, 0.0, 3.9614055803050024e-29, 1.0, 9.969463208736294e-29, 1.2315998197384473e-28]\n",
            "[0.0, 0.0, 1.0, 0.0, 0.0, 1.0, 0.0, 0.0, 0.0, 0.0, 1.0, 0.0, 0.0, 0.0, 1.0, 0.0, 0.0, 0.0, 0.0, 1.0, 0.0, 1.0, 0.0, 0.0, 0.0, 1.0, 0.0, 0.0, 0.0, 0.0, 1.0, 0.0, 1.0, 0.0, 0.0, 0.0, 0.0, 1.0, 0.0, 0.0, 0.0, 0.0, 1.0, 0.0, 0.0, 0.0, 1.0, 0.0, 0.0, 0.0, 0.0, 1.0, 0.0, 1.0, 0.0, 0.0, 0.0, 1.0, 0.0, 0.0, 0.0, 1.0, 0.0, 0.0]\n",
            "######\n",
            "[1.0457628622282245e-22, 1.0, 2.1336450907789887e-22, 2.41331357351088e-22, 0.0, 1.0, 0.0, 0.0, 2.5282383418471002e-26, 1.0, 5.528524578253841e-26, 7.09273036642055e-26, 5.571208362721152e-25, 1.0, 1.1639156521003187e-24, 1.4419997708129458e-24, 2.900099514774112e-26, 1.0, 6.333892397916602e-26, 8.113604508330795e-26, 5.024842795916227e-32, 1.0, 1.25276453157811e-31, 1.8509009611606912e-31, 2.7829787501490867e-42, 1.0, 8.128932391548264e-42, 1.7554065862596983e-41, 0.0, 1.0, 0.0, 0.0, 1.401298464324817e-45, 1.0, 4.203895392974451e-45, 8.407790785948902e-45, 0.0, 1.0, 0.0, 0.0, 0.0, 1.0, 0.0, 0.0, 1.0591046887512073e-20, 1.0, 1.882197461958703e-20, 2.3174132098159368e-20, 0.0, 1.0, 0.0, 0.0, 9.609319876277126e-30, 1.0, 2.2182003458773823e-29, 3.205376965810932e-29, 3.2229864679470793e-44, 1.0, 1.1350517561031018e-43, 2.1860256043467146e-43, 7.24577605827983e-16, 1.0, 1.0931189942003689e-15, 1.26004536530255e-15]\n",
            "[0.0, 1.0, 0.0, 0.0, 0.0, 1.0, 0.0, 0.0, 0.0, 1.0, 0.0, 0.0, 0.0, 1.0, 0.0, 0.0, 0.0, 1.0, 0.0, 0.0, 0.0, 1.0, 0.0, 0.0, 0.0, 1.0, 0.0, 0.0, 0.0, 1.0, 0.0, 0.0, 1.0, 0.0, 0.0, 0.0, 0.0, 1.0, 0.0, 0.0, 0.0, 1.0, 0.0, 0.0, 0.0, 1.0, 0.0, 0.0, 0.0, 0.0, 1.0, 0.0, 1.0, 0.0, 0.0, 0.0, 1.0, 0.0, 0.0, 0.0, 0.0, 1.0, 0.0, 0.0]\n",
            "######\n",
            "[4.57543142371071e-14, 1.0, 6.773977266703174e-14, 7.255823817210044e-14, 2.978426018188443e-14, 1.0, 4.4226232918942454e-14, 4.762316707434752e-14, 0.0, 1.0, 0.0, 0.0, 6.577761177669758e-36, 1.0, 1.6165750731224604e-35, 3.064211863400084e-35, 0.0, 1.0, 0.0, 0.0, 1.639014735812879e-40, 1.0, 4.5421408162931756e-40, 9.403511435744188e-40, 0.0, 1.0, 0.0, 0.0, 0.0, 1.0, 0.0, 0.0, 0.0, 1.0, 0.0, 0.0, 8.61617916288095e-28, 1.0, 1.864838290993306e-27, 2.608740672778531e-27, 5.7518256425104395e-34, 1.0, 1.5793819038083403e-33, 2.2922086576446835e-33, 0.0, 1.0, 0.0, 0.0, 0.0, 1.0, 0.0, 0.0, 0.0, 1.0, 0.0, 0.0, 1.401298464324817e-45, 1.0, 4.203895392974451e-45, 8.407790785948902e-45, 3.1150864861940683e-42, 1.0, 1.1818551248115507e-41, 1.7476994447059119e-41]\n",
            "[0.0, 0.0, 1.0, 0.0, 0.0, 0.0, 1.0, 0.0, 0.0, 0.0, 0.0, 1.0, 0.0, 1.0, 0.0, 0.0, 1.0, 0.0, 0.0, 0.0, 0.0, 1.0, 0.0, 0.0, 0.0, 0.0, 0.0, 1.0, 0.0, 0.0, 1.0, 0.0, 0.0, 0.0, 1.0, 0.0, 0.0, 0.0, 0.0, 1.0, 1.0, 0.0, 0.0, 0.0, 0.0, 1.0, 0.0, 0.0, 0.0, 1.0, 0.0, 0.0, 0.0, 0.0, 1.0, 0.0, 0.0, 1.0, 0.0, 0.0, 0.0, 0.0, 1.0, 0.0]\n",
            "######\n",
            "[2.4108299178596942e-14, 1.0, 3.5868064161143076e-14, 3.8773526083628676e-14, 1.3794768275755633e-31, 1.0, 3.7693977845699374e-31, 4.772969738914971e-31, 0.0, 1.0, 0.0, 0.0, 3.1470725249407466e-38, 1.0, 9.059165879950565e-38, 1.5692293996662403e-37, 0.0, 1.0, 0.0, 0.0, 1.1105425482208462e-34, 1.0, 2.748199951813186e-34, 4.826296491970665e-34, 0.0, 1.0, 0.0, 0.0, 0.0, 1.0, 0.0, 0.0, 4.702270806679115e-31, 1.0, 1.2614496950990474e-30, 1.5944758963254235e-30, 0.0, 1.0, 0.0, 0.0, 0.0, 1.0, 0.0, 0.0, 1.2436523870882752e-41, 1.0, 3.4951186297189587e-41, 7.650108706288474e-41, 1.2632902849662833e-21, 1.0, 2.229747332183731e-21, 2.8946248495755546e-21, 5.783866034284172e-25, 1.0, 1.1364071848667436e-24, 1.5516854562652041e-24, 0.0, 1.0, 0.0, 0.0, 0.0, 1.0, 0.0, 0.0]\n",
            "[0.0, 1.0, 0.0, 0.0, 0.0, 1.0, 0.0, 0.0, 0.0, 0.0, 0.0, 1.0, 0.0, 1.0, 0.0, 0.0, 0.0, 1.0, 0.0, 0.0, 0.0, 1.0, 0.0, 0.0, 0.0, 0.0, 1.0, 0.0, 0.0, 0.0, 1.0, 0.0, 0.0, 1.0, 0.0, 0.0, 1.0, 0.0, 0.0, 0.0, 0.0, 1.0, 0.0, 0.0, 0.0, 1.0, 0.0, 0.0, 0.0, 0.0, 0.0, 1.0, 0.0, 0.0, 0.0, 1.0, 1.0, 0.0, 0.0, 0.0, 1.0, 0.0, 0.0, 0.0]\n",
            "######\n",
            "[0.0, 1.0, 0.0, 0.0, 0.0, 1.0, 0.0, 0.0, 0.0, 1.0, 0.0, 0.0, 0.0, 1.0, 0.0, 0.0, 0.0, 1.0, 0.0, 0.0, 2.2420775429197073e-44, 1.0, 7.567011707354012e-44, 1.5274153261140506e-43, 0.0, 1.0, 0.0, 0.0, 1.966897142203576e-36, 1.0, 5.784076130715981e-36, 8.67729783365043e-36, 1.849013323676596e-41, 1.0, 5.939823930580035e-41, 1.0590313144134805e-40, 5.659622890463594e-36, 1.0, 1.6376161637148464e-35, 2.4367854399583273e-35, 0.0, 1.0, 0.0, 0.0, 6.637374256318021e-28, 1.0, 1.4959836102652794e-27, 2.009950756734068e-27, 0.0, 1.0, 0.0, 0.0, 2.7698268667752824e-35, 1.0, 8.092795321112918e-35, 1.1496478244004719e-34, 0.0, 1.0, 0.0, 0.0, 0.0, 1.0, 0.0, 0.0]\n",
            "[0.0, 1.0, 0.0, 0.0, 0.0, 1.0, 0.0, 0.0, 0.0, 0.0, 1.0, 0.0, 0.0, 0.0, 0.0, 1.0, 0.0, 0.0, 1.0, 0.0, 1.0, 0.0, 0.0, 0.0, 0.0, 0.0, 1.0, 0.0, 1.0, 0.0, 0.0, 0.0, 0.0, 1.0, 0.0, 0.0, 1.0, 0.0, 0.0, 0.0, 0.0, 0.0, 0.0, 1.0, 0.0, 1.0, 0.0, 0.0, 0.0, 0.0, 0.0, 1.0, 0.0, 0.0, 0.0, 1.0, 0.0, 1.0, 0.0, 0.0, 0.0, 0.0, 1.0, 0.0]\n",
            "######\n",
            "[4.590051210788441e-38, 1.0, 1.2543004617551094e-37, 2.308420168999193e-37, 3.5790616922650186e-30, 1.0, 8.525474964366982e-30, 1.1909005866711702e-29, 0.0, 1.0, 0.0, 0.0, 1.5899132376229374e-41, 1.0, 4.456969895631513e-41, 9.685774985413136e-41, 9.80908925027372e-45, 1.0, 3.363116314379561e-44, 6.726232628759122e-44, 0.0, 1.0, 0.0, 0.0, 1.3738769169706076e-26, 1.0, 2.9829727425042815e-26, 3.8415680273004574e-26, 2.0955429885400934e-34, 1.0, 5.949186552238694e-34, 8.336929196978139e-34, 3.9062231653917876e-39, 1.0, 1.0879228657613903e-38, 2.0907160090359693e-38, 0.0, 1.0, 0.0, 0.0, 0.0, 1.0, 0.0, 0.0, 2.88290475747386e-14, 1.0, 4.2989331034857733e-14, 4.609171117692101e-14, 5.605193857299268e-44, 1.0, 2.228064558276459e-43, 3.4051552683093055e-43, 0.0, 1.0, 0.0, 0.0, 5.156225716137868e-16, 1.0, 8.46396719631794e-16, 8.741007321167588e-16, 9.979226460444167e-32, 1.0, 2.735162119688224e-31, 3.479267676173994e-31]\n",
            "[0.0, 1.0, 0.0, 0.0, 1.0, 0.0, 0.0, 0.0, 0.0, 1.0, 0.0, 0.0, 0.0, 1.0, 0.0, 0.0, 1.0, 0.0, 0.0, 0.0, 0.0, 0.0, 1.0, 0.0, 0.0, 1.0, 0.0, 0.0, 0.0, 0.0, 0.0, 1.0, 0.0, 1.0, 0.0, 0.0, 0.0, 0.0, 1.0, 0.0, 0.0, 1.0, 0.0, 0.0, 0.0, 0.0, 1.0, 0.0, 0.0, 1.0, 0.0, 0.0, 0.0, 1.0, 0.0, 0.0, 0.0, 0.0, 0.0, 1.0, 0.0, 1.0, 0.0, 0.0]\n",
            "######\n",
            "[2.2438032950387892e-26, 1.0, 4.847165384743031e-26, 6.218093163708398e-26, 0.0, 1.0, 0.0, 0.0, 0.0, 1.0, 0.0, 0.0, 1.5038276300385554e-35, 1.0, 3.9745926340542277e-35, 6.718638981170558e-35, 0.0, 1.0, 0.0, 0.0, 3.584636356674358e-30, 1.0, 8.047960194882164e-30, 1.2200259136449968e-29, 4.242562989857842e-30, 1.0, 8.733712378021929e-30, 1.5136509360171212e-29, 1.8216880036222622e-44, 1.0, 6.305843089461677e-44, 1.2191296639625909e-43, 1.301092014868334e-20, 1.0, 2.4816636529289785e-20, 2.721335681124524e-20, 2.114559382666149e-42, 1.0, 6.689798868686677e-42, 1.3187619847760853e-41, 0.0, 1.0, 0.0, 0.0, 7.447918665115092e-30, 1.0, 1.9399960038287234e-29, 2.3350881939310586e-29, 1.2027251194449617e-29, 1.0, 2.700228110889696e-29, 4.0063585907663234e-29, 0.0, 1.0, 0.0, 0.0, 3.7862964617686182e-34, 1.0, 1.0878799814097022e-33, 1.4771184870616092e-33, 3.363116314379561e-44, 1.0, 9.80908925027372e-44, 2.368194404708941e-43]\n",
            "[0.0, 1.0, 0.0, 0.0, 0.0, 0.0, 1.0, 0.0, 0.0, 1.0, 0.0, 0.0, 1.0, 0.0, 0.0, 0.0, 0.0, 0.0, 1.0, 0.0, 0.0, 0.0, 0.0, 1.0, 0.0, 1.0, 0.0, 0.0, 0.0, 1.0, 0.0, 0.0, 0.0, 1.0, 0.0, 0.0, 0.0, 1.0, 0.0, 0.0, 0.0, 0.0, 0.0, 1.0, 0.0, 0.0, 1.0, 0.0, 0.0, 0.0, 0.0, 1.0, 0.0, 0.0, 1.0, 0.0, 0.0, 1.0, 0.0, 0.0, 0.0, 1.0, 0.0, 0.0]\n",
            "######\n",
            "[0.0, 1.0, 0.0, 0.0, 6.655136530753225e-08, 0.9999996423721313, 8.143909724367404e-08, 7.915660660273716e-08, 0.0, 1.0, 0.0, 0.0, 0.0, 1.0, 0.0, 0.0, 0.0, 1.0, 0.0, 0.0, 1.7476407112748547e-28, 1.0, 4.403283002284189e-28, 5.117375936686686e-28, 0.0, 1.0, 0.0, 0.0, 0.0, 1.0, 0.0, 0.0, 0.0, 1.0, 0.0, 0.0, 0.0, 1.0, 0.0, 0.0, 3.325948016938517e-24, 1.0, 6.78748386854461e-24, 8.341807275676874e-24, 0.0, 1.0, 0.0, 0.0, 0.0, 1.0, 0.0, 0.0, 0.0, 1.0, 0.0, 0.0, 6.233449209822929e-29, 1.0, 1.4618024945017864e-28, 1.9423294786049362e-28, 0.0, 1.0, 0.0, 0.0]\n",
            "[0.0, 1.0, 0.0, 0.0, 0.0, 1.0, 0.0, 0.0, 0.0, 1.0, 0.0, 0.0, 0.0, 0.0, 0.0, 1.0, 0.0, 0.0, 1.0, 0.0, 0.0, 0.0, 1.0, 0.0, 0.0, 0.0, 1.0, 0.0, 0.0, 0.0, 1.0, 0.0, 0.0, 0.0, 1.0, 0.0, 0.0, 0.0, 0.0, 1.0, 1.0, 0.0, 0.0, 0.0, 0.0, 0.0, 1.0, 0.0, 0.0, 1.0, 0.0, 0.0, 1.0, 0.0, 0.0, 0.0, 0.0, 1.0, 0.0, 0.0, 0.0, 0.0, 1.0, 0.0]\n",
            "######\n",
            "[3.8944371770195785e-25, 1.0, 8.570104016078287e-25, 9.929176263344071e-25, 6.358812171413155e-41, 1.0, 2.184750422744179e-40, 3.4405660805027936e-40, 0.0, 1.0, 0.0, 0.0, 6.673236896403978e-08, 0.9999996423721313, 8.203839030329618e-08, 7.939506474485825e-08, 2.4482588020600054e-32, 1.0, 6.527133392474742e-32, 9.101522444504391e-32, 0.0, 1.0, 0.0, 0.0, 0.0, 1.0, 0.0, 0.0, 0.0, 1.0, 0.0, 0.0, 5.269721889282122e-34, 1.0, 1.2564963808405051e-33, 2.3081254021677942e-33, 0.0, 1.0, 0.0, 0.0, 0.0, 1.0, 0.0, 0.0, 7.006492321624085e-45, 1.0, 1.961817850054744e-44, 5.044674471569341e-44, 1.0410489476885146e-32, 1.0, 2.8881893260967727e-32, 3.815734596385001e-32, 0.0, 1.0, 0.0, 0.0, 0.0, 1.0, 0.0, 0.0, 5.63065311428474e-23, 1.0, 1.0868531752771214e-22, 1.3583450200630881e-22]\n",
            "[0.0, 0.0, 1.0, 0.0, 0.0, 0.0, 0.0, 1.0, 0.0, 1.0, 0.0, 0.0, 0.0, 1.0, 0.0, 0.0, 0.0, 1.0, 0.0, 0.0, 0.0, 1.0, 0.0, 0.0, 0.0, 0.0, 0.0, 1.0, 0.0, 0.0, 1.0, 0.0, 0.0, 1.0, 0.0, 0.0, 0.0, 0.0, 0.0, 1.0, 0.0, 0.0, 1.0, 0.0, 0.0, 0.0, 0.0, 1.0, 0.0, 1.0, 0.0, 0.0, 0.0, 0.0, 0.0, 1.0, 0.0, 0.0, 1.0, 0.0, 0.0, 1.0, 0.0, 0.0]\n",
            "######\n",
            "[0.0, 1.0, 0.0, 0.0, 1.5870051830380946e-31, 1.0, 3.922904181250599e-31, 5.641509130697996e-31, 3.2007488612848286e-35, 1.0, 9.093630037679726e-35, 1.3296830494235594e-34, 1.401298464324817e-45, 1.0, 4.203895392974451e-45, 8.407790785948902e-45, 2.235711514426566e-19, 1.0, 3.784332690866319e-19, 4.598139860865896e-19, 1.056579042100912e-42, 1.0, 3.5438838162774624e-42, 6.380111908070892e-42, 6.216165673760755e-28, 1.0, 1.3263694637720232e-27, 1.896837231833311e-27, 7.006492321624085e-45, 1.0, 1.961817850054744e-44, 5.044674471569341e-44, 4.488347950210878e-36, 1.0, 1.1266758925013641e-35, 2.046834704115967e-35, 0.0, 1.0, 0.0, 0.0, 0.0, 1.0, 0.0, 0.0, 0.0, 1.0, 0.0, 0.0, 0.0, 1.0, 0.0, 0.0, 3.475469698990239e-26, 1.0, 7.97539237995058e-26, 9.226487565181008e-26, 0.0, 1.0, 0.0, 0.0, 0.0, 1.0, 0.0, 0.0]\n",
            "[0.0, 0.0, 1.0, 0.0, 1.0, 0.0, 0.0, 0.0, 0.0, 0.0, 0.0, 1.0, 1.0, 0.0, 0.0, 0.0, 0.0, 1.0, 0.0, 0.0, 1.0, 0.0, 0.0, 0.0, 0.0, 0.0, 1.0, 0.0, 0.0, 0.0, 0.0, 1.0, 0.0, 0.0, 0.0, 1.0, 0.0, 1.0, 0.0, 0.0, 0.0, 0.0, 1.0, 0.0, 0.0, 0.0, 1.0, 0.0, 0.0, 0.0, 1.0, 0.0, 0.0, 0.0, 1.0, 0.0, 0.0, 0.0, 1.0, 0.0, 1.0, 0.0, 0.0, 0.0]\n",
            "######\n",
            "[0.0, 1.0, 2.802596928649634e-45, 4.203895392974451e-45, 0.0, 1.0, 0.0, 0.0, 1.0080376500369677e-33, 1.0, 2.621581991074096e-33, 3.997648371583298e-33, 1.3739954362919727e-29, 1.0, 3.084368981845759e-29, 4.5498545164396323e-29, 0.0, 1.0, 0.0, 0.0, 2.3401684354224445e-43, 1.0, 1.1014205929593062e-42, 1.2135244701052916e-42, 1.824082676712093e-24, 1.0, 3.7997721920636335e-24, 4.590854529593748e-24, 0.0, 1.0, 0.0, 0.0, 2.6494755569044907e-22, 1.0, 5.320372789462439e-22, 6.013061831570657e-22, 0.0, 1.0, 0.0, 0.0, 3.274355774179964e-26, 1.0, 7.031415536264665e-26, 9.00979980046844e-26, 0.0, 1.0, 0.0, 0.0, 0.0, 1.0, 0.0, 0.0, 0.0, 1.0, 0.0, 0.0, 5.184804318001823e-44, 1.0, 1.9057659114817512e-43, 3.29305139116332e-43, 0.0, 1.0, 0.0, 0.0]\n",
            "[0.0, 1.0, 0.0, 0.0, 0.0, 1.0, 0.0, 0.0, 1.0, 0.0, 0.0, 0.0, 0.0, 0.0, 0.0, 1.0, 1.0, 0.0, 0.0, 0.0, 0.0, 0.0, 1.0, 0.0, 0.0, 1.0, 0.0, 0.0, 0.0, 0.0, 1.0, 0.0, 0.0, 1.0, 0.0, 0.0, 0.0, 0.0, 1.0, 0.0, 0.0, 1.0, 0.0, 0.0, 0.0, 0.0, 1.0, 0.0, 0.0, 1.0, 0.0, 0.0, 0.0, 0.0, 1.0, 0.0, 1.0, 0.0, 0.0, 0.0, 0.0, 0.0, 1.0, 0.0]\n",
            "######\n",
            "[0.0, 1.0, 0.0, 0.0, 2.329600761186157e-07, 0.9999992847442627, 2.8201375812386686e-07, 2.7021008008887293e-07, 5.067593615277314e-33, 1.0, 1.3637324325648022e-32, 1.9002434826434488e-32, 1.1115586398266771e-36, 1.0, 3.254489271720932e-36, 5.0256372602017154e-36, 0.0, 1.0, 0.0, 0.0, 0.0, 1.0, 0.0, 0.0, 3.0828566215145976e-44, 1.0, 1.1630777253895982e-43, 1.9898438193412402e-43, 0.0, 1.0, 0.0, 0.0, 0.0, 1.0, 0.0, 0.0, 0.0, 1.0, 0.0, 0.0, 0.0, 1.0, 0.0, 0.0, 0.0, 1.0, 2.802596928649634e-45, 4.203895392974451e-45, 0.0, 1.0, 0.0, 0.0, 0.0, 1.0, 0.0, 0.0, 0.0, 1.0, 0.0, 0.0, 9.861806398189884e-23, 1.0, 1.8040097796571641e-22, 2.3818063427386078e-22]\n",
            "[0.0, 0.0, 0.0, 1.0, 0.0, 1.0, 0.0, 0.0, 1.0, 0.0, 0.0, 0.0, 0.0, 1.0, 0.0, 0.0, 0.0, 1.0, 0.0, 0.0, 1.0, 0.0, 0.0, 0.0, 1.0, 0.0, 0.0, 0.0, 0.0, 0.0, 1.0, 0.0, 0.0, 0.0, 1.0, 0.0, 1.0, 0.0, 0.0, 0.0, 1.0, 0.0, 0.0, 0.0, 0.0, 1.0, 0.0, 0.0, 0.0, 1.0, 0.0, 0.0, 0.0, 1.0, 0.0, 0.0, 0.0, 0.0, 0.0, 1.0, 0.0, 0.0, 0.0, 1.0]\n",
            "######\n",
            "[0.0, 1.0, 1.401298464324817e-45, 2.802596928649634e-45, 0.0, 1.0, 0.0, 0.0, 0.0, 1.0, 0.0, 0.0, 0.0, 1.0, 0.0, 0.0, 3.5292351198410077e-31, 1.0, 9.90206348477314e-31, 1.1596398472556849e-30, 6.70826898942538e-27, 1.0, 1.509432494622732e-26, 1.881193827341427e-26, 4.444496845178548e-34, 1.0, 1.3252527902945277e-33, 1.7452311160689107e-33, 0.0, 1.0, 0.0, 0.0, 0.0, 1.0, 0.0, 0.0, 0.0, 1.0, 0.0, 0.0, 2.639849564483564e-38, 1.0, 8.479578185237491e-38, 1.2765728116509652e-37, 2.2531478007878734e-41, 1.0, 6.816756509554505e-41, 1.3492402263751501e-40, 1.7841645221174766e-35, 1.0, 4.87475383590154e-35, 7.607118707906574e-35, 1.8644482837613685e-33, 1.0, 5.063574159281471e-33, 7.13098439968177e-33, 4.632892884950031e-20, 1.0, 8.547466649602987e-20, 9.631976042137873e-20, 6.7714822377303275e-37, 1.0, 1.689076829705309e-36, 3.2746138010137725e-36]\n",
            "[0.0, 1.0, 0.0, 0.0, 1.0, 0.0, 0.0, 0.0, 0.0, 0.0, 1.0, 0.0, 0.0, 0.0, 1.0, 0.0, 0.0, 0.0, 1.0, 0.0, 1.0, 0.0, 0.0, 0.0, 0.0, 1.0, 0.0, 0.0, 1.0, 0.0, 0.0, 0.0, 0.0, 0.0, 1.0, 0.0, 1.0, 0.0, 0.0, 0.0, 0.0, 1.0, 0.0, 0.0, 0.0, 1.0, 0.0, 0.0, 1.0, 0.0, 0.0, 0.0, 1.0, 0.0, 0.0, 0.0, 0.0, 1.0, 0.0, 0.0, 0.0, 1.0, 0.0, 0.0]\n",
            "######\n"
          ]
        }
      ]
    }
  ]
}